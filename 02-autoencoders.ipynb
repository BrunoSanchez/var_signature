{
 "cells": [
  {
   "cell_type": "code",
   "execution_count": 1,
   "metadata": {
    "collapsed": true
   },
   "outputs": [],
   "source": [
    "import numpy as np\n",
    "import pandas as pd"
   ]
  },
  {
   "cell_type": "code",
   "execution_count": 2,
   "metadata": {},
   "outputs": [
    {
     "name": "stderr",
     "output_type": "stream",
     "text": [
      "Using TensorFlow backend.\n"
     ]
    }
   ],
   "source": [
    "from keras.layers import Input, Dense\n",
    "from keras.models import Model"
   ]
  },
  {
   "cell_type": "code",
   "execution_count": 5,
   "metadata": {
    "collapsed": true
   },
   "outputs": [],
   "source": [
    "# use Matplotlib (don't ask)\n",
    "import matplotlib.pyplot as plt\n",
    "%matplotlib inline"
   ]
  },
  {
   "cell_type": "code",
   "execution_count": 3,
   "metadata": {
    "collapsed": true
   },
   "outputs": [],
   "source": [
    "# this is the size of our encoded representations\n",
    "encoding_dim = 32  # 32 floats -> compression of factor 24.5, assuming the input is 784 floats\n",
    "\n",
    "# this is our input placeholder\n",
    "input_img = Input(shape=(784,))\n",
    "# \"encoded\" is the encoded representation of the input\n",
    "encoded = Dense(encoding_dim, activation='relu')(input_img)\n",
    "# \"decoded\" is the lossy reconstruction of the input\n",
    "decoded = Dense(784, activation='sigmoid')(encoded)\n",
    "\n",
    "# this model maps an input to its reconstruction\n",
    "autoencoder = Model(input_img, decoded)"
   ]
  },
  {
   "cell_type": "code",
   "execution_count": 4,
   "metadata": {
    "collapsed": true
   },
   "outputs": [],
   "source": [
    "# this model maps an input to its encoded representation\n",
    "encoder = Model(input_img, encoded)"
   ]
  },
  {
   "cell_type": "code",
   "execution_count": 5,
   "metadata": {
    "collapsed": true
   },
   "outputs": [],
   "source": [
    "# create a placeholder for an encoded (32-dimensional) input\n",
    "encoded_input = Input(shape=(encoding_dim,))\n",
    "# retrieve the last layer of the autoencoder model\n",
    "decoder_layer = autoencoder.layers[-1]\n",
    "# create the decoder model\n",
    "decoder = Model(encoded_input, decoder_layer(encoded_input))"
   ]
  },
  {
   "cell_type": "code",
   "execution_count": 6,
   "metadata": {},
   "outputs": [
    {
     "name": "stdout",
     "output_type": "stream",
     "text": [
      "WARNING:tensorflow:From /home/bruno/.virtualenvs/iPTF/local/lib/python2.7/site-packages/keras/backend/tensorflow_backend.py:1297: calling reduce_mean (from tensorflow.python.ops.math_ops) with keep_dims is deprecated and will be removed in a future version.\n",
      "Instructions for updating:\n",
      "keep_dims is deprecated, use keepdims instead\n"
     ]
    }
   ],
   "source": [
    "autoencoder.compile(optimizer='adadelta', loss='binary_crossentropy')"
   ]
  },
  {
   "cell_type": "code",
   "execution_count": 7,
   "metadata": {},
   "outputs": [
    {
     "name": "stdout",
     "output_type": "stream",
     "text": [
      "Downloading data from https://s3.amazonaws.com/img-datasets/mnist.npz\n",
      "11460608/11490434 [============================>.] - ETA: 0s"
     ]
    }
   ],
   "source": [
    "from keras.datasets import mnist\n",
    "import numpy as np\n",
    "(x_train, _), (x_test, _) = mnist.load_data()"
   ]
  },
  {
   "cell_type": "code",
   "execution_count": 8,
   "metadata": {},
   "outputs": [
    {
     "name": "stdout",
     "output_type": "stream",
     "text": [
      "(60000, 784)\n",
      "(10000, 784)\n"
     ]
    }
   ],
   "source": [
    "x_train = x_train.astype('float32') / 255.\n",
    "x_test = x_test.astype('float32') / 255.\n",
    "x_train = x_train.reshape((len(x_train), np.prod(x_train.shape[1:])))\n",
    "x_test = x_test.reshape((len(x_test), np.prod(x_test.shape[1:])))\n",
    "print x_train.shape\n",
    "print x_test.shape"
   ]
  },
  {
   "cell_type": "code",
   "execution_count": 9,
   "metadata": {
    "scrolled": true
   },
   "outputs": [
    {
     "name": "stdout",
     "output_type": "stream",
     "text": [
      "Train on 60000 samples, validate on 10000 samples\n",
      "Epoch 1/50\n",
      "60000/60000 [==============================] - 4s - loss: 0.3756 - val_loss: 0.2730\n",
      "Epoch 2/50\n",
      "60000/60000 [==============================] - 5s - loss: 0.2655 - val_loss: 0.2548\n",
      "Epoch 3/50\n",
      "60000/60000 [==============================] - 4s - loss: 0.2446 - val_loss: 0.2324\n",
      "Epoch 4/50\n",
      "60000/60000 [==============================] - 7s - loss: 0.2248 - val_loss: 0.2149\n",
      "Epoch 5/50\n",
      "60000/60000 [==============================] - 6s - loss: 0.2096 - val_loss: 0.2017\n",
      "Epoch 6/50\n",
      "60000/60000 [==============================] - 6s - loss: 0.1981 - val_loss: 0.1917\n",
      "Epoch 7/50\n",
      "60000/60000 [==============================] - 5s - loss: 0.1892 - val_loss: 0.1839\n",
      "Epoch 8/50\n",
      "60000/60000 [==============================] - 5s - loss: 0.1821 - val_loss: 0.1774\n",
      "Epoch 9/50\n",
      "60000/60000 [==============================] - 5s - loss: 0.1762 - val_loss: 0.1722\n",
      "Epoch 10/50\n",
      "60000/60000 [==============================] - 5s - loss: 0.1712 - val_loss: 0.1676\n",
      "Epoch 11/50\n",
      "60000/60000 [==============================] - 5s - loss: 0.1668 - val_loss: 0.1632\n",
      "Epoch 12/50\n",
      "60000/60000 [==============================] - 5s - loss: 0.1627 - val_loss: 0.1594\n",
      "Epoch 13/50\n",
      "60000/60000 [==============================] - 5s - loss: 0.1590 - val_loss: 0.1557\n",
      "Epoch 14/50\n",
      "60000/60000 [==============================] - 5s - loss: 0.1555 - val_loss: 0.1524\n",
      "Epoch 15/50\n",
      "60000/60000 [==============================] - 5s - loss: 0.1523 - val_loss: 0.1492\n",
      "Epoch 16/50\n",
      "60000/60000 [==============================] - 5s - loss: 0.1492 - val_loss: 0.1463\n",
      "Epoch 17/50\n",
      "60000/60000 [==============================] - 5s - loss: 0.1463 - val_loss: 0.1435\n",
      "Epoch 18/50\n",
      "60000/60000 [==============================] - 5s - loss: 0.1437 - val_loss: 0.1409\n",
      "Epoch 19/50\n",
      "60000/60000 [==============================] - 5s - loss: 0.1412 - val_loss: 0.1384\n",
      "Epoch 20/50\n",
      "60000/60000 [==============================] - 5s - loss: 0.1389 - val_loss: 0.1363\n",
      "Epoch 21/50\n",
      "60000/60000 [==============================] - 5s - loss: 0.1367 - val_loss: 0.1341\n",
      "Epoch 22/50\n",
      "60000/60000 [==============================] - 5s - loss: 0.1347 - val_loss: 0.1321\n",
      "Epoch 23/50\n",
      "60000/60000 [==============================] - 5s - loss: 0.1327 - val_loss: 0.1302\n",
      "Epoch 24/50\n",
      "60000/60000 [==============================] - 5s - loss: 0.1309 - val_loss: 0.1283\n",
      "Epoch 25/50\n",
      "60000/60000 [==============================] - 5s - loss: 0.1291 - val_loss: 0.1266\n",
      "Epoch 26/50\n",
      "60000/60000 [==============================] - 5s - loss: 0.1274 - val_loss: 0.1249\n",
      "Epoch 27/50\n",
      "60000/60000 [==============================] - 5s - loss: 0.1257 - val_loss: 0.1233\n",
      "Epoch 28/50\n",
      "60000/60000 [==============================] - 7s - loss: 0.1241 - val_loss: 0.1217\n",
      "Epoch 29/50\n",
      "60000/60000 [==============================] - 5s - loss: 0.1226 - val_loss: 0.1202\n",
      "Epoch 30/50\n",
      "60000/60000 [==============================] - 5s - loss: 0.1212 - val_loss: 0.1188\n",
      "Epoch 31/50\n",
      "60000/60000 [==============================] - 5s - loss: 0.1198 - val_loss: 0.1175\n",
      "Epoch 32/50\n",
      "60000/60000 [==============================] - 5s - loss: 0.1184 - val_loss: 0.1162\n",
      "Epoch 33/50\n",
      "60000/60000 [==============================] - 5s - loss: 0.1172 - val_loss: 0.1150\n",
      "Epoch 34/50\n",
      "60000/60000 [==============================] - 5s - loss: 0.1160 - val_loss: 0.1138\n",
      "Epoch 35/50\n",
      "60000/60000 [==============================] - 5s - loss: 0.1149 - val_loss: 0.1127\n",
      "Epoch 36/50\n",
      "60000/60000 [==============================] - 5s - loss: 0.1138 - val_loss: 0.1117\n",
      "Epoch 37/50\n",
      "60000/60000 [==============================] - 5s - loss: 0.1128 - val_loss: 0.1108\n",
      "Epoch 38/50\n",
      "60000/60000 [==============================] - 5s - loss: 0.1119 - val_loss: 0.1099\n",
      "Epoch 39/50\n",
      "60000/60000 [==============================] - 5s - loss: 0.1111 - val_loss: 0.1090\n",
      "Epoch 40/50\n",
      "60000/60000 [==============================] - 5s - loss: 0.1103 - val_loss: 0.1082\n",
      "Epoch 41/50\n",
      "60000/60000 [==============================] - 6s - loss: 0.1095 - val_loss: 0.1075\n",
      "Epoch 42/50\n",
      "60000/60000 [==============================] - 7s - loss: 0.1088 - val_loss: 0.1069\n",
      "Epoch 43/50\n",
      "60000/60000 [==============================] - 6s - loss: 0.1082 - val_loss: 0.1062\n",
      "Epoch 44/50\n",
      "60000/60000 [==============================] - 6s - loss: 0.1076 - val_loss: 0.1057\n",
      "Epoch 45/50\n",
      "60000/60000 [==============================] - 5s - loss: 0.1070 - val_loss: 0.1051\n",
      "Epoch 46/50\n",
      "60000/60000 [==============================] - 5s - loss: 0.1065 - val_loss: 0.1046\n",
      "Epoch 47/50\n",
      "60000/60000 [==============================] - 5s - loss: 0.1060 - val_loss: 0.1041\n",
      "Epoch 48/50\n",
      "60000/60000 [==============================] - 5s - loss: 0.1055 - val_loss: 0.1037\n",
      "Epoch 49/50\n",
      "60000/60000 [==============================] - 5s - loss: 0.1051 - val_loss: 0.1033ss: 0.1\n",
      "Epoch 50/50\n",
      "60000/60000 [==============================] - 6s - loss: 0.1047 - val_loss: 0.1028\n"
     ]
    },
    {
     "data": {
      "text/plain": [
       "<keras.callbacks.History at 0x7f9751df5ed0>"
      ]
     },
     "execution_count": 9,
     "metadata": {},
     "output_type": "execute_result"
    }
   ],
   "source": [
    "autoencoder.fit(x_train, x_train,\n",
    "                epochs=50,\n",
    "                batch_size=256,\n",
    "                shuffle=True,\n",
    "                validation_data=(x_test, x_test))"
   ]
  },
  {
   "cell_type": "code",
   "execution_count": 10,
   "metadata": {
    "collapsed": true
   },
   "outputs": [],
   "source": [
    "# encode and decode some digits\n",
    "# note that we take them from the *test* set\n",
    "encoded_imgs = encoder.predict(x_test)\n",
    "decoded_imgs = decoder.predict(encoded_imgs)"
   ]
  },
  {
   "cell_type": "code",
   "execution_count": 11,
   "metadata": {},
   "outputs": [
    {
     "data": {
      "image/png": "[encoded data removed]",
      "text/plain": [
       "<matplotlib.figure.Figure at 0x7f973c038810>"
      ]
     },
     "metadata": {},
     "output_type": "display_data"
    }
   ],
   "source": [
    "# use Matplotlib (don't ask)\n",
    "import matplotlib.pyplot as plt\n",
    "\n",
    "n = 10  # how many digits we will display\n",
    "plt.figure(figsize=(20, 4))\n",
    "for i in range(n):\n",
    "    # display original\n",
    "    ax = plt.subplot(2, n, i + 1)\n",
    "    plt.imshow(x_test[i].reshape(28, 28))\n",
    "    plt.gray()\n",
    "    ax.get_xaxis().set_visible(False)\n",
    "    ax.get_yaxis().set_visible(False)\n",
    "\n",
    "    # display reconstruction\n",
    "    ax = plt.subplot(2, n, i + 1 + n)\n",
    "    plt.imshow(decoded_imgs[i].reshape(28, 28))\n",
    "    plt.gray()\n",
    "    ax.get_xaxis().set_visible(False)\n",
    "    ax.get_yaxis().set_visible(False)\n",
    "plt.show()"
   ]
  },
  {
   "cell_type": "code",
   "execution_count": 12,
   "metadata": {},
   "outputs": [
    {
     "data": {
      "image/png": "[encoded data removed]",
      "text/plain": [
       "<matplotlib.figure.Figure at 0x7f975026a4d0>"
      ]
     },
     "metadata": {},
     "output_type": "display_data"
    }
   ],
   "source": [
    "for i in range(n):\n",
    "    ax = plt.subplot(1, n, i + 1)\n",
    "    plt.imshow(encoded_imgs[i].reshape(8, 4))\n",
    "    plt.gray()\n",
    "    ax.get_xaxis().set_visible(False)\n",
    "    ax.get_yaxis().set_visible(False)\n",
    "plt.show()"
   ]
  },
  {
   "cell_type": "markdown",
   "metadata": {},
   "source": [
    "##  Con curvas de luz"
   ]
  },
  {
   "cell_type": "markdown",
   "metadata": {},
   "source": [
    "### ATLAS DATASET"
   ]
  },
  {
   "cell_type": "code",
   "execution_count": 3,
   "metadata": {},
   "outputs": [],
   "source": [
    "from sklearn.model_selection import train_test_split"
   ]
  },
  {
   "cell_type": "code",
   "execution_count": 31,
   "metadata": {
    "collapsed": true
   },
   "outputs": [],
   "source": [
    "df_mira = pd.read_csv('ATLAS_LC/MIRA_features_table.csv')\n",
    "signature_cols = [col for col in df_mira.columns if 'Signature' in col]\n",
    "signature_cols += ['OBJID', 'filter', 'CLASS']\n",
    "df_mira = df_mira[signature_cols]"
   ]
  },
  {
   "cell_type": "code",
   "execution_count": 32,
   "metadata": {},
   "outputs": [],
   "source": [
    "df_mpulse = pd.read_csv('ATLAS_LC/MPULSE_features_table.csv')[signature_cols]\n",
    "df_dbf = pd.read_csv('ATLAS_LC/DBF_features_table.csv')[signature_cols]\n",
    "df_lpv = pd.read_csv('ATLAS_LC/LPV_features_table.csv')[signature_cols]\n",
    "df_dbh = pd.read_csv('ATLAS_LC/DBH_features_table.csv')[signature_cols]\n",
    "df_pulse = pd.read_csv('ATLAS_LC/PULSE_features_table.csv')[signature_cols]\n",
    "df_nsine = pd.read_csv('ATLAS_LC/NSINE_features_table.csv')[signature_cols]\n",
    "df_sine = pd.read_csv('ATLAS_LC/SINE_features_table.csv')[signature_cols]\n",
    "df_msine = pd.read_csv('ATLAS_LC/MSINE_features_table.csv')[signature_cols]\n",
    "df_cbh = pd.read_csv('ATLAS_LC/CBH_features_table.csv')[signature_cols]\n",
    "df_cbf = pd.read_csv('ATLAS_LC/CBF_features_table.csv')[signature_cols]\n",
    "df_irr = pd.read_csv('ATLAS_LC/IRR_features_table.csv')[signature_cols]"
   ]
  },
  {
   "cell_type": "code",
   "execution_count": 33,
   "metadata": {},
   "outputs": [
    {
     "name": "stderr",
     "output_type": "stream",
     "text": [
      "/home/bruno/.virtualenvs/iPTF/lib/python2.7/site-packages/ipykernel_launcher.py:4: FutureWarning: Method .as_matrix will be removed in a future version. Use .values instead.\n",
      "  after removing the cwd from sys.path.\n"
     ]
    }
   ],
   "source": [
    "full_data = pd.concat([df_mira, df_mpulse, df_dbf, df_lpv, df_dbh, df_pulse, \n",
    "                       df_nsine, df_sine, df_msine, df_cbf, df_cbh])\n",
    "signature_cols = [col for col in df_mira.columns if 'Signature' in col]\n",
    "X = full_data[signature_cols].as_matrix()"
   ]
  },
  {
   "cell_type": "code",
   "execution_count": 34,
   "metadata": {},
   "outputs": [],
   "source": [
    "del(df_mira)"
   ]
  },
  {
   "cell_type": "code",
   "execution_count": 35,
   "metadata": {
    "collapsed": true
   },
   "outputs": [],
   "source": [
    "del(df_mpulse)"
   ]
  },
  {
   "cell_type": "code",
   "execution_count": 36,
   "metadata": {
    "collapsed": true
   },
   "outputs": [],
   "source": [
    "del(df_dbf)"
   ]
  },
  {
   "cell_type": "code",
   "execution_count": 37,
   "metadata": {
    "collapsed": true
   },
   "outputs": [],
   "source": [
    "del(df_lpv)"
   ]
  },
  {
   "cell_type": "code",
   "execution_count": 38,
   "metadata": {
    "collapsed": true
   },
   "outputs": [],
   "source": [
    "del(df_dbh)"
   ]
  },
  {
   "cell_type": "code",
   "execution_count": 39,
   "metadata": {},
   "outputs": [],
   "source": [
    "del(df_pulse)"
   ]
  },
  {
   "cell_type": "code",
   "execution_count": 40,
   "metadata": {},
   "outputs": [],
   "source": [
    "del(df_cbf)"
   ]
  },
  {
   "cell_type": "code",
   "execution_count": 41,
   "metadata": {
    "collapsed": true
   },
   "outputs": [],
   "source": [
    "del(df_cbh)"
   ]
  },
  {
   "cell_type": "code",
   "execution_count": 42,
   "metadata": {
    "collapsed": true
   },
   "outputs": [],
   "source": [
    "del(df_nsine)"
   ]
  },
  {
   "cell_type": "code",
   "execution_count": 43,
   "metadata": {
    "collapsed": true
   },
   "outputs": [],
   "source": [
    "del(df_sine)"
   ]
  },
  {
   "cell_type": "code",
   "execution_count": 44,
   "metadata": {
    "collapsed": true
   },
   "outputs": [],
   "source": [
    "del(df_msine)"
   ]
  },
  {
   "cell_type": "code",
   "execution_count": 45,
   "metadata": {
    "collapsed": true
   },
   "outputs": [],
   "source": [
    "del(df_irr)"
   ]
  },
  {
   "cell_type": "code",
   "execution_count": 46,
   "metadata": {},
   "outputs": [],
   "source": [
    "X_train, X_test = train_test_split(X, test_size=0.10, random_state=17)"
   ]
  },
  {
   "cell_type": "code",
   "execution_count": 47,
   "metadata": {},
   "outputs": [
    {
     "name": "stdout",
     "output_type": "stream",
     "text": [
      "(326278, 216)\n",
      "(36254, 216)\n"
     ]
    }
   ],
   "source": [
    "print X_train.shape\n",
    "print X_test.shape"
   ]
  },
  {
   "cell_type": "code",
   "execution_count": 48,
   "metadata": {
    "collapsed": true
   },
   "outputs": [],
   "source": [
    "## this is the size of our encoded representations\n",
    "encoding_dim = 16  # 32 floats -> compression of factor 24.5, assuming the input is 784 floats\n",
    "\n",
    "# this is our input placeholder\n",
    "input_img = Input(shape=(216,))\n",
    "# \"encoded\" is the encoded representation of the input\n",
    "encoded = Dense(encoding_dim, activation='relu')(input_img)\n",
    "# \"decoded\" is the lossy reconstruction of the input\n",
    "decoded = Dense(216, activation='sigmoid')(encoded)\n",
    "\n",
    "# this model maps an input to its reconstruction\n",
    "autoencoder = Model(input_img, decoded)"
   ]
  },
  {
   "cell_type": "code",
   "execution_count": 49,
   "metadata": {
    "collapsed": true
   },
   "outputs": [],
   "source": [
    "# this model maps an input to its encoded representation\n",
    "encoder = Model(input_img, encoded)"
   ]
  },
  {
   "cell_type": "code",
   "execution_count": 50,
   "metadata": {
    "collapsed": true
   },
   "outputs": [],
   "source": [
    "# create a placeholder for an encoded (32-dimensional) input\n",
    "encoded_input = Input(shape=(encoding_dim,))\n",
    "# retrieve the last layer of the autoencoder model\n",
    "decoder_layer = autoencoder.layers[-1]\n",
    "# create the decoder model\n",
    "decoder = Model(encoded_input, decoder_layer(encoded_input))"
   ]
  },
  {
   "cell_type": "code",
   "execution_count": 51,
   "metadata": {
    "collapsed": true
   },
   "outputs": [],
   "source": [
    "autoencoder.compile(optimizer='adadelta', loss='binary_crossentropy')"
   ]
  },
  {
   "cell_type": "code",
   "execution_count": 52,
   "metadata": {
    "scrolled": true
   },
   "outputs": [
    {
     "name": "stdout",
     "output_type": "stream",
     "text": [
      "Train on 326278 samples, validate on 36254 samples\n",
      "Epoch 1/50\n",
      "326278/326278 [==============================] - 6s - loss: 0.6321 - val_loss: 0.4627\n",
      "Epoch 2/50\n",
      "326278/326278 [==============================] - 6s - loss: 0.2672 - val_loss: 0.0787\n",
      "Epoch 3/50\n",
      "326278/326278 [==============================] - 6s - loss: -0.0648 - val_loss: -0.2250\n",
      "Epoch 4/50\n",
      "326278/326278 [==============================] - 6s - loss: -0.3558 - val_loss: -0.5021\n",
      "Epoch 5/50\n",
      "326278/326278 [==============================] - 6s - loss: -0.5966 - val_loss: -0.6934\n",
      "Epoch 6/50\n",
      "326278/326278 [==============================] - 6s - loss: -0.7482 - val_loss: -0.8102\n",
      "Epoch 7/50\n",
      "326278/326278 [==============================] - 6s - loss: -0.8456 - val_loss: -0.8920\n",
      "Epoch 8/50\n",
      "326278/326278 [==============================] - 6s - loss: -0.9178 - val_loss: -0.9555\n",
      "Epoch 9/50\n",
      "326278/326278 [==============================] - 6s - loss: -0.9744 - val_loss: -1.0055\n",
      "Epoch 10/50\n",
      "326278/326278 [==============================] - 6s - loss: -1.0191 - val_loss: -1.0450\n",
      "Epoch 11/50\n",
      "326278/326278 [==============================] - 6s - loss: -1.0552 - val_loss: -1.0773\n",
      "Epoch 12/50\n",
      "326278/326278 [==============================] - 6s - loss: -1.0849 - val_loss: -1.1040\n",
      "Epoch 13/50\n",
      "326278/326278 [==============================] - 6s - loss: -1.1097 - val_loss: -1.1266\n",
      "Epoch 14/50\n",
      "326278/326278 [==============================] - 6s - loss: -1.1307 - val_loss: -1.1455\n",
      "Epoch 15/50\n",
      "326278/326278 [==============================] - 6s - loss: -1.1487 - val_loss: -1.1618\n",
      "Epoch 16/50\n",
      "326278/326278 [==============================] - 6s - loss: -1.1640 - val_loss: -1.1760\n",
      "Epoch 17/50\n",
      "326278/326278 [==============================] - 6s - loss: -1.1773 - val_loss: -1.1882\n",
      "Epoch 18/50\n",
      "326278/326278 [==============================] - 6s - loss: -1.1887 - val_loss: -1.1987\n",
      "Epoch 19/50\n",
      "326278/326278 [==============================] - 6s - loss: -1.1988 - val_loss: -1.2080\n",
      "Epoch 20/50\n",
      "326278/326278 [==============================] - 6s - loss: -1.2076 - val_loss: -1.2163\n",
      "Epoch 21/50\n",
      "326278/326278 [==============================] - 6s - loss: -1.2153 - val_loss: -1.2234\n",
      "Epoch 22/50\n",
      "326278/326278 [==============================] - 6s - loss: -1.2222 - val_loss: -1.2296\n",
      "Epoch 23/50\n",
      "326278/326278 [==============================] - 6s - loss: -1.2283 - val_loss: -1.2354\n",
      "Epoch 24/50\n",
      "326278/326278 [==============================] - 6s - loss: -1.2337 - val_loss: -1.2405\n",
      "Epoch 25/50\n",
      "326278/326278 [==============================] - 6s - loss: -1.2386 - val_loss: -1.2451\n",
      "Epoch 26/50\n",
      "326278/326278 [==============================] - 6s - loss: -1.2429 - val_loss: -1.2493\n",
      "Epoch 27/50\n",
      "326278/326278 [==============================] - 6s - loss: -1.2469 - val_loss: -1.2531\n",
      "Epoch 28/50\n",
      "326278/326278 [==============================] - 6s - loss: -1.2506 - val_loss: -1.2565\n",
      "Epoch 29/50\n",
      "326278/326278 [==============================] - 6s - loss: -1.2539 - val_loss: -1.2597\n",
      "Epoch 30/50\n",
      "326278/326278 [==============================] - 6s - loss: -1.2570 - val_loss: -1.2628\n",
      "Epoch 31/50\n",
      "326278/326278 [==============================] - 6s - loss: -1.2599 - val_loss: -1.2655\n",
      "Epoch 32/50\n",
      "326278/326278 [==============================] - 6s - loss: -1.2625 - val_loss: -1.2681\n",
      "Epoch 33/50\n",
      "326278/326278 [==============================] - 6s - loss: -1.2650 - val_loss: -1.2704\n",
      "Epoch 34/50\n",
      "326278/326278 [==============================] - 7s - loss: -1.2673 - val_loss: -1.2727\n",
      "Epoch 35/50\n",
      "326278/326278 [==============================] - 6s - loss: -1.2695 - val_loss: -1.2747\n",
      "Epoch 36/50\n",
      "326278/326278 [==============================] - 6s - loss: -1.2716 - val_loss: -1.2766\n",
      "Epoch 37/50\n",
      "326278/326278 [==============================] - 6s - loss: -1.2735 - val_loss: -1.2786\n",
      "Epoch 38/50\n",
      "326278/326278 [==============================] - 6s - loss: -1.2754 - val_loss: -1.2802\n",
      "Epoch 39/50\n",
      "326278/326278 [==============================] - 6s - loss: -1.2771 - val_loss: -1.2820\n",
      "Epoch 40/50\n",
      "326278/326278 [==============================] - 6s - loss: -1.2788 - val_loss: -1.2836\n",
      "Epoch 41/50\n",
      "326278/326278 [==============================] - 6s - loss: -1.2804 - val_loss: -1.2854: -1.28\n",
      "Epoch 42/50\n",
      "326278/326278 [==============================] - 6s - loss: -1.2819 - val_loss: -1.2867\n",
      "Epoch 43/50\n",
      "326278/326278 [==============================] - 6s - loss: -1.2833 - val_loss: -1.2881\n",
      "Epoch 44/50\n",
      "326278/326278 [==============================] - 6s - loss: -1.2847 - val_loss: -1.2895\n",
      "Epoch 45/50\n",
      "326278/326278 [==============================] - 7s - loss: -1.2860 - val_loss: -1.2907\n",
      "Epoch 46/50\n",
      "326278/326278 [==============================] - 6s - loss: -1.2873 - val_loss: -1.2918\n",
      "Epoch 47/50\n",
      "326278/326278 [==============================] - 7s - loss: -1.2885 - val_loss: -1.2931\n",
      "Epoch 48/50\n",
      "326278/326278 [==============================] - 6s - loss: -1.2897 - val_loss: -1.2943\n",
      "Epoch 49/50\n",
      "326278/326278 [==============================] - 6s - loss: -1.2908 - val_loss: -1.2954\n",
      "Epoch 50/50\n",
      "326278/326278 [==============================] - 6s - loss: -1.2919 - val_loss: -1.2963\n",
      "Train on 326278 samples, validate on 36254 samples\n",
      "Epoch 1/10\n",
      "326278/326278 [==============================] - 6s - loss: -1.2928 - val_loss: -1.2973\n",
      "Epoch 2/10\n",
      "326278/326278 [==============================] - 6s - loss: -1.2934 - val_loss: -1.2977\n",
      "Epoch 3/10\n",
      "326278/326278 [==============================] - 6s - loss: -1.2940 - val_loss: -1.2983\n",
      "Epoch 4/10\n",
      "326278/326278 [==============================] - 6s - loss: -1.2946 - val_loss: -1.2990\n",
      "Epoch 5/10\n",
      "326278/326278 [==============================] - 6s - loss: -1.2952 - val_loss: -1.2995\n",
      "Epoch 6/10\n",
      "326278/326278 [==============================] - 6s - loss: -1.2958 - val_loss: -1.3001\n",
      "Epoch 7/10\n",
      "326278/326278 [==============================] - 6s - loss: -1.2964 - val_loss: -1.3006\n",
      "Epoch 8/10\n",
      "326278/326278 [==============================] - 6s - loss: -1.2969 - val_loss: -1.3014\n",
      "Epoch 9/10\n",
      "326278/326278 [==============================] - 6s - loss: -1.2975 - val_loss: -1.3019\n",
      "Epoch 10/10\n",
      "326278/326278 [==============================] - 6s - loss: -1.2980 - val_loss: -1.3023\n",
      "Train on 326278 samples, validate on 36254 samples\n",
      "Epoch 1/20\n",
      "326278/326278 [==============================] - 8s - loss: -1.2988 - val_loss: -1.3038\n",
      "Epoch 2/20\n",
      "326278/326278 [==============================] - 8s - loss: -1.3003 - val_loss: -1.3052\n",
      "Epoch 3/20\n",
      "326278/326278 [==============================] - 7s - loss: -1.3016 - val_loss: -1.3063\n",
      "Epoch 4/20\n",
      "326278/326278 [==============================] - 7s - loss: -1.3028 - val_loss: -1.3076\n",
      "Epoch 5/20\n",
      "326278/326278 [==============================] - 8s - loss: -1.3039 - val_loss: -1.3088\n",
      "Epoch 6/20\n",
      "326278/326278 [==============================] - 8s - loss: -1.3050 - val_loss: -1.3097\n",
      "Epoch 7/20\n",
      "326278/326278 [==============================] - 8s - loss: -1.3060 - val_loss: -1.3108\n",
      "Epoch 8/20\n",
      "326278/326278 [==============================] - 8s - loss: -1.3069 - val_loss: -1.3116\n",
      "Epoch 9/20\n",
      "326278/326278 [==============================] - 8s - loss: -1.3078 - val_loss: -1.3127\n",
      "Epoch 10/20\n",
      "326278/326278 [==============================] - 8s - loss: -1.3087 - val_loss: -1.3134\n",
      "Epoch 11/20\n",
      "326278/326278 [==============================] - 8s - loss: -1.3095 - val_loss: -1.3143\n",
      "Epoch 12/20\n",
      "326278/326278 [==============================] - 8s - loss: -1.3103 - val_loss: -1.3149\n",
      "Epoch 13/20\n",
      "326278/326278 [==============================] - 8s - loss: -1.3110 - val_loss: -1.3158\n",
      "Epoch 14/20\n",
      "326278/326278 [==============================] - 8s - loss: -1.3117 - val_loss: -1.3165\n",
      "Epoch 15/20\n",
      "326278/326278 [==============================] - 8s - loss: -1.3124 - val_loss: -1.3171\n",
      "Epoch 16/20\n",
      "326278/326278 [==============================] - 8s - loss: -1.3131 - val_loss: -1.3179\n",
      "Epoch 17/20\n",
      "326278/326278 [==============================] - 8s - loss: -1.3137 - val_loss: -1.3185\n",
      "Epoch 18/20\n",
      "326278/326278 [==============================] - 7s - loss: -1.3143 - val_loss: -1.3190\n",
      "Epoch 19/20\n",
      "326278/326278 [==============================] - 7s - loss: -1.3148 - val_loss: -1.3195\n",
      "Epoch 20/20\n",
      "326278/326278 [==============================] - 7s - loss: -1.3154 - val_loss: -1.3201\n",
      "Train on 326278 samples, validate on 36254 samples\n",
      "Epoch 1/20\n"
     ]
    },
    {
     "name": "stdout",
     "output_type": "stream",
     "text": [
      "326278/326278 [==============================] - 6s - loss: -1.3160 - val_loss: -1.3202\n",
      "Epoch 2/20\n",
      "326278/326278 [==============================] - 6s - loss: -1.3162 - val_loss: -1.3207\n",
      "Epoch 3/20\n",
      "326278/326278 [==============================] - 6s - loss: -1.3165 - val_loss: -1.3209\n",
      "Epoch 4/20\n",
      "326278/326278 [==============================] - 6s - loss: -1.3168 - val_loss: -1.3213\n",
      "Epoch 5/20\n",
      "326278/326278 [==============================] - 6s - loss: -1.3171 - val_loss: -1.3216\n",
      "Epoch 6/20\n",
      "326278/326278 [==============================] - 5s - loss: -1.3173 - val_loss: -1.3219\n",
      "Epoch 7/20\n",
      "326278/326278 [==============================] - 6s - loss: -1.3176 - val_loss: -1.3221\n",
      "Epoch 8/20\n",
      "326278/326278 [==============================] - 6s - loss: -1.3179 - val_loss: -1.3222\n",
      "Epoch 9/20\n",
      "326278/326278 [==============================] - 6s - loss: -1.3181 - val_loss: -1.3225\n",
      "Epoch 10/20\n",
      "326278/326278 [==============================] - 6s - loss: -1.3184 - val_loss: -1.3228\n",
      "Epoch 11/20\n",
      "326278/326278 [==============================] - 6s - loss: -1.3186 - val_loss: -1.3231\n",
      "Epoch 12/20\n",
      "326278/326278 [==============================] - 6s - loss: -1.3188 - val_loss: -1.3233\n",
      "Epoch 13/20\n",
      "326278/326278 [==============================] - 6s - loss: -1.3191 - val_loss: -1.3234\n",
      "Epoch 14/20\n",
      "326278/326278 [==============================] - 6s - loss: -1.3193 - val_loss: -1.3237\n",
      "Epoch 15/20\n",
      "326278/326278 [==============================] - 6s - loss: -1.3195 - val_loss: -1.3238\n",
      "Epoch 16/20\n",
      "326278/326278 [==============================] - 6s - loss: -1.3197 - val_loss: -1.3242\n",
      "Epoch 17/20\n",
      "326278/326278 [==============================] - 6s - loss: -1.3200 - val_loss: -1.3244\n",
      "Epoch 18/20\n",
      "326278/326278 [==============================] - 6s - loss: -1.3202 - val_loss: -1.3244\n",
      "Epoch 19/20\n",
      "326278/326278 [==============================] - 6s - loss: -1.3204 - val_loss: -1.3245\n",
      "Epoch 20/20\n",
      "326278/326278 [==============================] - 6s - loss: -1.3206 - val_loss: -1.3250\n"
     ]
    },
    {
     "data": {
      "text/plain": [
       "<keras.callbacks.History at 0x7fc9c8531c10>"
      ]
     },
     "execution_count": 52,
     "metadata": {},
     "output_type": "execute_result"
    }
   ],
   "source": [
    "autoencoder.fit(X_train, X_train,\n",
    "                epochs=50,\n",
    "                batch_size=5000,\n",
    "                shuffle=True,\n",
    "                validation_data=(X_test, X_test))\n",
    "\n",
    "autoencoder.fit(X_train, X_train,\n",
    "                epochs=10,\n",
    "                batch_size=9000,\n",
    "                shuffle=True,\n",
    "                validation_data=(X_test, X_test))\n",
    "\n",
    "autoencoder.fit(X_train, X_train,\n",
    "                epochs=20,\n",
    "                batch_size=2500,\n",
    "                shuffle=True,\n",
    "                validation_data=(X_test, X_test))\n",
    "\n",
    "autoencoder.fit(X_train, X_train,\n",
    "                epochs=20,\n",
    "                batch_size=5000,\n",
    "                shuffle=True,\n",
    "                validation_data=(X_test, X_test))\n"
   ]
  },
  {
   "cell_type": "code",
   "execution_count": 53,
   "metadata": {
    "collapsed": true
   },
   "outputs": [],
   "source": [
    "# use Matplotlib (don't ask)\n",
    "import matplotlib.pyplot as plt\n",
    "# encode and decode some lightcurves\n",
    "# note that we take them from the *test* set\n",
    "encoded_imgs = encoder.predict(X_test)\n",
    "decoded_imgs = decoder.predict(encoded_imgs)"
   ]
  },
  {
   "cell_type": "code",
   "execution_count": 74,
   "metadata": {},
   "outputs": [
    {
     "data": {
      "image/png": "[encoded data removed]",
      "text/plain": [
       "<matplotlib.figure.Figure at 0x7fc959294a50>"
      ]
     },
     "metadata": {},
     "output_type": "display_data"
    }
   ],
   "source": [
    "# use Matplotlib (don't ask)\n",
    "import matplotlib.pyplot as plt\n",
    "\n",
    "n = 4  # how many digits we will display\n",
    "plt.figure(figsize=(24, 4))\n",
    "for i in range(n):\n",
    "    # display original\n",
    "    ax = plt.subplot(2, n, i + 1)\n",
    "    j = np.random.randint(0, high=len(X_test))\n",
    "    plt.imshow(X_test[j].reshape(18, 12).T, cmap='inferno')\n",
    "    \n",
    "    ax.get_xaxis().set_visible(False)\n",
    "    ax.get_yaxis().set_visible(False)\n",
    "\n",
    "    # display reconstruction\n",
    "    ax = plt.subplot(2, n, i + 1 + n)\n",
    "    plt.imshow(decoded_imgs[j].reshape(18, 12).T, cmap='inferno')\n",
    "    ax.get_xaxis().set_visible(False)\n",
    "    ax.get_yaxis().set_visible(False)\n",
    "plt.show()"
   ]
  },
  {
   "cell_type": "code",
   "execution_count": 67,
   "metadata": {
    "collapsed": true
   },
   "outputs": [],
   "source": [
    "# encode every data \n",
    "encoded_imgs = encoder.predict(X)"
   ]
  },
  {
   "cell_type": "code",
   "execution_count": 68,
   "metadata": {},
   "outputs": [
    {
     "data": {
      "text/plain": [
       "(362532, 16)"
      ]
     },
     "execution_count": 68,
     "metadata": {},
     "output_type": "execute_result"
    }
   ],
   "source": [
    "encoded_imgs.shape"
   ]
  },
  {
   "cell_type": "code",
   "execution_count": 69,
   "metadata": {},
   "outputs": [],
   "source": [
    "enc = pd.DataFrame()\n",
    "enc['OBJID'] = full_data['OBJID']\n",
    "enc['filter'] = full_data['filter']\n",
    "enc['CLASS'] = full_data['CLASS']\n",
    "for i in range(encoding_dim):\n",
    "    enc['encode_{}'.format(i+1)] = encoded_imgs[:, i]\n",
    "enc.to_csv('ATLAS_LC/signatures_{}_encoded.csv'.format(encoded.shape[1]))"
   ]
  },
  {
   "cell_type": "code",
   "execution_count": 212,
   "metadata": {
    "scrolled": true
   },
   "outputs": [
    {
     "data": {
      "text/html": [
       "<div>\n",
       "<style>\n",
       "    .dataframe thead tr:only-child th {\n",
       "        text-align: right;\n",
       "    }\n",
       "\n",
       "    .dataframe thead th {\n",
       "        text-align: left;\n",
       "    }\n",
       "\n",
       "    .dataframe tbody tr th {\n",
       "        vertical-align: top;\n",
       "    }\n",
       "</style>\n",
       "<table border=\"1\" class=\"dataframe\">\n",
       "  <thead>\n",
       "    <tr style=\"text-align: right;\">\n",
       "      <th></th>\n",
       "      <th>OBJID</th>\n",
       "      <th>filter</th>\n",
       "      <th>CLASS</th>\n",
       "      <th>encode_1</th>\n",
       "      <th>encode_2</th>\n",
       "      <th>encode_3</th>\n",
       "      <th>encode_4</th>\n",
       "      <th>encode_5</th>\n",
       "      <th>encode_6</th>\n",
       "      <th>encode_7</th>\n",
       "      <th>encode_8</th>\n",
       "      <th>encode_9</th>\n",
       "      <th>encode_10</th>\n",
       "      <th>encode_11</th>\n",
       "      <th>encode_12</th>\n",
       "      <th>encode_13</th>\n",
       "      <th>encode_14</th>\n",
       "      <th>encode_15</th>\n",
       "      <th>encode_16</th>\n",
       "    </tr>\n",
       "  </thead>\n",
       "  <tbody>\n",
       "    <tr>\n",
       "      <th>0</th>\n",
       "      <td>8.756263e+16</td>\n",
       "      <td>c</td>\n",
       "      <td>MIRA</td>\n",
       "      <td>0.000000</td>\n",
       "      <td>0.000000</td>\n",
       "      <td>40.220776</td>\n",
       "      <td>336.721008</td>\n",
       "      <td>82.547630</td>\n",
       "      <td>38.915081</td>\n",
       "      <td>74.268440</td>\n",
       "      <td>105.115280</td>\n",
       "      <td>29.269661</td>\n",
       "      <td>47.805931</td>\n",
       "      <td>36.730053</td>\n",
       "      <td>9.723154</td>\n",
       "      <td>0.000000</td>\n",
       "      <td>51.673851</td>\n",
       "      <td>71.604446</td>\n",
       "      <td>28.513775</td>\n",
       "    </tr>\n",
       "    <tr>\n",
       "      <th>1</th>\n",
       "      <td>1.232128e+17</td>\n",
       "      <td>c</td>\n",
       "      <td>MIRA</td>\n",
       "      <td>14.778156</td>\n",
       "      <td>19.635433</td>\n",
       "      <td>0.000000</td>\n",
       "      <td>198.213348</td>\n",
       "      <td>27.869883</td>\n",
       "      <td>32.023434</td>\n",
       "      <td>20.488991</td>\n",
       "      <td>109.037994</td>\n",
       "      <td>0.000000</td>\n",
       "      <td>21.767908</td>\n",
       "      <td>49.728687</td>\n",
       "      <td>8.013769</td>\n",
       "      <td>25.502790</td>\n",
       "      <td>35.302757</td>\n",
       "      <td>26.231499</td>\n",
       "      <td>41.401054</td>\n",
       "    </tr>\n",
       "    <tr>\n",
       "      <th>2</th>\n",
       "      <td>8.684271e+16</td>\n",
       "      <td>c</td>\n",
       "      <td>MIRA</td>\n",
       "      <td>14.750517</td>\n",
       "      <td>8.584417</td>\n",
       "      <td>28.986626</td>\n",
       "      <td>331.828308</td>\n",
       "      <td>55.907661</td>\n",
       "      <td>9.306194</td>\n",
       "      <td>42.841953</td>\n",
       "      <td>86.873291</td>\n",
       "      <td>4.814669</td>\n",
       "      <td>45.091660</td>\n",
       "      <td>72.552834</td>\n",
       "      <td>15.134164</td>\n",
       "      <td>6.896567</td>\n",
       "      <td>52.581211</td>\n",
       "      <td>37.785271</td>\n",
       "      <td>27.721138</td>\n",
       "    </tr>\n",
       "    <tr>\n",
       "      <th>3</th>\n",
       "      <td>9.259280e+16</td>\n",
       "      <td>c</td>\n",
       "      <td>MIRA</td>\n",
       "      <td>14.294035</td>\n",
       "      <td>0.000000</td>\n",
       "      <td>22.084637</td>\n",
       "      <td>247.401978</td>\n",
       "      <td>26.170912</td>\n",
       "      <td>43.595749</td>\n",
       "      <td>54.307011</td>\n",
       "      <td>72.370537</td>\n",
       "      <td>3.537352</td>\n",
       "      <td>48.392071</td>\n",
       "      <td>23.857714</td>\n",
       "      <td>0.904099</td>\n",
       "      <td>0.000000</td>\n",
       "      <td>31.099239</td>\n",
       "      <td>12.879484</td>\n",
       "      <td>35.439678</td>\n",
       "    </tr>\n",
       "    <tr>\n",
       "      <th>4</th>\n",
       "      <td>8.767266e+16</td>\n",
       "      <td>c</td>\n",
       "      <td>MIRA</td>\n",
       "      <td>5.533474</td>\n",
       "      <td>0.000000</td>\n",
       "      <td>14.531010</td>\n",
       "      <td>141.571869</td>\n",
       "      <td>7.674263</td>\n",
       "      <td>19.418148</td>\n",
       "      <td>84.463409</td>\n",
       "      <td>74.978867</td>\n",
       "      <td>8.586517</td>\n",
       "      <td>20.990602</td>\n",
       "      <td>26.324255</td>\n",
       "      <td>0.323762</td>\n",
       "      <td>3.540833</td>\n",
       "      <td>0.000000</td>\n",
       "      <td>33.450390</td>\n",
       "      <td>24.233498</td>\n",
       "    </tr>\n",
       "    <tr>\n",
       "      <th>5</th>\n",
       "      <td>9.405266e+16</td>\n",
       "      <td>c</td>\n",
       "      <td>MIRA</td>\n",
       "      <td>2.182894</td>\n",
       "      <td>15.177378</td>\n",
       "      <td>18.751123</td>\n",
       "      <td>129.916061</td>\n",
       "      <td>49.866810</td>\n",
       "      <td>29.119293</td>\n",
       "      <td>0.000000</td>\n",
       "      <td>84.426414</td>\n",
       "      <td>9.825982</td>\n",
       "      <td>18.275341</td>\n",
       "      <td>59.830593</td>\n",
       "      <td>0.000000</td>\n",
       "      <td>10.730834</td>\n",
       "      <td>32.102154</td>\n",
       "      <td>33.089176</td>\n",
       "      <td>4.943291</td>\n",
       "    </tr>\n",
       "    <tr>\n",
       "      <th>6</th>\n",
       "      <td>1.038128e+17</td>\n",
       "      <td>c</td>\n",
       "      <td>MIRA</td>\n",
       "      <td>13.835340</td>\n",
       "      <td>16.104973</td>\n",
       "      <td>29.369650</td>\n",
       "      <td>220.939651</td>\n",
       "      <td>32.232979</td>\n",
       "      <td>23.104280</td>\n",
       "      <td>25.139009</td>\n",
       "      <td>85.431328</td>\n",
       "      <td>16.404484</td>\n",
       "      <td>23.719509</td>\n",
       "      <td>67.341850</td>\n",
       "      <td>8.862018</td>\n",
       "      <td>16.320877</td>\n",
       "      <td>35.345200</td>\n",
       "      <td>79.061058</td>\n",
       "      <td>15.094724</td>\n",
       "    </tr>\n",
       "    <tr>\n",
       "      <th>7</th>\n",
       "      <td>7.923260e+16</td>\n",
       "      <td>c</td>\n",
       "      <td>MIRA</td>\n",
       "      <td>19.241953</td>\n",
       "      <td>14.425549</td>\n",
       "      <td>26.609470</td>\n",
       "      <td>207.872025</td>\n",
       "      <td>28.937883</td>\n",
       "      <td>35.453945</td>\n",
       "      <td>16.578161</td>\n",
       "      <td>108.094444</td>\n",
       "      <td>8.336200</td>\n",
       "      <td>16.942289</td>\n",
       "      <td>71.461319</td>\n",
       "      <td>7.813332</td>\n",
       "      <td>36.975956</td>\n",
       "      <td>36.122513</td>\n",
       "      <td>67.606155</td>\n",
       "      <td>8.130115</td>\n",
       "    </tr>\n",
       "    <tr>\n",
       "      <th>8</th>\n",
       "      <td>7.706109e+16</td>\n",
       "      <td>c</td>\n",
       "      <td>MIRA</td>\n",
       "      <td>10.661039</td>\n",
       "      <td>0.000000</td>\n",
       "      <td>38.709484</td>\n",
       "      <td>132.139801</td>\n",
       "      <td>24.485403</td>\n",
       "      <td>26.688658</td>\n",
       "      <td>40.201538</td>\n",
       "      <td>75.754898</td>\n",
       "      <td>15.637185</td>\n",
       "      <td>0.000000</td>\n",
       "      <td>9.914756</td>\n",
       "      <td>11.801835</td>\n",
       "      <td>23.124187</td>\n",
       "      <td>28.167589</td>\n",
       "      <td>0.000000</td>\n",
       "      <td>10.542234</td>\n",
       "    </tr>\n",
       "    <tr>\n",
       "      <th>9</th>\n",
       "      <td>9.327271e+16</td>\n",
       "      <td>c</td>\n",
       "      <td>MIRA</td>\n",
       "      <td>0.000000</td>\n",
       "      <td>9.038069</td>\n",
       "      <td>21.475845</td>\n",
       "      <td>194.960541</td>\n",
       "      <td>54.718281</td>\n",
       "      <td>39.164326</td>\n",
       "      <td>23.400055</td>\n",
       "      <td>108.671638</td>\n",
       "      <td>11.601582</td>\n",
       "      <td>30.452971</td>\n",
       "      <td>56.924397</td>\n",
       "      <td>2.053812</td>\n",
       "      <td>9.374201</td>\n",
       "      <td>48.418533</td>\n",
       "      <td>41.493679</td>\n",
       "      <td>10.580890</td>\n",
       "    </tr>\n",
       "    <tr>\n",
       "      <th>10</th>\n",
       "      <td>1.159429e+17</td>\n",
       "      <td>c</td>\n",
       "      <td>MIRA</td>\n",
       "      <td>0.000000</td>\n",
       "      <td>14.312844</td>\n",
       "      <td>35.297779</td>\n",
       "      <td>130.656250</td>\n",
       "      <td>41.363701</td>\n",
       "      <td>39.160023</td>\n",
       "      <td>25.972925</td>\n",
       "      <td>77.610451</td>\n",
       "      <td>0.000000</td>\n",
       "      <td>0.000000</td>\n",
       "      <td>1.908189</td>\n",
       "      <td>6.518844</td>\n",
       "      <td>6.040843</td>\n",
       "      <td>20.865402</td>\n",
       "      <td>44.345207</td>\n",
       "      <td>0.000000</td>\n",
       "    </tr>\n",
       "    <tr>\n",
       "      <th>11</th>\n",
       "      <td>9.093283e+16</td>\n",
       "      <td>c</td>\n",
       "      <td>MIRA</td>\n",
       "      <td>16.780045</td>\n",
       "      <td>0.000000</td>\n",
       "      <td>59.616077</td>\n",
       "      <td>577.901245</td>\n",
       "      <td>118.782890</td>\n",
       "      <td>19.137354</td>\n",
       "      <td>0.000000</td>\n",
       "      <td>344.480103</td>\n",
       "      <td>53.001698</td>\n",
       "      <td>59.882004</td>\n",
       "      <td>126.283150</td>\n",
       "      <td>68.721779</td>\n",
       "      <td>0.000000</td>\n",
       "      <td>177.562546</td>\n",
       "      <td>419.711487</td>\n",
       "      <td>0.000000</td>\n",
       "    </tr>\n",
       "    <tr>\n",
       "      <th>12</th>\n",
       "      <td>9.510266e+16</td>\n",
       "      <td>c</td>\n",
       "      <td>MIRA</td>\n",
       "      <td>25.377680</td>\n",
       "      <td>0.000000</td>\n",
       "      <td>28.305511</td>\n",
       "      <td>191.334488</td>\n",
       "      <td>1.272589</td>\n",
       "      <td>49.591312</td>\n",
       "      <td>7.625830</td>\n",
       "      <td>30.555166</td>\n",
       "      <td>11.654358</td>\n",
       "      <td>0.000000</td>\n",
       "      <td>57.048077</td>\n",
       "      <td>15.221059</td>\n",
       "      <td>13.014573</td>\n",
       "      <td>22.479691</td>\n",
       "      <td>77.115173</td>\n",
       "      <td>35.929390</td>\n",
       "    </tr>\n",
       "    <tr>\n",
       "      <th>13</th>\n",
       "      <td>1.203630e+17</td>\n",
       "      <td>c</td>\n",
       "      <td>MIRA</td>\n",
       "      <td>19.019758</td>\n",
       "      <td>0.000000</td>\n",
       "      <td>17.403677</td>\n",
       "      <td>83.785042</td>\n",
       "      <td>14.573679</td>\n",
       "      <td>14.921638</td>\n",
       "      <td>21.653297</td>\n",
       "      <td>24.013184</td>\n",
       "      <td>3.764996</td>\n",
       "      <td>6.789404</td>\n",
       "      <td>27.793806</td>\n",
       "      <td>4.666286</td>\n",
       "      <td>6.981000</td>\n",
       "      <td>6.301558</td>\n",
       "      <td>0.000000</td>\n",
       "      <td>3.552762</td>\n",
       "    </tr>\n",
       "    <tr>\n",
       "      <th>14</th>\n",
       "      <td>1.013028e+17</td>\n",
       "      <td>c</td>\n",
       "      <td>MIRA</td>\n",
       "      <td>22.550501</td>\n",
       "      <td>0.000000</td>\n",
       "      <td>17.599098</td>\n",
       "      <td>113.453743</td>\n",
       "      <td>16.570150</td>\n",
       "      <td>10.527836</td>\n",
       "      <td>28.505188</td>\n",
       "      <td>32.734081</td>\n",
       "      <td>9.754731</td>\n",
       "      <td>7.601369</td>\n",
       "      <td>9.457034</td>\n",
       "      <td>0.491664</td>\n",
       "      <td>0.000000</td>\n",
       "      <td>8.873426</td>\n",
       "      <td>1.216870</td>\n",
       "      <td>12.802382</td>\n",
       "    </tr>\n",
       "    <tr>\n",
       "      <th>15</th>\n",
       "      <td>8.032264e+16</td>\n",
       "      <td>c</td>\n",
       "      <td>MIRA</td>\n",
       "      <td>2.291492</td>\n",
       "      <td>16.538511</td>\n",
       "      <td>19.284948</td>\n",
       "      <td>205.663116</td>\n",
       "      <td>45.688423</td>\n",
       "      <td>43.459030</td>\n",
       "      <td>0.441215</td>\n",
       "      <td>99.463684</td>\n",
       "      <td>14.430114</td>\n",
       "      <td>1.570680</td>\n",
       "      <td>81.573990</td>\n",
       "      <td>10.251625</td>\n",
       "      <td>9.407040</td>\n",
       "      <td>52.274700</td>\n",
       "      <td>89.202301</td>\n",
       "      <td>9.611493</td>\n",
       "    </tr>\n",
       "    <tr>\n",
       "      <th>16</th>\n",
       "      <td>8.502270e+16</td>\n",
       "      <td>c</td>\n",
       "      <td>MIRA</td>\n",
       "      <td>0.000000</td>\n",
       "      <td>0.000000</td>\n",
       "      <td>36.601860</td>\n",
       "      <td>353.521271</td>\n",
       "      <td>56.293079</td>\n",
       "      <td>52.928402</td>\n",
       "      <td>49.613464</td>\n",
       "      <td>138.518646</td>\n",
       "      <td>16.305962</td>\n",
       "      <td>58.828270</td>\n",
       "      <td>44.724083</td>\n",
       "      <td>13.669376</td>\n",
       "      <td>9.140445</td>\n",
       "      <td>56.082607</td>\n",
       "      <td>53.777752</td>\n",
       "      <td>42.246517</td>\n",
       "    </tr>\n",
       "    <tr>\n",
       "      <th>17</th>\n",
       "      <td>1.063129e+17</td>\n",
       "      <td>c</td>\n",
       "      <td>MIRA</td>\n",
       "      <td>4.047651</td>\n",
       "      <td>0.000000</td>\n",
       "      <td>2.249241</td>\n",
       "      <td>172.093109</td>\n",
       "      <td>28.211000</td>\n",
       "      <td>41.442081</td>\n",
       "      <td>10.263478</td>\n",
       "      <td>127.560966</td>\n",
       "      <td>30.214989</td>\n",
       "      <td>22.820831</td>\n",
       "      <td>25.851759</td>\n",
       "      <td>5.191811</td>\n",
       "      <td>13.982290</td>\n",
       "      <td>47.453854</td>\n",
       "      <td>81.082016</td>\n",
       "      <td>29.910206</td>\n",
       "    </tr>\n",
       "    <tr>\n",
       "      <th>18</th>\n",
       "      <td>1.350229e+17</td>\n",
       "      <td>c</td>\n",
       "      <td>MIRA</td>\n",
       "      <td>13.558153</td>\n",
       "      <td>0.000000</td>\n",
       "      <td>5.799968</td>\n",
       "      <td>204.251190</td>\n",
       "      <td>45.499130</td>\n",
       "      <td>15.303604</td>\n",
       "      <td>5.919846</td>\n",
       "      <td>94.292313</td>\n",
       "      <td>12.988309</td>\n",
       "      <td>54.446712</td>\n",
       "      <td>0.000000</td>\n",
       "      <td>17.442194</td>\n",
       "      <td>0.000000</td>\n",
       "      <td>33.129963</td>\n",
       "      <td>196.713104</td>\n",
       "      <td>0.000000</td>\n",
       "    </tr>\n",
       "    <tr>\n",
       "      <th>19</th>\n",
       "      <td>8.691276e+16</td>\n",
       "      <td>c</td>\n",
       "      <td>MIRA</td>\n",
       "      <td>13.079325</td>\n",
       "      <td>0.000000</td>\n",
       "      <td>8.120452</td>\n",
       "      <td>77.853378</td>\n",
       "      <td>1.438444</td>\n",
       "      <td>1.781322</td>\n",
       "      <td>51.570053</td>\n",
       "      <td>48.465527</td>\n",
       "      <td>6.460966</td>\n",
       "      <td>13.091308</td>\n",
       "      <td>1.675872</td>\n",
       "      <td>0.000000</td>\n",
       "      <td>5.687624</td>\n",
       "      <td>0.000000</td>\n",
       "      <td>2.565228</td>\n",
       "      <td>26.981300</td>\n",
       "    </tr>\n",
       "    <tr>\n",
       "      <th>20</th>\n",
       "      <td>8.963268e+16</td>\n",
       "      <td>c</td>\n",
       "      <td>MIRA</td>\n",
       "      <td>0.000000</td>\n",
       "      <td>3.467403</td>\n",
       "      <td>17.792759</td>\n",
       "      <td>151.540710</td>\n",
       "      <td>39.463585</td>\n",
       "      <td>36.034683</td>\n",
       "      <td>30.087788</td>\n",
       "      <td>105.572968</td>\n",
       "      <td>15.585480</td>\n",
       "      <td>11.645464</td>\n",
       "      <td>30.002672</td>\n",
       "      <td>11.687626</td>\n",
       "      <td>1.421817</td>\n",
       "      <td>41.313065</td>\n",
       "      <td>16.124388</td>\n",
       "      <td>18.236259</td>\n",
       "    </tr>\n",
       "    <tr>\n",
       "      <th>21</th>\n",
       "      <td>1.455809e+17</td>\n",
       "      <td>c</td>\n",
       "      <td>MIRA</td>\n",
       "      <td>6.195871</td>\n",
       "      <td>8.389601</td>\n",
       "      <td>24.661417</td>\n",
       "      <td>268.252655</td>\n",
       "      <td>55.716278</td>\n",
       "      <td>52.473454</td>\n",
       "      <td>0.000000</td>\n",
       "      <td>106.072983</td>\n",
       "      <td>8.714190</td>\n",
       "      <td>41.681198</td>\n",
       "      <td>60.077946</td>\n",
       "      <td>5.879734</td>\n",
       "      <td>9.859619</td>\n",
       "      <td>55.895466</td>\n",
       "      <td>38.454063</td>\n",
       "      <td>16.716808</td>\n",
       "    </tr>\n",
       "    <tr>\n",
       "      <th>22</th>\n",
       "      <td>8.555260e+16</td>\n",
       "      <td>c</td>\n",
       "      <td>MIRA</td>\n",
       "      <td>19.073933</td>\n",
       "      <td>0.000000</td>\n",
       "      <td>0.000000</td>\n",
       "      <td>146.869598</td>\n",
       "      <td>50.097755</td>\n",
       "      <td>27.164539</td>\n",
       "      <td>5.688738</td>\n",
       "      <td>94.262413</td>\n",
       "      <td>0.000000</td>\n",
       "      <td>16.849590</td>\n",
       "      <td>71.356308</td>\n",
       "      <td>1.208759</td>\n",
       "      <td>13.001811</td>\n",
       "      <td>44.750774</td>\n",
       "      <td>36.640034</td>\n",
       "      <td>20.151016</td>\n",
       "    </tr>\n",
       "    <tr>\n",
       "      <th>23</th>\n",
       "      <td>1.202329e+17</td>\n",
       "      <td>c</td>\n",
       "      <td>MIRA</td>\n",
       "      <td>0.000000</td>\n",
       "      <td>2.913141</td>\n",
       "      <td>17.160566</td>\n",
       "      <td>229.892456</td>\n",
       "      <td>43.177769</td>\n",
       "      <td>46.985283</td>\n",
       "      <td>29.914246</td>\n",
       "      <td>124.782494</td>\n",
       "      <td>13.822671</td>\n",
       "      <td>30.918543</td>\n",
       "      <td>29.774139</td>\n",
       "      <td>6.033563</td>\n",
       "      <td>0.000000</td>\n",
       "      <td>60.402878</td>\n",
       "      <td>23.274260</td>\n",
       "      <td>27.946487</td>\n",
       "    </tr>\n",
       "    <tr>\n",
       "      <th>24</th>\n",
       "      <td>9.758273e+16</td>\n",
       "      <td>c</td>\n",
       "      <td>MIRA</td>\n",
       "      <td>18.388315</td>\n",
       "      <td>10.168336</td>\n",
       "      <td>18.527773</td>\n",
       "      <td>212.873169</td>\n",
       "      <td>22.396610</td>\n",
       "      <td>57.852165</td>\n",
       "      <td>0.000000</td>\n",
       "      <td>45.639854</td>\n",
       "      <td>7.561099</td>\n",
       "      <td>0.000000</td>\n",
       "      <td>85.258087</td>\n",
       "      <td>13.995151</td>\n",
       "      <td>11.214649</td>\n",
       "      <td>48.811718</td>\n",
       "      <td>98.422020</td>\n",
       "      <td>6.618421</td>\n",
       "    </tr>\n",
       "    <tr>\n",
       "      <th>25</th>\n",
       "      <td>8.376111e+16</td>\n",
       "      <td>c</td>\n",
       "      <td>MIRA</td>\n",
       "      <td>0.000000</td>\n",
       "      <td>0.000000</td>\n",
       "      <td>10.439282</td>\n",
       "      <td>284.460358</td>\n",
       "      <td>51.694351</td>\n",
       "      <td>57.275036</td>\n",
       "      <td>17.679211</td>\n",
       "      <td>122.748520</td>\n",
       "      <td>28.124435</td>\n",
       "      <td>43.261730</td>\n",
       "      <td>0.000000</td>\n",
       "      <td>60.126465</td>\n",
       "      <td>0.000000</td>\n",
       "      <td>23.953564</td>\n",
       "      <td>260.779236</td>\n",
       "      <td>0.000000</td>\n",
       "    </tr>\n",
       "    <tr>\n",
       "      <th>26</th>\n",
       "      <td>9.330267e+16</td>\n",
       "      <td>c</td>\n",
       "      <td>MIRA</td>\n",
       "      <td>0.000000</td>\n",
       "      <td>8.538383</td>\n",
       "      <td>22.206858</td>\n",
       "      <td>193.641754</td>\n",
       "      <td>37.396473</td>\n",
       "      <td>28.540079</td>\n",
       "      <td>15.748065</td>\n",
       "      <td>56.838627</td>\n",
       "      <td>10.099524</td>\n",
       "      <td>18.078615</td>\n",
       "      <td>51.773602</td>\n",
       "      <td>21.753117</td>\n",
       "      <td>1.788897</td>\n",
       "      <td>15.041039</td>\n",
       "      <td>66.477936</td>\n",
       "      <td>0.405576</td>\n",
       "    </tr>\n",
       "    <tr>\n",
       "      <th>27</th>\n",
       "      <td>9.981287e+16</td>\n",
       "      <td>c</td>\n",
       "      <td>MIRA</td>\n",
       "      <td>12.989740</td>\n",
       "      <td>0.000000</td>\n",
       "      <td>0.000000</td>\n",
       "      <td>107.224640</td>\n",
       "      <td>45.409855</td>\n",
       "      <td>9.223042</td>\n",
       "      <td>18.175348</td>\n",
       "      <td>68.200600</td>\n",
       "      <td>0.000000</td>\n",
       "      <td>1.451626</td>\n",
       "      <td>26.308033</td>\n",
       "      <td>8.148083</td>\n",
       "      <td>18.326406</td>\n",
       "      <td>54.846443</td>\n",
       "      <td>21.447855</td>\n",
       "      <td>28.324299</td>\n",
       "    </tr>\n",
       "    <tr>\n",
       "      <th>28</th>\n",
       "      <td>1.362931e+17</td>\n",
       "      <td>c</td>\n",
       "      <td>MIRA</td>\n",
       "      <td>6.021677</td>\n",
       "      <td>4.020794</td>\n",
       "      <td>15.732858</td>\n",
       "      <td>150.864288</td>\n",
       "      <td>60.549522</td>\n",
       "      <td>28.845333</td>\n",
       "      <td>0.000000</td>\n",
       "      <td>119.061836</td>\n",
       "      <td>13.531309</td>\n",
       "      <td>38.539211</td>\n",
       "      <td>66.076622</td>\n",
       "      <td>3.014267</td>\n",
       "      <td>12.050446</td>\n",
       "      <td>24.499971</td>\n",
       "      <td>0.673825</td>\n",
       "      <td>10.059020</td>\n",
       "    </tr>\n",
       "    <tr>\n",
       "      <th>29</th>\n",
       "      <td>1.515205e+17</td>\n",
       "      <td>c</td>\n",
       "      <td>MIRA</td>\n",
       "      <td>0.000000</td>\n",
       "      <td>0.000000</td>\n",
       "      <td>34.648823</td>\n",
       "      <td>151.313385</td>\n",
       "      <td>12.887674</td>\n",
       "      <td>24.418697</td>\n",
       "      <td>76.486198</td>\n",
       "      <td>79.799789</td>\n",
       "      <td>10.155815</td>\n",
       "      <td>18.745607</td>\n",
       "      <td>17.293650</td>\n",
       "      <td>2.835660</td>\n",
       "      <td>9.591853</td>\n",
       "      <td>0.000000</td>\n",
       "      <td>3.295822</td>\n",
       "      <td>43.644566</td>\n",
       "    </tr>\n",
       "    <tr>\n",
       "      <th>...</th>\n",
       "      <td>...</td>\n",
       "      <td>...</td>\n",
       "      <td>...</td>\n",
       "      <td>...</td>\n",
       "      <td>...</td>\n",
       "      <td>...</td>\n",
       "      <td>...</td>\n",
       "      <td>...</td>\n",
       "      <td>...</td>\n",
       "      <td>...</td>\n",
       "      <td>...</td>\n",
       "      <td>...</td>\n",
       "      <td>...</td>\n",
       "      <td>...</td>\n",
       "      <td>...</td>\n",
       "      <td>...</td>\n",
       "      <td>...</td>\n",
       "      <td>...</td>\n",
       "      <td>...</td>\n",
       "    </tr>\n",
       "    <tr>\n",
       "      <th>22638</th>\n",
       "      <td>1.053633e+17</td>\n",
       "      <td>o</td>\n",
       "      <td>DBF</td>\n",
       "      <td>5.994737</td>\n",
       "      <td>5.552774</td>\n",
       "      <td>8.224988</td>\n",
       "      <td>153.554764</td>\n",
       "      <td>10.969525</td>\n",
       "      <td>20.953709</td>\n",
       "      <td>0.000000</td>\n",
       "      <td>85.008171</td>\n",
       "      <td>11.410966</td>\n",
       "      <td>36.488018</td>\n",
       "      <td>29.854393</td>\n",
       "      <td>4.668624</td>\n",
       "      <td>5.803159</td>\n",
       "      <td>20.224180</td>\n",
       "      <td>34.991474</td>\n",
       "      <td>26.250240</td>\n",
       "    </tr>\n",
       "    <tr>\n",
       "      <th>22639</th>\n",
       "      <td>9.621330e+16</td>\n",
       "      <td>o</td>\n",
       "      <td>DBF</td>\n",
       "      <td>5.329514</td>\n",
       "      <td>1.587381</td>\n",
       "      <td>18.146212</td>\n",
       "      <td>162.398346</td>\n",
       "      <td>9.144035</td>\n",
       "      <td>27.721615</td>\n",
       "      <td>1.739021</td>\n",
       "      <td>79.189018</td>\n",
       "      <td>19.768036</td>\n",
       "      <td>28.014164</td>\n",
       "      <td>45.907509</td>\n",
       "      <td>2.084313</td>\n",
       "      <td>12.842841</td>\n",
       "      <td>21.888601</td>\n",
       "      <td>56.769901</td>\n",
       "      <td>25.755028</td>\n",
       "    </tr>\n",
       "    <tr>\n",
       "      <th>22640</th>\n",
       "      <td>1.591812e+17</td>\n",
       "      <td>o</td>\n",
       "      <td>DBF</td>\n",
       "      <td>4.964780</td>\n",
       "      <td>6.311964</td>\n",
       "      <td>5.049829</td>\n",
       "      <td>83.049271</td>\n",
       "      <td>2.582347</td>\n",
       "      <td>8.318043</td>\n",
       "      <td>6.674293</td>\n",
       "      <td>42.968262</td>\n",
       "      <td>5.457263</td>\n",
       "      <td>14.996032</td>\n",
       "      <td>23.086634</td>\n",
       "      <td>10.553796</td>\n",
       "      <td>1.649748</td>\n",
       "      <td>12.862707</td>\n",
       "      <td>9.896948</td>\n",
       "      <td>10.578610</td>\n",
       "    </tr>\n",
       "    <tr>\n",
       "      <th>22641</th>\n",
       "      <td>8.686077e+16</td>\n",
       "      <td>o</td>\n",
       "      <td>DBF</td>\n",
       "      <td>0.000000</td>\n",
       "      <td>3.742835</td>\n",
       "      <td>8.330925</td>\n",
       "      <td>157.709564</td>\n",
       "      <td>0.000000</td>\n",
       "      <td>6.892793</td>\n",
       "      <td>3.274429</td>\n",
       "      <td>58.105137</td>\n",
       "      <td>15.986001</td>\n",
       "      <td>46.236027</td>\n",
       "      <td>74.224548</td>\n",
       "      <td>2.126947</td>\n",
       "      <td>3.175765</td>\n",
       "      <td>0.000000</td>\n",
       "      <td>93.822258</td>\n",
       "      <td>43.193554</td>\n",
       "    </tr>\n",
       "    <tr>\n",
       "      <th>22642</th>\n",
       "      <td>9.285257e+16</td>\n",
       "      <td>o</td>\n",
       "      <td>DBF</td>\n",
       "      <td>5.219352</td>\n",
       "      <td>8.825267</td>\n",
       "      <td>16.055843</td>\n",
       "      <td>203.168167</td>\n",
       "      <td>23.943810</td>\n",
       "      <td>21.859970</td>\n",
       "      <td>5.287857</td>\n",
       "      <td>82.138153</td>\n",
       "      <td>7.438471</td>\n",
       "      <td>24.349329</td>\n",
       "      <td>40.839725</td>\n",
       "      <td>17.434654</td>\n",
       "      <td>6.259092</td>\n",
       "      <td>45.455929</td>\n",
       "      <td>24.184044</td>\n",
       "      <td>24.579891</td>\n",
       "    </tr>\n",
       "    <tr>\n",
       "      <th>22643</th>\n",
       "      <td>1.605110e+17</td>\n",
       "      <td>o</td>\n",
       "      <td>DBF</td>\n",
       "      <td>0.000000</td>\n",
       "      <td>2.428030</td>\n",
       "      <td>2.929406</td>\n",
       "      <td>112.450279</td>\n",
       "      <td>6.159574</td>\n",
       "      <td>6.677222</td>\n",
       "      <td>2.571685</td>\n",
       "      <td>48.624043</td>\n",
       "      <td>4.605885</td>\n",
       "      <td>40.777122</td>\n",
       "      <td>39.293922</td>\n",
       "      <td>2.234377</td>\n",
       "      <td>4.092488</td>\n",
       "      <td>11.664299</td>\n",
       "      <td>50.530006</td>\n",
       "      <td>23.835350</td>\n",
       "    </tr>\n",
       "    <tr>\n",
       "      <th>22644</th>\n",
       "      <td>1.383608e+17</td>\n",
       "      <td>o</td>\n",
       "      <td>DBF</td>\n",
       "      <td>8.495028</td>\n",
       "      <td>5.884326</td>\n",
       "      <td>12.835747</td>\n",
       "      <td>180.355728</td>\n",
       "      <td>3.236013</td>\n",
       "      <td>29.082872</td>\n",
       "      <td>3.215272</td>\n",
       "      <td>90.092674</td>\n",
       "      <td>15.831341</td>\n",
       "      <td>37.478336</td>\n",
       "      <td>54.966244</td>\n",
       "      <td>4.245196</td>\n",
       "      <td>10.772512</td>\n",
       "      <td>16.761923</td>\n",
       "      <td>73.570694</td>\n",
       "      <td>35.609165</td>\n",
       "    </tr>\n",
       "    <tr>\n",
       "      <th>22645</th>\n",
       "      <td>7.405056e+16</td>\n",
       "      <td>o</td>\n",
       "      <td>DBF</td>\n",
       "      <td>6.656071</td>\n",
       "      <td>5.557206</td>\n",
       "      <td>8.955935</td>\n",
       "      <td>156.167038</td>\n",
       "      <td>16.581427</td>\n",
       "      <td>10.129501</td>\n",
       "      <td>0.835230</td>\n",
       "      <td>49.517708</td>\n",
       "      <td>8.687218</td>\n",
       "      <td>29.856327</td>\n",
       "      <td>39.248627</td>\n",
       "      <td>9.508236</td>\n",
       "      <td>0.000000</td>\n",
       "      <td>29.830425</td>\n",
       "      <td>29.193750</td>\n",
       "      <td>13.628777</td>\n",
       "    </tr>\n",
       "    <tr>\n",
       "      <th>22646</th>\n",
       "      <td>1.071827e+17</td>\n",
       "      <td>o</td>\n",
       "      <td>DBF</td>\n",
       "      <td>8.666087</td>\n",
       "      <td>5.766712</td>\n",
       "      <td>13.703111</td>\n",
       "      <td>156.145798</td>\n",
       "      <td>12.402468</td>\n",
       "      <td>21.710938</td>\n",
       "      <td>4.253825</td>\n",
       "      <td>85.435402</td>\n",
       "      <td>17.134741</td>\n",
       "      <td>27.176321</td>\n",
       "      <td>33.993664</td>\n",
       "      <td>0.000000</td>\n",
       "      <td>10.102187</td>\n",
       "      <td>42.632927</td>\n",
       "      <td>18.429073</td>\n",
       "      <td>24.646938</td>\n",
       "    </tr>\n",
       "    <tr>\n",
       "      <th>22647</th>\n",
       "      <td>1.696203e+17</td>\n",
       "      <td>o</td>\n",
       "      <td>DBF</td>\n",
       "      <td>9.740307</td>\n",
       "      <td>2.117219</td>\n",
       "      <td>10.234467</td>\n",
       "      <td>152.647003</td>\n",
       "      <td>6.640223</td>\n",
       "      <td>18.803856</td>\n",
       "      <td>0.000000</td>\n",
       "      <td>78.326752</td>\n",
       "      <td>22.117104</td>\n",
       "      <td>19.225920</td>\n",
       "      <td>56.234901</td>\n",
       "      <td>13.804903</td>\n",
       "      <td>12.833709</td>\n",
       "      <td>28.871796</td>\n",
       "      <td>49.679989</td>\n",
       "      <td>27.840931</td>\n",
       "    </tr>\n",
       "    <tr>\n",
       "      <th>22648</th>\n",
       "      <td>1.559500e+17</td>\n",
       "      <td>o</td>\n",
       "      <td>DBF</td>\n",
       "      <td>6.431391</td>\n",
       "      <td>5.804523</td>\n",
       "      <td>7.311945</td>\n",
       "      <td>162.330856</td>\n",
       "      <td>18.277500</td>\n",
       "      <td>16.304054</td>\n",
       "      <td>6.562359</td>\n",
       "      <td>80.073479</td>\n",
       "      <td>11.897069</td>\n",
       "      <td>25.106386</td>\n",
       "      <td>24.830528</td>\n",
       "      <td>18.347244</td>\n",
       "      <td>2.013119</td>\n",
       "      <td>33.031879</td>\n",
       "      <td>0.000000</td>\n",
       "      <td>19.785042</td>\n",
       "    </tr>\n",
       "    <tr>\n",
       "      <th>22649</th>\n",
       "      <td>1.504104e+17</td>\n",
       "      <td>o</td>\n",
       "      <td>DBF</td>\n",
       "      <td>6.747927</td>\n",
       "      <td>3.226236</td>\n",
       "      <td>22.291096</td>\n",
       "      <td>204.819778</td>\n",
       "      <td>24.156004</td>\n",
       "      <td>25.251053</td>\n",
       "      <td>1.688699</td>\n",
       "      <td>95.511040</td>\n",
       "      <td>18.114105</td>\n",
       "      <td>34.629532</td>\n",
       "      <td>38.495033</td>\n",
       "      <td>1.879272</td>\n",
       "      <td>5.967769</td>\n",
       "      <td>47.077789</td>\n",
       "      <td>17.121717</td>\n",
       "      <td>31.259823</td>\n",
       "    </tr>\n",
       "    <tr>\n",
       "      <th>22650</th>\n",
       "      <td>1.071506e+17</td>\n",
       "      <td>o</td>\n",
       "      <td>DBF</td>\n",
       "      <td>8.845963</td>\n",
       "      <td>1.591310</td>\n",
       "      <td>6.489482</td>\n",
       "      <td>123.528931</td>\n",
       "      <td>0.985656</td>\n",
       "      <td>21.204950</td>\n",
       "      <td>0.000000</td>\n",
       "      <td>80.967102</td>\n",
       "      <td>22.686180</td>\n",
       "      <td>22.348526</td>\n",
       "      <td>34.890171</td>\n",
       "      <td>0.000000</td>\n",
       "      <td>16.518730</td>\n",
       "      <td>37.903664</td>\n",
       "      <td>28.594536</td>\n",
       "      <td>14.831349</td>\n",
       "    </tr>\n",
       "    <tr>\n",
       "      <th>22651</th>\n",
       "      <td>1.153527e+17</td>\n",
       "      <td>o</td>\n",
       "      <td>DBF</td>\n",
       "      <td>1.572479</td>\n",
       "      <td>2.486845</td>\n",
       "      <td>13.939042</td>\n",
       "      <td>102.187210</td>\n",
       "      <td>0.000000</td>\n",
       "      <td>4.689854</td>\n",
       "      <td>0.000000</td>\n",
       "      <td>48.761681</td>\n",
       "      <td>12.529449</td>\n",
       "      <td>30.210861</td>\n",
       "      <td>40.013008</td>\n",
       "      <td>2.133185</td>\n",
       "      <td>5.336498</td>\n",
       "      <td>2.702356</td>\n",
       "      <td>56.386902</td>\n",
       "      <td>23.659355</td>\n",
       "    </tr>\n",
       "    <tr>\n",
       "      <th>22652</th>\n",
       "      <td>8.456098e+16</td>\n",
       "      <td>o</td>\n",
       "      <td>DBF</td>\n",
       "      <td>11.102070</td>\n",
       "      <td>3.425816</td>\n",
       "      <td>6.242168</td>\n",
       "      <td>126.353226</td>\n",
       "      <td>5.318112</td>\n",
       "      <td>17.557941</td>\n",
       "      <td>2.021525</td>\n",
       "      <td>67.221062</td>\n",
       "      <td>17.900671</td>\n",
       "      <td>22.210279</td>\n",
       "      <td>33.401794</td>\n",
       "      <td>1.003832</td>\n",
       "      <td>13.357038</td>\n",
       "      <td>42.209625</td>\n",
       "      <td>11.866579</td>\n",
       "      <td>10.848335</td>\n",
       "    </tr>\n",
       "    <tr>\n",
       "      <th>22653</th>\n",
       "      <td>1.263932e+17</td>\n",
       "      <td>o</td>\n",
       "      <td>DBF</td>\n",
       "      <td>9.306100</td>\n",
       "      <td>9.980820</td>\n",
       "      <td>16.663044</td>\n",
       "      <td>166.008209</td>\n",
       "      <td>19.572748</td>\n",
       "      <td>1.671957</td>\n",
       "      <td>0.000000</td>\n",
       "      <td>82.201378</td>\n",
       "      <td>30.936993</td>\n",
       "      <td>19.859344</td>\n",
       "      <td>56.174412</td>\n",
       "      <td>0.907620</td>\n",
       "      <td>11.179413</td>\n",
       "      <td>49.375759</td>\n",
       "      <td>10.703223</td>\n",
       "      <td>21.810642</td>\n",
       "    </tr>\n",
       "    <tr>\n",
       "      <th>22654</th>\n",
       "      <td>1.771007e+17</td>\n",
       "      <td>o</td>\n",
       "      <td>DBF</td>\n",
       "      <td>7.305434</td>\n",
       "      <td>17.793125</td>\n",
       "      <td>6.990545</td>\n",
       "      <td>112.865585</td>\n",
       "      <td>0.426895</td>\n",
       "      <td>11.094398</td>\n",
       "      <td>16.029083</td>\n",
       "      <td>66.854912</td>\n",
       "      <td>4.511665</td>\n",
       "      <td>5.069795</td>\n",
       "      <td>43.750168</td>\n",
       "      <td>12.016502</td>\n",
       "      <td>3.161775</td>\n",
       "      <td>25.181467</td>\n",
       "      <td>0.000000</td>\n",
       "      <td>11.148085</td>\n",
       "    </tr>\n",
       "    <tr>\n",
       "      <th>22655</th>\n",
       "      <td>9.787111e+16</td>\n",
       "      <td>o</td>\n",
       "      <td>DBF</td>\n",
       "      <td>3.946070</td>\n",
       "      <td>8.815918</td>\n",
       "      <td>15.472055</td>\n",
       "      <td>150.170227</td>\n",
       "      <td>7.909192</td>\n",
       "      <td>13.838789</td>\n",
       "      <td>18.549595</td>\n",
       "      <td>78.681145</td>\n",
       "      <td>29.246410</td>\n",
       "      <td>16.731312</td>\n",
       "      <td>43.980778</td>\n",
       "      <td>0.000000</td>\n",
       "      <td>5.310377</td>\n",
       "      <td>36.729004</td>\n",
       "      <td>7.282587</td>\n",
       "      <td>15.503036</td>\n",
       "    </tr>\n",
       "    <tr>\n",
       "      <th>22656</th>\n",
       "      <td>1.521825e+17</td>\n",
       "      <td>o</td>\n",
       "      <td>DBF</td>\n",
       "      <td>10.998936</td>\n",
       "      <td>2.396971</td>\n",
       "      <td>9.591160</td>\n",
       "      <td>145.385635</td>\n",
       "      <td>3.911374</td>\n",
       "      <td>14.281527</td>\n",
       "      <td>2.501177</td>\n",
       "      <td>79.063301</td>\n",
       "      <td>23.910271</td>\n",
       "      <td>20.392590</td>\n",
       "      <td>44.024586</td>\n",
       "      <td>3.257674</td>\n",
       "      <td>14.637846</td>\n",
       "      <td>26.962294</td>\n",
       "      <td>41.080124</td>\n",
       "      <td>19.138805</td>\n",
       "    </tr>\n",
       "    <tr>\n",
       "      <th>22657</th>\n",
       "      <td>1.320803e+17</td>\n",
       "      <td>o</td>\n",
       "      <td>DBF</td>\n",
       "      <td>0.000000</td>\n",
       "      <td>0.000000</td>\n",
       "      <td>13.547804</td>\n",
       "      <td>54.961071</td>\n",
       "      <td>0.000000</td>\n",
       "      <td>30.244936</td>\n",
       "      <td>7.380621</td>\n",
       "      <td>14.427662</td>\n",
       "      <td>11.887297</td>\n",
       "      <td>27.955929</td>\n",
       "      <td>16.042179</td>\n",
       "      <td>0.000000</td>\n",
       "      <td>13.836437</td>\n",
       "      <td>18.100372</td>\n",
       "      <td>1.241482</td>\n",
       "      <td>0.927589</td>\n",
       "    </tr>\n",
       "    <tr>\n",
       "      <th>22658</th>\n",
       "      <td>1.052416e+17</td>\n",
       "      <td>o</td>\n",
       "      <td>DBF</td>\n",
       "      <td>7.159366</td>\n",
       "      <td>8.161121</td>\n",
       "      <td>18.437231</td>\n",
       "      <td>145.736328</td>\n",
       "      <td>6.612663</td>\n",
       "      <td>18.077009</td>\n",
       "      <td>0.000000</td>\n",
       "      <td>75.502823</td>\n",
       "      <td>10.200669</td>\n",
       "      <td>20.060135</td>\n",
       "      <td>41.397392</td>\n",
       "      <td>13.895769</td>\n",
       "      <td>0.000000</td>\n",
       "      <td>26.923645</td>\n",
       "      <td>31.845110</td>\n",
       "      <td>21.862148</td>\n",
       "    </tr>\n",
       "    <tr>\n",
       "      <th>22659</th>\n",
       "      <td>1.224111e+17</td>\n",
       "      <td>o</td>\n",
       "      <td>DBF</td>\n",
       "      <td>2.947069</td>\n",
       "      <td>6.124150</td>\n",
       "      <td>13.014875</td>\n",
       "      <td>210.401062</td>\n",
       "      <td>13.767241</td>\n",
       "      <td>29.007952</td>\n",
       "      <td>2.533478</td>\n",
       "      <td>99.021263</td>\n",
       "      <td>13.298942</td>\n",
       "      <td>48.848713</td>\n",
       "      <td>45.401520</td>\n",
       "      <td>4.835775</td>\n",
       "      <td>9.506069</td>\n",
       "      <td>17.727833</td>\n",
       "      <td>58.456562</td>\n",
       "      <td>37.052498</td>\n",
       "    </tr>\n",
       "    <tr>\n",
       "      <th>22660</th>\n",
       "      <td>1.234311e+17</td>\n",
       "      <td>o</td>\n",
       "      <td>DBF</td>\n",
       "      <td>5.153092</td>\n",
       "      <td>2.712148</td>\n",
       "      <td>15.952361</td>\n",
       "      <td>130.920441</td>\n",
       "      <td>0.000000</td>\n",
       "      <td>7.510931</td>\n",
       "      <td>1.759049</td>\n",
       "      <td>75.204208</td>\n",
       "      <td>22.195595</td>\n",
       "      <td>17.480370</td>\n",
       "      <td>49.221046</td>\n",
       "      <td>4.539549</td>\n",
       "      <td>6.321313</td>\n",
       "      <td>28.674423</td>\n",
       "      <td>30.126492</td>\n",
       "      <td>29.414635</td>\n",
       "    </tr>\n",
       "    <tr>\n",
       "      <th>22661</th>\n",
       "      <td>1.091709e+17</td>\n",
       "      <td>o</td>\n",
       "      <td>DBF</td>\n",
       "      <td>0.000000</td>\n",
       "      <td>5.470980</td>\n",
       "      <td>4.033592</td>\n",
       "      <td>33.029510</td>\n",
       "      <td>4.097268</td>\n",
       "      <td>0.000000</td>\n",
       "      <td>5.050246</td>\n",
       "      <td>18.768858</td>\n",
       "      <td>4.026228</td>\n",
       "      <td>22.028778</td>\n",
       "      <td>19.288866</td>\n",
       "      <td>0.793710</td>\n",
       "      <td>0.000000</td>\n",
       "      <td>5.642261</td>\n",
       "      <td>16.711485</td>\n",
       "      <td>12.485132</td>\n",
       "    </tr>\n",
       "    <tr>\n",
       "      <th>22662</th>\n",
       "      <td>1.331912e+17</td>\n",
       "      <td>o</td>\n",
       "      <td>DBF</td>\n",
       "      <td>12.781794</td>\n",
       "      <td>0.689507</td>\n",
       "      <td>22.840744</td>\n",
       "      <td>105.585167</td>\n",
       "      <td>18.563114</td>\n",
       "      <td>0.000000</td>\n",
       "      <td>17.480518</td>\n",
       "      <td>62.989292</td>\n",
       "      <td>0.000000</td>\n",
       "      <td>8.793983</td>\n",
       "      <td>33.223591</td>\n",
       "      <td>12.181569</td>\n",
       "      <td>5.134916</td>\n",
       "      <td>25.647699</td>\n",
       "      <td>31.893801</td>\n",
       "      <td>0.000000</td>\n",
       "    </tr>\n",
       "    <tr>\n",
       "      <th>22663</th>\n",
       "      <td>1.179129e+17</td>\n",
       "      <td>o</td>\n",
       "      <td>DBF</td>\n",
       "      <td>2.693007</td>\n",
       "      <td>1.473044</td>\n",
       "      <td>33.097111</td>\n",
       "      <td>204.054764</td>\n",
       "      <td>49.276623</td>\n",
       "      <td>11.530067</td>\n",
       "      <td>16.875366</td>\n",
       "      <td>127.506279</td>\n",
       "      <td>23.209587</td>\n",
       "      <td>10.516870</td>\n",
       "      <td>67.400528</td>\n",
       "      <td>10.855581</td>\n",
       "      <td>19.177702</td>\n",
       "      <td>29.487644</td>\n",
       "      <td>51.868187</td>\n",
       "      <td>34.449852</td>\n",
       "    </tr>\n",
       "    <tr>\n",
       "      <th>22664</th>\n",
       "      <td>1.582035e+17</td>\n",
       "      <td>o</td>\n",
       "      <td>DBF</td>\n",
       "      <td>8.586851</td>\n",
       "      <td>4.763575</td>\n",
       "      <td>16.185884</td>\n",
       "      <td>127.349152</td>\n",
       "      <td>3.494312</td>\n",
       "      <td>12.970348</td>\n",
       "      <td>0.000000</td>\n",
       "      <td>65.978958</td>\n",
       "      <td>22.607616</td>\n",
       "      <td>12.733410</td>\n",
       "      <td>26.669348</td>\n",
       "      <td>1.418361</td>\n",
       "      <td>11.249251</td>\n",
       "      <td>21.315680</td>\n",
       "      <td>32.526127</td>\n",
       "      <td>14.572712</td>\n",
       "    </tr>\n",
       "    <tr>\n",
       "      <th>22665</th>\n",
       "      <td>1.244526e+17</td>\n",
       "      <td>o</td>\n",
       "      <td>DBF</td>\n",
       "      <td>11.644609</td>\n",
       "      <td>0.000000</td>\n",
       "      <td>16.826273</td>\n",
       "      <td>179.876663</td>\n",
       "      <td>15.426777</td>\n",
       "      <td>11.780231</td>\n",
       "      <td>4.972373</td>\n",
       "      <td>93.403984</td>\n",
       "      <td>16.908905</td>\n",
       "      <td>20.011398</td>\n",
       "      <td>47.094669</td>\n",
       "      <td>16.229580</td>\n",
       "      <td>0.810496</td>\n",
       "      <td>24.878149</td>\n",
       "      <td>58.881996</td>\n",
       "      <td>47.114792</td>\n",
       "    </tr>\n",
       "    <tr>\n",
       "      <th>22666</th>\n",
       "      <td>1.685933e+17</td>\n",
       "      <td>o</td>\n",
       "      <td>DBF</td>\n",
       "      <td>9.998068</td>\n",
       "      <td>4.594879</td>\n",
       "      <td>0.000000</td>\n",
       "      <td>126.555428</td>\n",
       "      <td>7.630226</td>\n",
       "      <td>6.617572</td>\n",
       "      <td>14.140164</td>\n",
       "      <td>39.494884</td>\n",
       "      <td>17.327654</td>\n",
       "      <td>26.577848</td>\n",
       "      <td>35.074566</td>\n",
       "      <td>2.294971</td>\n",
       "      <td>9.404458</td>\n",
       "      <td>41.981792</td>\n",
       "      <td>0.000000</td>\n",
       "      <td>0.000000</td>\n",
       "    </tr>\n",
       "    <tr>\n",
       "      <th>22667</th>\n",
       "      <td>1.207026e+17</td>\n",
       "      <td>o</td>\n",
       "      <td>DBF</td>\n",
       "      <td>16.157846</td>\n",
       "      <td>4.574479</td>\n",
       "      <td>13.766380</td>\n",
       "      <td>112.622017</td>\n",
       "      <td>0.000000</td>\n",
       "      <td>22.608988</td>\n",
       "      <td>13.235407</td>\n",
       "      <td>53.249828</td>\n",
       "      <td>13.981942</td>\n",
       "      <td>21.718275</td>\n",
       "      <td>21.267544</td>\n",
       "      <td>0.000000</td>\n",
       "      <td>14.916579</td>\n",
       "      <td>46.292259</td>\n",
       "      <td>12.911444</td>\n",
       "      <td>0.000000</td>\n",
       "    </tr>\n",
       "  </tbody>\n",
       "</table>\n",
       "<p>48189 rows × 19 columns</p>\n",
       "</div>"
      ],
      "text/plain": [
       "              OBJID filter CLASS   encode_1   encode_2   encode_3    encode_4  \\\n",
       "0      8.756263e+16      c  MIRA   0.000000   0.000000  40.220776  336.721008   \n",
       "1      1.232128e+17      c  MIRA  14.778156  19.635433   0.000000  198.213348   \n",
       "2      8.684271e+16      c  MIRA  14.750517   8.584417  28.986626  331.828308   \n",
       "3      9.259280e+16      c  MIRA  14.294035   0.000000  22.084637  247.401978   \n",
       "4      8.767266e+16      c  MIRA   5.533474   0.000000  14.531010  141.571869   \n",
       "5      9.405266e+16      c  MIRA   2.182894  15.177378  18.751123  129.916061   \n",
       "6      1.038128e+17      c  MIRA  13.835340  16.104973  29.369650  220.939651   \n",
       "7      7.923260e+16      c  MIRA  19.241953  14.425549  26.609470  207.872025   \n",
       "8      7.706109e+16      c  MIRA  10.661039   0.000000  38.709484  132.139801   \n",
       "9      9.327271e+16      c  MIRA   0.000000   9.038069  21.475845  194.960541   \n",
       "10     1.159429e+17      c  MIRA   0.000000  14.312844  35.297779  130.656250   \n",
       "11     9.093283e+16      c  MIRA  16.780045   0.000000  59.616077  577.901245   \n",
       "12     9.510266e+16      c  MIRA  25.377680   0.000000  28.305511  191.334488   \n",
       "13     1.203630e+17      c  MIRA  19.019758   0.000000  17.403677   83.785042   \n",
       "14     1.013028e+17      c  MIRA  22.550501   0.000000  17.599098  113.453743   \n",
       "15     8.032264e+16      c  MIRA   2.291492  16.538511  19.284948  205.663116   \n",
       "16     8.502270e+16      c  MIRA   0.000000   0.000000  36.601860  353.521271   \n",
       "17     1.063129e+17      c  MIRA   4.047651   0.000000   2.249241  172.093109   \n",
       "18     1.350229e+17      c  MIRA  13.558153   0.000000   5.799968  204.251190   \n",
       "19     8.691276e+16      c  MIRA  13.079325   0.000000   8.120452   77.853378   \n",
       "20     8.963268e+16      c  MIRA   0.000000   3.467403  17.792759  151.540710   \n",
       "21     1.455809e+17      c  MIRA   6.195871   8.389601  24.661417  268.252655   \n",
       "22     8.555260e+16      c  MIRA  19.073933   0.000000   0.000000  146.869598   \n",
       "23     1.202329e+17      c  MIRA   0.000000   2.913141  17.160566  229.892456   \n",
       "24     9.758273e+16      c  MIRA  18.388315  10.168336  18.527773  212.873169   \n",
       "25     8.376111e+16      c  MIRA   0.000000   0.000000  10.439282  284.460358   \n",
       "26     9.330267e+16      c  MIRA   0.000000   8.538383  22.206858  193.641754   \n",
       "27     9.981287e+16      c  MIRA  12.989740   0.000000   0.000000  107.224640   \n",
       "28     1.362931e+17      c  MIRA   6.021677   4.020794  15.732858  150.864288   \n",
       "29     1.515205e+17      c  MIRA   0.000000   0.000000  34.648823  151.313385   \n",
       "...             ...    ...   ...        ...        ...        ...         ...   \n",
       "22638  1.053633e+17      o   DBF   5.994737   5.552774   8.224988  153.554764   \n",
       "22639  9.621330e+16      o   DBF   5.329514   1.587381  18.146212  162.398346   \n",
       "22640  1.591812e+17      o   DBF   4.964780   6.311964   5.049829   83.049271   \n",
       "22641  8.686077e+16      o   DBF   0.000000   3.742835   8.330925  157.709564   \n",
       "22642  9.285257e+16      o   DBF   5.219352   8.825267  16.055843  203.168167   \n",
       "22643  1.605110e+17      o   DBF   0.000000   2.428030   2.929406  112.450279   \n",
       "22644  1.383608e+17      o   DBF   8.495028   5.884326  12.835747  180.355728   \n",
       "22645  7.405056e+16      o   DBF   6.656071   5.557206   8.955935  156.167038   \n",
       "22646  1.071827e+17      o   DBF   8.666087   5.766712  13.703111  156.145798   \n",
       "22647  1.696203e+17      o   DBF   9.740307   2.117219  10.234467  152.647003   \n",
       "22648  1.559500e+17      o   DBF   6.431391   5.804523   7.311945  162.330856   \n",
       "22649  1.504104e+17      o   DBF   6.747927   3.226236  22.291096  204.819778   \n",
       "22650  1.071506e+17      o   DBF   8.845963   1.591310   6.489482  123.528931   \n",
       "22651  1.153527e+17      o   DBF   1.572479   2.486845  13.939042  102.187210   \n",
       "22652  8.456098e+16      o   DBF  11.102070   3.425816   6.242168  126.353226   \n",
       "22653  1.263932e+17      o   DBF   9.306100   9.980820  16.663044  166.008209   \n",
       "22654  1.771007e+17      o   DBF   7.305434  17.793125   6.990545  112.865585   \n",
       "22655  9.787111e+16      o   DBF   3.946070   8.815918  15.472055  150.170227   \n",
       "22656  1.521825e+17      o   DBF  10.998936   2.396971   9.591160  145.385635   \n",
       "22657  1.320803e+17      o   DBF   0.000000   0.000000  13.547804   54.961071   \n",
       "22658  1.052416e+17      o   DBF   7.159366   8.161121  18.437231  145.736328   \n",
       "22659  1.224111e+17      o   DBF   2.947069   6.124150  13.014875  210.401062   \n",
       "22660  1.234311e+17      o   DBF   5.153092   2.712148  15.952361  130.920441   \n",
       "22661  1.091709e+17      o   DBF   0.000000   5.470980   4.033592   33.029510   \n",
       "22662  1.331912e+17      o   DBF  12.781794   0.689507  22.840744  105.585167   \n",
       "22663  1.179129e+17      o   DBF   2.693007   1.473044  33.097111  204.054764   \n",
       "22664  1.582035e+17      o   DBF   8.586851   4.763575  16.185884  127.349152   \n",
       "22665  1.244526e+17      o   DBF  11.644609   0.000000  16.826273  179.876663   \n",
       "22666  1.685933e+17      o   DBF   9.998068   4.594879   0.000000  126.555428   \n",
       "22667  1.207026e+17      o   DBF  16.157846   4.574479  13.766380  112.622017   \n",
       "\n",
       "         encode_5   encode_6   encode_7    encode_8   encode_9  encode_10  \\\n",
       "0       82.547630  38.915081  74.268440  105.115280  29.269661  47.805931   \n",
       "1       27.869883  32.023434  20.488991  109.037994   0.000000  21.767908   \n",
       "2       55.907661   9.306194  42.841953   86.873291   4.814669  45.091660   \n",
       "3       26.170912  43.595749  54.307011   72.370537   3.537352  48.392071   \n",
       "4        7.674263  19.418148  84.463409   74.978867   8.586517  20.990602   \n",
       "5       49.866810  29.119293   0.000000   84.426414   9.825982  18.275341   \n",
       "6       32.232979  23.104280  25.139009   85.431328  16.404484  23.719509   \n",
       "7       28.937883  35.453945  16.578161  108.094444   8.336200  16.942289   \n",
       "8       24.485403  26.688658  40.201538   75.754898  15.637185   0.000000   \n",
       "9       54.718281  39.164326  23.400055  108.671638  11.601582  30.452971   \n",
       "10      41.363701  39.160023  25.972925   77.610451   0.000000   0.000000   \n",
       "11     118.782890  19.137354   0.000000  344.480103  53.001698  59.882004   \n",
       "12       1.272589  49.591312   7.625830   30.555166  11.654358   0.000000   \n",
       "13      14.573679  14.921638  21.653297   24.013184   3.764996   6.789404   \n",
       "14      16.570150  10.527836  28.505188   32.734081   9.754731   7.601369   \n",
       "15      45.688423  43.459030   0.441215   99.463684  14.430114   1.570680   \n",
       "16      56.293079  52.928402  49.613464  138.518646  16.305962  58.828270   \n",
       "17      28.211000  41.442081  10.263478  127.560966  30.214989  22.820831   \n",
       "18      45.499130  15.303604   5.919846   94.292313  12.988309  54.446712   \n",
       "19       1.438444   1.781322  51.570053   48.465527   6.460966  13.091308   \n",
       "20      39.463585  36.034683  30.087788  105.572968  15.585480  11.645464   \n",
       "21      55.716278  52.473454   0.000000  106.072983   8.714190  41.681198   \n",
       "22      50.097755  27.164539   5.688738   94.262413   0.000000  16.849590   \n",
       "23      43.177769  46.985283  29.914246  124.782494  13.822671  30.918543   \n",
       "24      22.396610  57.852165   0.000000   45.639854   7.561099   0.000000   \n",
       "25      51.694351  57.275036  17.679211  122.748520  28.124435  43.261730   \n",
       "26      37.396473  28.540079  15.748065   56.838627  10.099524  18.078615   \n",
       "27      45.409855   9.223042  18.175348   68.200600   0.000000   1.451626   \n",
       "28      60.549522  28.845333   0.000000  119.061836  13.531309  38.539211   \n",
       "29      12.887674  24.418697  76.486198   79.799789  10.155815  18.745607   \n",
       "...           ...        ...        ...         ...        ...        ...   \n",
       "22638   10.969525  20.953709   0.000000   85.008171  11.410966  36.488018   \n",
       "22639    9.144035  27.721615   1.739021   79.189018  19.768036  28.014164   \n",
       "22640    2.582347   8.318043   6.674293   42.968262   5.457263  14.996032   \n",
       "22641    0.000000   6.892793   3.274429   58.105137  15.986001  46.236027   \n",
       "22642   23.943810  21.859970   5.287857   82.138153   7.438471  24.349329   \n",
       "22643    6.159574   6.677222   2.571685   48.624043   4.605885  40.777122   \n",
       "22644    3.236013  29.082872   3.215272   90.092674  15.831341  37.478336   \n",
       "22645   16.581427  10.129501   0.835230   49.517708   8.687218  29.856327   \n",
       "22646   12.402468  21.710938   4.253825   85.435402  17.134741  27.176321   \n",
       "22647    6.640223  18.803856   0.000000   78.326752  22.117104  19.225920   \n",
       "22648   18.277500  16.304054   6.562359   80.073479  11.897069  25.106386   \n",
       "22649   24.156004  25.251053   1.688699   95.511040  18.114105  34.629532   \n",
       "22650    0.985656  21.204950   0.000000   80.967102  22.686180  22.348526   \n",
       "22651    0.000000   4.689854   0.000000   48.761681  12.529449  30.210861   \n",
       "22652    5.318112  17.557941   2.021525   67.221062  17.900671  22.210279   \n",
       "22653   19.572748   1.671957   0.000000   82.201378  30.936993  19.859344   \n",
       "22654    0.426895  11.094398  16.029083   66.854912   4.511665   5.069795   \n",
       "22655    7.909192  13.838789  18.549595   78.681145  29.246410  16.731312   \n",
       "22656    3.911374  14.281527   2.501177   79.063301  23.910271  20.392590   \n",
       "22657    0.000000  30.244936   7.380621   14.427662  11.887297  27.955929   \n",
       "22658    6.612663  18.077009   0.000000   75.502823  10.200669  20.060135   \n",
       "22659   13.767241  29.007952   2.533478   99.021263  13.298942  48.848713   \n",
       "22660    0.000000   7.510931   1.759049   75.204208  22.195595  17.480370   \n",
       "22661    4.097268   0.000000   5.050246   18.768858   4.026228  22.028778   \n",
       "22662   18.563114   0.000000  17.480518   62.989292   0.000000   8.793983   \n",
       "22663   49.276623  11.530067  16.875366  127.506279  23.209587  10.516870   \n",
       "22664    3.494312  12.970348   0.000000   65.978958  22.607616  12.733410   \n",
       "22665   15.426777  11.780231   4.972373   93.403984  16.908905  20.011398   \n",
       "22666    7.630226   6.617572  14.140164   39.494884  17.327654  26.577848   \n",
       "22667    0.000000  22.608988  13.235407   53.249828  13.981942  21.718275   \n",
       "\n",
       "        encode_11  encode_12  encode_13   encode_14   encode_15  encode_16  \n",
       "0       36.730053   9.723154   0.000000   51.673851   71.604446  28.513775  \n",
       "1       49.728687   8.013769  25.502790   35.302757   26.231499  41.401054  \n",
       "2       72.552834  15.134164   6.896567   52.581211   37.785271  27.721138  \n",
       "3       23.857714   0.904099   0.000000   31.099239   12.879484  35.439678  \n",
       "4       26.324255   0.323762   3.540833    0.000000   33.450390  24.233498  \n",
       "5       59.830593   0.000000  10.730834   32.102154   33.089176   4.943291  \n",
       "6       67.341850   8.862018  16.320877   35.345200   79.061058  15.094724  \n",
       "7       71.461319   7.813332  36.975956   36.122513   67.606155   8.130115  \n",
       "8        9.914756  11.801835  23.124187   28.167589    0.000000  10.542234  \n",
       "9       56.924397   2.053812   9.374201   48.418533   41.493679  10.580890  \n",
       "10       1.908189   6.518844   6.040843   20.865402   44.345207   0.000000  \n",
       "11     126.283150  68.721779   0.000000  177.562546  419.711487   0.000000  \n",
       "12      57.048077  15.221059  13.014573   22.479691   77.115173  35.929390  \n",
       "13      27.793806   4.666286   6.981000    6.301558    0.000000   3.552762  \n",
       "14       9.457034   0.491664   0.000000    8.873426    1.216870  12.802382  \n",
       "15      81.573990  10.251625   9.407040   52.274700   89.202301   9.611493  \n",
       "16      44.724083  13.669376   9.140445   56.082607   53.777752  42.246517  \n",
       "17      25.851759   5.191811  13.982290   47.453854   81.082016  29.910206  \n",
       "18       0.000000  17.442194   0.000000   33.129963  196.713104   0.000000  \n",
       "19       1.675872   0.000000   5.687624    0.000000    2.565228  26.981300  \n",
       "20      30.002672  11.687626   1.421817   41.313065   16.124388  18.236259  \n",
       "21      60.077946   5.879734   9.859619   55.895466   38.454063  16.716808  \n",
       "22      71.356308   1.208759  13.001811   44.750774   36.640034  20.151016  \n",
       "23      29.774139   6.033563   0.000000   60.402878   23.274260  27.946487  \n",
       "24      85.258087  13.995151  11.214649   48.811718   98.422020   6.618421  \n",
       "25       0.000000  60.126465   0.000000   23.953564  260.779236   0.000000  \n",
       "26      51.773602  21.753117   1.788897   15.041039   66.477936   0.405576  \n",
       "27      26.308033   8.148083  18.326406   54.846443   21.447855  28.324299  \n",
       "28      66.076622   3.014267  12.050446   24.499971    0.673825  10.059020  \n",
       "29      17.293650   2.835660   9.591853    0.000000    3.295822  43.644566  \n",
       "...           ...        ...        ...         ...         ...        ...  \n",
       "22638   29.854393   4.668624   5.803159   20.224180   34.991474  26.250240  \n",
       "22639   45.907509   2.084313  12.842841   21.888601   56.769901  25.755028  \n",
       "22640   23.086634  10.553796   1.649748   12.862707    9.896948  10.578610  \n",
       "22641   74.224548   2.126947   3.175765    0.000000   93.822258  43.193554  \n",
       "22642   40.839725  17.434654   6.259092   45.455929   24.184044  24.579891  \n",
       "22643   39.293922   2.234377   4.092488   11.664299   50.530006  23.835350  \n",
       "22644   54.966244   4.245196  10.772512   16.761923   73.570694  35.609165  \n",
       "22645   39.248627   9.508236   0.000000   29.830425   29.193750  13.628777  \n",
       "22646   33.993664   0.000000  10.102187   42.632927   18.429073  24.646938  \n",
       "22647   56.234901  13.804903  12.833709   28.871796   49.679989  27.840931  \n",
       "22648   24.830528  18.347244   2.013119   33.031879    0.000000  19.785042  \n",
       "22649   38.495033   1.879272   5.967769   47.077789   17.121717  31.259823  \n",
       "22650   34.890171   0.000000  16.518730   37.903664   28.594536  14.831349  \n",
       "22651   40.013008   2.133185   5.336498    2.702356   56.386902  23.659355  \n",
       "22652   33.401794   1.003832  13.357038   42.209625   11.866579  10.848335  \n",
       "22653   56.174412   0.907620  11.179413   49.375759   10.703223  21.810642  \n",
       "22654   43.750168  12.016502   3.161775   25.181467    0.000000  11.148085  \n",
       "22655   43.980778   0.000000   5.310377   36.729004    7.282587  15.503036  \n",
       "22656   44.024586   3.257674  14.637846   26.962294   41.080124  19.138805  \n",
       "22657   16.042179   0.000000  13.836437   18.100372    1.241482   0.927589  \n",
       "22658   41.397392  13.895769   0.000000   26.923645   31.845110  21.862148  \n",
       "22659   45.401520   4.835775   9.506069   17.727833   58.456562  37.052498  \n",
       "22660   49.221046   4.539549   6.321313   28.674423   30.126492  29.414635  \n",
       "22661   19.288866   0.793710   0.000000    5.642261   16.711485  12.485132  \n",
       "22662   33.223591  12.181569   5.134916   25.647699   31.893801   0.000000  \n",
       "22663   67.400528  10.855581  19.177702   29.487644   51.868187  34.449852  \n",
       "22664   26.669348   1.418361  11.249251   21.315680   32.526127  14.572712  \n",
       "22665   47.094669  16.229580   0.810496   24.878149   58.881996  47.114792  \n",
       "22666   35.074566   2.294971   9.404458   41.981792    0.000000   0.000000  \n",
       "22667   21.267544   0.000000  14.916579   46.292259   12.911444   0.000000  \n",
       "\n",
       "[48189 rows x 19 columns]"
      ]
     },
     "execution_count": 212,
     "metadata": {},
     "output_type": "execute_result"
    }
   ],
   "source": [
    "enc"
   ]
  },
  {
   "cell_type": "markdown",
   "metadata": {},
   "source": [
    "Now with the deltamdeltat diagrams"
   ]
  },
  {
   "cell_type": "code",
   "execution_count": 6,
   "metadata": {},
   "outputs": [
    {
     "name": "stderr",
     "output_type": "stream",
     "text": [
      "/home/bruno/.virtualenvs/iPTF/lib/python2.7/site-packages/ipykernel_launcher.py:3: FutureWarning: Method .as_matrix will be removed in a future version. Use .values instead.\n",
      "  This is separate from the ipykernel package so we can avoid doing imports until\n"
     ]
    },
    {
     "data": {
      "image/png": "[encoded data removed]",
      "text/plain": [
       "<matplotlib.figure.Figure at 0x7f0914e10e10>"
      ]
     },
     "metadata": {},
     "output_type": "display_data"
    }
   ],
   "source": [
    "df_mira = pd.read_csv('ATLAS_LC/MIRA_features_table.csv')\n",
    "signature_cols = [col for col in df_mira.columns if 'Deltam' in col]\n",
    "plt.imshow(df_mira[signature_cols].iloc[2787].as_matrix().reshape(23, 24).T, cmap='inferno')\n",
    "plt.show()"
   ]
  },
  {
   "cell_type": "code",
   "execution_count": 7,
   "metadata": {
    "collapsed": true
   },
   "outputs": [],
   "source": [
    "signature_cols += ['OBJID', 'filter', 'CLASS']\n",
    "df_mira = df_mira[signature_cols]"
   ]
  },
  {
   "cell_type": "code",
   "execution_count": 8,
   "metadata": {},
   "outputs": [],
   "source": [
    "df_mpulse = pd.read_csv('ATLAS_LC/MPULSE_features_table.csv')[signature_cols]\n",
    "df_dbf = pd.read_csv('ATLAS_LC/DBF_features_table.csv')[signature_cols]\n",
    "df_lpv = pd.read_csv('ATLAS_LC/LPV_features_table.csv')[signature_cols]\n",
    "df_dbh = pd.read_csv('ATLAS_LC/DBH_features_table.csv')[signature_cols]\n",
    "df_pulse = pd.read_csv('ATLAS_LC/PULSE_features_table.csv')[signature_cols]\n",
    "df_nsine = pd.read_csv('ATLAS_LC/NSINE_features_table.csv')[signature_cols]\n",
    "df_sine = pd.read_csv('ATLAS_LC/SINE_features_table.csv')[signature_cols]\n",
    "df_msine = pd.read_csv('ATLAS_LC/MSINE_features_table.csv')[signature_cols]\n",
    "df_cbh = pd.read_csv('ATLAS_LC/CBH_features_table.csv')[signature_cols]\n",
    "df_cbf = pd.read_csv('ATLAS_LC/CBF_features_table.csv')[signature_cols]\n",
    "df_irr = pd.read_csv('ATLAS_LC/IRR_features_table.csv')[signature_cols]"
   ]
  },
  {
   "cell_type": "code",
   "execution_count": 9,
   "metadata": {},
   "outputs": [
    {
     "name": "stderr",
     "output_type": "stream",
     "text": [
      "/home/bruno/.virtualenvs/iPTF/lib/python2.7/site-packages/ipykernel_launcher.py:4: FutureWarning: Method .as_matrix will be removed in a future version. Use .values instead.\n",
      "  after removing the cwd from sys.path.\n"
     ]
    }
   ],
   "source": [
    "full_data = pd.concat([df_mira, df_mpulse, df_dbf, df_lpv, df_dbh, df_pulse, \n",
    "                       df_nsine, df_sine, df_msine, df_cbf, df_cbh])\n",
    "signature_cols = [col for col in df_mira.columns if 'Deltam' in col]\n",
    "X = full_data[signature_cols].as_matrix()"
   ]
  },
  {
   "cell_type": "code",
   "execution_count": 10,
   "metadata": {
    "collapsed": true
   },
   "outputs": [],
   "source": [
    "del(df_mira)"
   ]
  },
  {
   "cell_type": "code",
   "execution_count": 11,
   "metadata": {
    "collapsed": true
   },
   "outputs": [],
   "source": [
    "del(df_mpulse)"
   ]
  },
  {
   "cell_type": "code",
   "execution_count": 12,
   "metadata": {
    "collapsed": true
   },
   "outputs": [],
   "source": [
    "del(df_dbf)"
   ]
  },
  {
   "cell_type": "code",
   "execution_count": 13,
   "metadata": {
    "collapsed": true
   },
   "outputs": [],
   "source": [
    "del(df_lpv)"
   ]
  },
  {
   "cell_type": "code",
   "execution_count": 14,
   "metadata": {
    "collapsed": true
   },
   "outputs": [],
   "source": [
    "del(df_dbh)"
   ]
  },
  {
   "cell_type": "code",
   "execution_count": 15,
   "metadata": {
    "collapsed": true
   },
   "outputs": [],
   "source": [
    "del(df_pulse)"
   ]
  },
  {
   "cell_type": "code",
   "execution_count": 16,
   "metadata": {
    "collapsed": true
   },
   "outputs": [],
   "source": [
    "del(df_cbf)"
   ]
  },
  {
   "cell_type": "code",
   "execution_count": 17,
   "metadata": {
    "collapsed": true
   },
   "outputs": [],
   "source": [
    "del(df_cbh)"
   ]
  },
  {
   "cell_type": "code",
   "execution_count": 18,
   "metadata": {
    "collapsed": true
   },
   "outputs": [],
   "source": [
    "del(df_nsine)"
   ]
  },
  {
   "cell_type": "code",
   "execution_count": 19,
   "metadata": {
    "collapsed": true
   },
   "outputs": [],
   "source": [
    "del(df_sine)"
   ]
  },
  {
   "cell_type": "code",
   "execution_count": 20,
   "metadata": {
    "collapsed": true
   },
   "outputs": [],
   "source": [
    "del(df_msine)"
   ]
  },
  {
   "cell_type": "code",
   "execution_count": 21,
   "metadata": {
    "collapsed": true
   },
   "outputs": [],
   "source": [
    "del(df_irr)"
   ]
  },
  {
   "cell_type": "code",
   "execution_count": 22,
   "metadata": {
    "collapsed": true
   },
   "outputs": [],
   "source": [
    "X_train, X_test = train_test_split(X, test_size=0.10, random_state=17)"
   ]
  },
  {
   "cell_type": "code",
   "execution_count": 23,
   "metadata": {},
   "outputs": [
    {
     "name": "stdout",
     "output_type": "stream",
     "text": [
      "(326278, 552)\n",
      "(36254, 552)\n"
     ]
    }
   ],
   "source": [
    "print X_train.shape\n",
    "print X_test.shape"
   ]
  },
  {
   "cell_type": "code",
   "execution_count": 48,
   "metadata": {
    "collapsed": true
   },
   "outputs": [],
   "source": [
    "## this is the size of our encoded representations\n",
    "encoding_dim = 32  # 32 floats -> compression of factor 24.5, assuming the input is 784 floats\n",
    "\n",
    "# this is our input placeholder\n",
    "input_img = Input(shape=(23*24,))\n",
    "# \"encoded\" is the encoded representation of the input\n",
    "encoded = Dense(encoding_dim, activation='relu')(input_img)\n",
    "# \"decoded\" is the lossy reconstruction of the input\n",
    "decoded = Dense(23*24, activation='sigmoid')(encoded)\n",
    "\n",
    "# this model maps an input to its reconstruction\n",
    "autoencoder = Model(input_img, decoded)"
   ]
  },
  {
   "cell_type": "code",
   "execution_count": 49,
   "metadata": {
    "collapsed": true
   },
   "outputs": [],
   "source": [
    "# this model maps an input to its encoded representation\n",
    "encoder = Model(input_img, encoded)"
   ]
  },
  {
   "cell_type": "code",
   "execution_count": 50,
   "metadata": {
    "collapsed": true
   },
   "outputs": [],
   "source": [
    "# create a placeholder for an encoded (32-dimensional) input\n",
    "encoded_input = Input(shape=(encoding_dim,))\n",
    "# retrieve the last layer of the autoencoder model\n",
    "decoder_layer = autoencoder.layers[-1]\n",
    "# create the decoder model\n",
    "decoder = Model(encoded_input, decoder_layer(encoded_input))"
   ]
  },
  {
   "cell_type": "code",
   "execution_count": 51,
   "metadata": {},
   "outputs": [],
   "source": [
    "autoencoder.compile(optimizer='adadelta', loss='binary_crossentropy')"
   ]
  },
  {
   "cell_type": "code",
   "execution_count": 52,
   "metadata": {
    "scrolled": true
   },
   "outputs": [
    {
     "name": "stdout",
     "output_type": "stream",
     "text": [
      "Train on 326278 samples, validate on 36254 samples\n",
      "Epoch 1/50\n",
      "326278/326278 [==============================] - 13s - loss: -3.4078 - val_loss: -5.4776\n",
      "Epoch 2/50\n",
      "326278/326278 [==============================] - 13s - loss: -5.6143 - val_loss: -5.7046\n",
      "Epoch 3/50\n",
      "326278/326278 [==============================] - 13s - loss: -5.7381 - val_loss: -5.7608\n",
      "Epoch 4/50\n",
      "326278/326278 [==============================] - 13s - loss: -5.7869 - val_loss: -5.8060\n",
      "Epoch 5/50\n",
      "326278/326278 [==============================] - 13s - loss: -5.8261 - val_loss: -5.8352\n",
      "Epoch 6/50\n",
      "326278/326278 [==============================] - 13s - loss: -5.8495 - val_loss: -5.8536\n",
      "Epoch 7/50\n",
      "326278/326278 [==============================] - 13s - loss: -5.8636 - val_loss: -5.8635\n",
      "Epoch 8/50\n",
      "326278/326278 [==============================] - 13s - loss: -5.8728 - val_loss: -5.8738\n",
      "Epoch 9/50\n",
      "326278/326278 [==============================] - 13s - loss: -5.8860 - val_loss: -5.8985\n",
      "Epoch 10/50\n",
      "326278/326278 [==============================] - 13s - loss: -5.9119 - val_loss: -5.9114\n",
      "Epoch 11/50\n",
      "326278/326278 [==============================] - 13s - loss: -5.9195 - val_loss: -5.9175\n",
      "Epoch 12/50\n",
      "326278/326278 [==============================] - 14s - loss: -5.9246 - val_loss: -5.9217\n",
      "Epoch 13/50\n",
      "326278/326278 [==============================] - 13s - loss: -5.9289 - val_loss: -5.9263\n",
      "Epoch 14/50\n",
      "326278/326278 [==============================] - 13s - loss: -5.9329 - val_loss: -5.9296\n",
      "Epoch 15/50\n",
      "326278/326278 [==============================] - 14s - loss: -5.9362 - val_loss: -5.9328\n",
      "Epoch 16/50\n",
      "326278/326278 [==============================] - 13s - loss: -5.9391 - val_loss: -5.9359\n",
      "Epoch 17/50\n",
      "326278/326278 [==============================] - 13s - loss: -5.9418 - val_loss: -5.9380\n",
      "Epoch 18/50\n",
      "326278/326278 [==============================] - 13s - loss: -5.9442 - val_loss: -5.9405\n",
      "Epoch 19/50\n",
      "326278/326278 [==============================] - 13s - loss: -5.9465 - val_loss: -5.9429\n",
      "Epoch 20/50\n",
      "326278/326278 [==============================] - 13s - loss: -5.9486 - val_loss: -5.9451\n",
      "Epoch 21/50\n",
      "326278/326278 [==============================] - 13s - loss: -5.9506 - val_loss: -5.9472\n",
      "Epoch 22/50\n",
      "326278/326278 [==============================] - 13s - loss: -5.9525 - val_loss: -5.9489\n",
      "Epoch 23/50\n",
      "326278/326278 [==============================] - 13s - loss: -5.9543 - val_loss: -5.9505\n",
      "Epoch 24/50\n",
      "326278/326278 [==============================] - 14s - loss: -5.9561 - val_loss: -5.9526\n",
      "Epoch 25/50\n",
      "326278/326278 [==============================] - 13s - loss: -5.9576 - val_loss: -5.9539\n",
      "Epoch 26/50\n",
      "326278/326278 [==============================] - 13s - loss: -5.9589 - val_loss: -5.9551\n",
      "Epoch 27/50\n",
      "326278/326278 [==============================] - 13s - loss: -5.9604 - val_loss: -5.9569\n",
      "Epoch 28/50\n",
      "326278/326278 [==============================] - 13s - loss: -5.9617 - val_loss: -5.9579\n",
      "Epoch 29/50\n",
      "326278/326278 [==============================] - 13s - loss: -5.9631 - val_loss: -5.9592\n",
      "Epoch 30/50\n",
      "326278/326278 [==============================] - 13s - loss: -5.9643 - val_loss: -5.9605\n",
      "Epoch 31/50\n",
      "326278/326278 [==============================] - 13s - loss: -5.9655 - val_loss: -5.9620\n",
      "Epoch 32/50\n",
      "326278/326278 [==============================] - 14s - loss: -5.9666 - val_loss: -5.9627\n",
      "Epoch 33/50\n",
      "326278/326278 [==============================] - 14s - loss: -5.9677 - val_loss: -5.9637\n",
      "Epoch 34/50\n",
      "326278/326278 [==============================] - 14s - loss: -5.9686 - val_loss: -5.9646\n",
      "Epoch 35/50\n",
      "326278/326278 [==============================] - 14s - loss: -5.9698 - val_loss: -5.9662\n",
      "Epoch 36/50\n",
      "326278/326278 [==============================] - 14s - loss: -5.9711 - val_loss: -5.9675\n",
      "Epoch 37/50\n",
      "326278/326278 [==============================] - 13s - loss: -5.9721 - val_loss: -5.9686\n",
      "Epoch 38/50\n",
      "326278/326278 [==============================] - 13s - loss: -5.9730 - val_loss: -5.9688\n",
      "Epoch 39/50\n",
      "326278/326278 [==============================] - 13s - loss: -5.9739 - val_loss: -5.9698\n",
      "Epoch 40/50\n",
      "326278/326278 [==============================] - 13s - loss: -5.9749 - val_loss: -5.9714\n",
      "Epoch 41/50\n",
      "326278/326278 [==============================] - 13s - loss: -5.9758 - val_loss: -5.9719\n",
      "Epoch 42/50\n",
      "326278/326278 [==============================] - 13s - loss: -5.9767 - val_loss: -5.9727 -5.97\n",
      "Epoch 43/50\n",
      "326278/326278 [==============================] - 14s - loss: -5.9775 - val_loss: -5.9737\n",
      "Epoch 44/50\n",
      "326278/326278 [==============================] - 15s - loss: -5.9784 - val_loss: -5.9746\n",
      "Epoch 45/50\n",
      "326278/326278 [==============================] - 13s - loss: -5.9792 - val_loss: -5.9753\n",
      "Epoch 46/50\n",
      "326278/326278 [==============================] - 13s - loss: -5.9800 - val_loss: -5.9762\n",
      "Epoch 47/50\n",
      "326278/326278 [==============================] - 13s - loss: -5.9808 - val_loss: -5.9771\n",
      "Epoch 48/50\n",
      "326278/326278 [==============================] - 13s - loss: -5.9816 - val_loss: -5.9776 -\n",
      "Epoch 49/50\n",
      "326278/326278 [==============================] - 13s - loss: -5.9823 - val_loss: -5.9784 -\n",
      "Epoch 50/50\n",
      "326278/326278 [==============================] - 13s - loss: -5.9830 - val_loss: -5.9791\n",
      "Train on 326278 samples, validate on 36254 samples\n",
      "Epoch 1/10\n",
      "326278/326278 [==============================] - 14s - loss: -5.9836 - val_loss: -5.9798\n",
      "Epoch 2/10\n",
      "326278/326278 [==============================] - 14s - loss: -5.9840 - val_loss: -5.9802\n",
      "Epoch 3/10\n",
      "326278/326278 [==============================] - 14s - loss: -5.9844 - val_loss: -5.9803\n",
      "Epoch 4/10\n",
      "326278/326278 [==============================] - 14s - loss: -5.9847 - val_loss: -5.9809\n",
      "Epoch 5/10\n",
      "326278/326278 [==============================] - 14s - loss: -5.9851 - val_loss: -5.9812\n",
      "Epoch 6/10\n",
      "326278/326278 [==============================] - 14s - loss: -5.9855 - val_loss: -5.9814\n",
      "Epoch 7/10\n",
      "326278/326278 [==============================] - 14s - loss: -5.9858 - val_loss: -5.9818\n",
      "Epoch 8/10\n",
      "326278/326278 [==============================] - 14s - loss: -5.9862 - val_loss: -5.9823\n",
      "Epoch 9/10\n",
      "326278/326278 [==============================] - 14s - loss: -5.9866 - val_loss: -5.9828\n",
      "Epoch 10/10\n",
      "326278/326278 [==============================] - 14s - loss: -5.9870 - val_loss: -5.9831\n",
      "Train on 326278 samples, validate on 36254 samples\n",
      "Epoch 1/20\n",
      "326278/326278 [==============================] - 14s - loss: -5.9878 - val_loss: -5.9844\n",
      "Epoch 2/20\n",
      "326278/326278 [==============================] - 14s - loss: -5.9893 - val_loss: -5.9859\n",
      "Epoch 3/20\n",
      "326278/326278 [==============================] - 14s - loss: -5.9905 - val_loss: -5.9872\n",
      "Epoch 4/20\n",
      "326278/326278 [==============================] - 14s - loss: -5.9929 - val_loss: -5.9916\n",
      "Epoch 5/20\n",
      "326278/326278 [==============================] - 14s - loss: -5.9970 - val_loss: -5.9939\n",
      "Epoch 6/20\n",
      "326278/326278 [==============================] - 14s - loss: -5.9989 - val_loss: -5.9957\n",
      "Epoch 7/20\n",
      "326278/326278 [==============================] - 14s - loss: -6.0004 - val_loss: -5.9973\n",
      "Epoch 8/20\n",
      "326278/326278 [==============================] - 14s - loss: -6.0019 - val_loss: -5.9985\n",
      "Epoch 9/20\n",
      "326278/326278 [==============================] - 14s - loss: -6.0031 - val_loss: -6.0000\n",
      "Epoch 10/20\n",
      "326278/326278 [==============================] - 14s - loss: -6.0044 - val_loss: -6.0010\n",
      "Epoch 11/20\n",
      "326278/326278 [==============================] - 14s - loss: -6.0055 - val_loss: -6.0023\n",
      "Epoch 12/20\n",
      "326278/326278 [==============================] - 14s - loss: -6.0066 - val_loss: -6.0035\n",
      "Epoch 13/20\n",
      "326278/326278 [==============================] - 14s - loss: -6.0076 - val_loss: -6.0043\n",
      "Epoch 14/20\n",
      "326278/326278 [==============================] - 14s - loss: -6.0086 - val_loss: -6.0054\n",
      "Epoch 15/20\n",
      "326278/326278 [==============================] - 14s - loss: -6.0095 - val_loss: -6.0063\n",
      "Epoch 16/20\n",
      "326278/326278 [==============================] - 15s - loss: -6.0104 - val_loss: -6.0070\n",
      "Epoch 17/20\n",
      "326278/326278 [==============================] - 14s - loss: -6.0113 - val_loss: -6.0079\n",
      "Epoch 18/20\n",
      "326278/326278 [==============================] - 14s - loss: -6.0121 - val_loss: -6.0088\n",
      "Epoch 19/20\n",
      "326278/326278 [==============================] - 14s - loss: -6.0129 - val_loss: -6.0095\n",
      "Epoch 20/20\n"
     ]
    },
    {
     "name": "stdout",
     "output_type": "stream",
     "text": [
      "326278/326278 [==============================] - 13s - loss: -6.0137 - val_loss: -6.0104\n",
      "Train on 326278 samples, validate on 36254 samples\n",
      "Epoch 1/20\n",
      "326278/326278 [==============================] - 12s - loss: -6.0143 - val_loss: -6.0107\n",
      "Epoch 2/20\n",
      "326278/326278 [==============================] - 13s - loss: -6.0146 - val_loss: -6.0109\n",
      "Epoch 3/20\n",
      "326278/326278 [==============================] - 13s - loss: -6.0148 - val_loss: -6.0114\n",
      "Epoch 4/20\n",
      "326278/326278 [==============================] - 13s - loss: -6.0152 - val_loss: -6.0116\n",
      "Epoch 5/20\n",
      "326278/326278 [==============================] - 13s - loss: -6.0155 - val_loss: -6.0118\n",
      "Epoch 6/20\n",
      "326278/326278 [==============================] - 13s - loss: -6.0157 - val_loss: -6.0122\n",
      "Epoch 7/20\n",
      "326278/326278 [==============================] - 13s - loss: -6.0161 - val_loss: -6.0125\n",
      "Epoch 8/20\n",
      "326278/326278 [==============================] - 13s - loss: -6.0164 - val_loss: -6.0127\n",
      "Epoch 9/20\n",
      "326278/326278 [==============================] - 13s - loss: -6.0167 - val_loss: -6.0131\n",
      "Epoch 10/20\n",
      "326278/326278 [==============================] - 12s - loss: -6.0170 - val_loss: -6.0136\n",
      "Epoch 11/20\n",
      "326278/326278 [==============================] - 12s - loss: -6.0173 - val_loss: -6.0138\n",
      "Epoch 12/20\n",
      "326278/326278 [==============================] - 13s - loss: -6.0177 - val_loss: -6.0140\n",
      "Epoch 13/20\n",
      "326278/326278 [==============================] - 12s - loss: -6.0180 - val_loss: -6.0143\n",
      "Epoch 14/20\n",
      "326278/326278 [==============================] - 13s - loss: -6.0183 - val_loss: -6.0146\n",
      "Epoch 15/20\n",
      "326278/326278 [==============================] - 13s - loss: -6.0185 - val_loss: -6.0151\n",
      "Epoch 16/20\n",
      "326278/326278 [==============================] - 13s - loss: -6.0189 - val_loss: -6.0153\n",
      "Epoch 17/20\n",
      "326278/326278 [==============================] - 13s - loss: -6.0192 - val_loss: -6.0156\n",
      "Epoch 18/20\n",
      "326278/326278 [==============================] - 13s - loss: -6.0195 - val_loss: -6.0158\n",
      "Epoch 19/20\n",
      "326278/326278 [==============================] - 13s - loss: -6.0197 - val_loss: -6.0162\n",
      "Epoch 20/20\n",
      "326278/326278 [==============================] - 13s - loss: -6.0200 - val_loss: -6.0163\n"
     ]
    },
    {
     "data": {
      "text/plain": [
       "<keras.callbacks.History at 0x7f0910c7f290>"
      ]
     },
     "execution_count": 52,
     "metadata": {},
     "output_type": "execute_result"
    }
   ],
   "source": [
    "autoencoder.fit(X_train, X_train,\n",
    "                epochs=50,\n",
    "                batch_size=5000,\n",
    "                shuffle=True,\n",
    "                validation_data=(X_test, X_test))\n",
    "\n",
    "autoencoder.fit(X_train, X_train,\n",
    "                epochs=10,\n",
    "                batch_size=9000,\n",
    "                shuffle=True,\n",
    "                validation_data=(X_test, X_test))\n",
    "\n",
    "autoencoder.fit(X_train, X_train,\n",
    "                epochs=20,\n",
    "                batch_size=2500,\n",
    "                shuffle=True,\n",
    "                validation_data=(X_test, X_test))\n",
    "\n",
    "autoencoder.fit(X_train, X_train,\n",
    "                epochs=20,\n",
    "                batch_size=5000,\n",
    "                shuffle=True,\n",
    "                validation_data=(X_test, X_test))\n"
   ]
  },
  {
   "cell_type": "code",
   "execution_count": 53,
   "metadata": {
    "collapsed": true
   },
   "outputs": [],
   "source": [
    "# encode and decode some lightcurves\n",
    "# note that we take them from the *test* set\n",
    "encoded_imgs = encoder.predict(X_test)\n",
    "decoded_imgs = decoder.predict(encoded_imgs)"
   ]
  },
  {
   "cell_type": "code",
   "execution_count": 54,
   "metadata": {},
   "outputs": [
    {
     "data": {
      "image/png": "[encoded data removed]",
      "text/plain": [
       "<matplotlib.figure.Figure at 0x7f09111789d0>"
      ]
     },
     "metadata": {},
     "output_type": "display_data"
    }
   ],
   "source": [
    "# use Matplotlib (don't ask)\n",
    "import matplotlib.pyplot as plt\n",
    "\n",
    "n = 6  # how many digits we will display\n",
    "plt.figure(figsize=(12, 4))\n",
    "for i in range(n):\n",
    "    # display original\n",
    "    ax = plt.subplot(2, n, i + 1)\n",
    "    j = np.random.randint(0, high=len(X_test))\n",
    "    plt.imshow(X_test[j].reshape(23, 24).T, cmap='inferno')\n",
    "    \n",
    "    ax.get_xaxis().set_visible(False)\n",
    "    ax.get_yaxis().set_visible(False)\n",
    "\n",
    "    # display reconstruction\n",
    "    ax = plt.subplot(2, n, i + 1 + n)\n",
    "    plt.imshow(decoded_imgs[j].reshape(23, 24).T, cmap='inferno')\n",
    "    ax.get_xaxis().set_visible(False)\n",
    "    ax.get_yaxis().set_visible(False)\n",
    "\n",
    "plt.tight_layout()"
   ]
  },
  {
   "cell_type": "code",
   "execution_count": 55,
   "metadata": {
    "collapsed": true
   },
   "outputs": [],
   "source": [
    "# encode every data \n",
    "encoded_imgs = encoder.predict(X)"
   ]
  },
  {
   "cell_type": "code",
   "execution_count": 56,
   "metadata": {},
   "outputs": [
    {
     "data": {
      "text/plain": [
       "(362532, 32)"
      ]
     },
     "execution_count": 56,
     "metadata": {},
     "output_type": "execute_result"
    }
   ],
   "source": [
    "encoded_imgs.shape"
   ]
  },
  {
   "cell_type": "code",
   "execution_count": 57,
   "metadata": {
    "collapsed": true
   },
   "outputs": [],
   "source": [
    "enc = pd.DataFrame()\n",
    "enc['OBJID'] = full_data['OBJID']\n",
    "enc['filter'] = full_data['filter']\n",
    "enc['CLASS'] = full_data['CLASS']\n",
    "for i in range(encoding_dim):\n",
    "    enc['encode_{}'.format(i+1)] = encoded_imgs[:, i]\n",
    "enc.to_csv('ATLAS_LC/deltamdeltat_{}_encoded.csv'.format(encoded.shape[1]))"
   ]
  },
  {
   "cell_type": "markdown",
   "metadata": {},
   "source": [
    "### LINEAR Dataset"
   ]
  },
  {
   "cell_type": "code",
   "execution_count": 13,
   "metadata": {
    "collapsed": true
   },
   "outputs": [],
   "source": [
    "features = pd.read_pickle('features/features.pkl')"
   ]
  },
  {
   "cell_type": "code",
   "execution_count": 34,
   "metadata": {
    "collapsed": true
   },
   "outputs": [],
   "source": [
    "features = features.dropna(axis=0, how='any')"
   ]
  },
  {
   "cell_type": "code",
   "execution_count": 35,
   "metadata": {},
   "outputs": [
    {
     "data": {
      "text/plain": [
       "290"
      ]
     },
     "execution_count": 35,
     "metadata": {},
     "output_type": "execute_result"
    }
   ],
   "source": [
    "len(features.columns)"
   ]
  },
  {
   "cell_type": "code",
   "execution_count": 115,
   "metadata": {},
   "outputs": [
    {
     "data": {
      "text/plain": [
       "7193"
      ]
     },
     "execution_count": 115,
     "metadata": {},
     "output_type": "execute_result"
    }
   ],
   "source": [
    "len(features)"
   ]
  },
  {
   "cell_type": "code",
   "execution_count": 36,
   "metadata": {
    "collapsed": true
   },
   "outputs": [],
   "source": [
    "def from_ij_to_idx(i, j, n_i):\n",
    "    idx = j * n_i + i\n",
    "    return idx\n",
    "\n",
    "def from_idx_to_ij(idx, n_i):\n",
    "    frac = float(idx)/float(n_i)\n",
    "    j = int(frac)\n",
    "    i = int((frac - j) * n_i)\n",
    "    return i, j"
   ]
  },
  {
   "cell_type": "code",
   "execution_count": 41,
   "metadata": {
    "collapsed": true
   },
   "outputs": [],
   "source": [
    "vartypes = ['RRLyrab', 'RRLyrc', 'Algol1', 'Algol2', \n",
    "            'CB', 'DScuti', 'LPVar', 'HBeat', 'BLHer', \n",
    "            'AnomCephei', 'Other']\n",
    "types = features[['LCtype']]"
   ]
  },
  {
   "cell_type": "code",
   "execution_count": 117,
   "metadata": {
    "collapsed": true
   },
   "outputs": [],
   "source": [
    "rrlyab = features[features.LCtype==1]"
   ]
  },
  {
   "cell_type": "code",
   "execution_count": 256,
   "metadata": {
    "collapsed": true
   },
   "outputs": [],
   "source": [
    "rrlyab = features"
   ]
  },
  {
   "cell_type": "code",
   "execution_count": 257,
   "metadata": {},
   "outputs": [
    {
     "data": {
      "text/plain": [
       "7193"
      ]
     },
     "execution_count": 257,
     "metadata": {},
     "output_type": "execute_result"
    }
   ],
   "source": [
    "len(rrlyab)"
   ]
  },
  {
   "cell_type": "code",
   "execution_count": 258,
   "metadata": {
    "collapsed": true
   },
   "outputs": [],
   "source": [
    "def from_id_to_signature(starid, n_x=18, n_y=12):\n",
    "    signature = np.empty((n_y, n_x))\n",
    "    for x in range(n_x):\n",
    "        for y in range(n_y):\n",
    "            signature[y, x] = features.iloc[starid]['Signature_x_{}_y_{}'.format(x, y)]\n",
    "    return signature"
   ]
  },
  {
   "cell_type": "code",
   "execution_count": 259,
   "metadata": {},
   "outputs": [
    {
     "data": {
      "image/png": "[encoded data removed]",
      "text/plain": [
       "<matplotlib.figure.Figure at 0x7fbbeea46890>"
      ]
     },
     "metadata": {},
     "output_type": "display_data"
    }
   ],
   "source": [
    "lc0 = from_id_to_signature(7)\n",
    "plt.imshow(lc0)\n",
    "plt.show()"
   ]
  },
  {
   "cell_type": "code",
   "execution_count": 260,
   "metadata": {
    "collapsed": true
   },
   "outputs": [],
   "source": [
    "cols = rrlyab.columns[rrlyab.columns.str.startswith('Signature')]"
   ]
  },
  {
   "cell_type": "code",
   "execution_count": 261,
   "metadata": {
    "collapsed": true
   },
   "outputs": [],
   "source": [
    "Xset = rrlyab[cols]"
   ]
  },
  {
   "cell_type": "code",
   "execution_count": 262,
   "metadata": {
    "collapsed": true
   },
   "outputs": [],
   "source": [
    "def from_row_to_sign(tablerow, n_x=18, n_y=12):\n",
    "    signature = np.empty((n_y, n_x))\n",
    "    for x in range(n_x):\n",
    "        for y in range(n_y):\n",
    "            signature[y, x] = tablerow['Signature_x_{}_y_{}'.format(x, y)]\n",
    "    return signature"
   ]
  },
  {
   "cell_type": "code",
   "execution_count": 263,
   "metadata": {
    "collapsed": true
   },
   "outputs": [],
   "source": [
    "data = np.empty((len(Xset), 216))\n",
    "\n",
    "for i in range(len(Xset)):\n",
    "    sign = from_row_to_sign(Xset.iloc[i])\n",
    "    sign = sign.reshape(216)\n",
    "    data[i, :] = sign\n",
    "\n",
    "newX = pd.DataFrame(data)"
   ]
  },
  {
   "cell_type": "code",
   "execution_count": 264,
   "metadata": {
    "scrolled": true
   },
   "outputs": [
    {
     "data": {
      "image/png": "[encoded data removed]",
      "text/plain": [
       "<matplotlib.figure.Figure at 0x7fbbef8cf510>"
      ]
     },
     "metadata": {},
     "output_type": "display_data"
    }
   ],
   "source": [
    "plt.imshow(from_row_to_sign(Xset.iloc[12]))\n",
    "#.as_matrix().reshape(18, 12).T)\n",
    "plt.show()"
   ]
  },
  {
   "cell_type": "code",
   "execution_count": 265,
   "metadata": {},
   "outputs": [
    {
     "data": {
      "image/png": "[encoded data removed]",
      "text/plain": [
       "<matplotlib.figure.Figure at 0x7fbbef1b0790>"
      ]
     },
     "metadata": {},
     "output_type": "display_data"
    }
   ],
   "source": [
    "plt.imshow(newX.iloc[12].as_matrix().reshape(12, 18))\n",
    "plt.show()"
   ]
  },
  {
   "cell_type": "code",
   "execution_count": 266,
   "metadata": {
    "collapsed": true
   },
   "outputs": [],
   "source": [
    "from sklearn.model_selection import train_test_split"
   ]
  },
  {
   "cell_type": "code",
   "execution_count": 267,
   "metadata": {
    "collapsed": true
   },
   "outputs": [],
   "source": [
    "X_train, X_test = train_test_split(newX, test_size=0.10, random_state=42)"
   ]
  },
  {
   "cell_type": "code",
   "execution_count": 268,
   "metadata": {
    "collapsed": true
   },
   "outputs": [],
   "source": [
    "X_train = X_train.as_matrix() "
   ]
  },
  {
   "cell_type": "code",
   "execution_count": 269,
   "metadata": {
    "collapsed": true
   },
   "outputs": [],
   "source": [
    "X_test = X_test.as_matrix()"
   ]
  },
  {
   "cell_type": "code",
   "execution_count": 299,
   "metadata": {
    "collapsed": true
   },
   "outputs": [],
   "source": [
    "## this is the size of our encoded representations\n",
    "encoding_dim = 32  # 32 floats -> compression of factor 24.5, assuming the input is 784 floats\n",
    "\n",
    "# this is our input placeholder\n",
    "input_img = Input(shape=(216,))\n",
    "# \"encoded\" is the encoded representation of the input\n",
    "encoded = Dense(encoding_dim, activation='relu')(input_img)\n",
    "# \"decoded\" is the lossy reconstruction of the input\n",
    "decoded = Dense(216, activation='sigmoid')(encoded)\n",
    "\n",
    "# this model maps an input to its reconstruction\n",
    "autoencoder = Model(input_img, decoded)"
   ]
  },
  {
   "cell_type": "code",
   "execution_count": 300,
   "metadata": {
    "collapsed": true
   },
   "outputs": [],
   "source": [
    "# this model maps an input to its encoded representation\n",
    "encoder = Model(input_img, encoded)"
   ]
  },
  {
   "cell_type": "code",
   "execution_count": 301,
   "metadata": {
    "collapsed": true
   },
   "outputs": [],
   "source": [
    "# create a placeholder for an encoded (32-dimensional) input\n",
    "encoded_input = Input(shape=(encoding_dim,))\n",
    "# retrieve the last layer of the autoencoder model\n",
    "decoder_layer = autoencoder.layers[-1]\n",
    "# create the decoder model\n",
    "decoder = Model(encoded_input, decoder_layer(encoded_input))"
   ]
  },
  {
   "cell_type": "code",
   "execution_count": 302,
   "metadata": {
    "collapsed": true
   },
   "outputs": [],
   "source": [
    "autoencoder.compile(optimizer='adadelta', loss='binary_crossentropy')"
   ]
  },
  {
   "cell_type": "code",
   "execution_count": 303,
   "metadata": {
    "scrolled": true
   },
   "outputs": [
    {
     "name": "stdout",
     "output_type": "stream",
     "text": [
      "Train on 6473 samples, validate on 720 samples\n",
      "Epoch 1/80\n",
      "6473/6473 [==============================] - 1s 85us/step - loss: 0.6253 - val_loss: 0.5392\n",
      "Epoch 2/80\n",
      "6473/6473 [==============================] - 0s 30us/step - loss: 0.4503 - val_loss: 0.3690\n",
      "Epoch 3/80\n",
      "6473/6473 [==============================] - 0s 27us/step - loss: 0.2929 - val_loss: 0.2225\n",
      "Epoch 4/80\n",
      "6473/6473 [==============================] - 0s 29us/step - loss: 0.1731 - val_loss: 0.1275\n",
      "Epoch 5/80\n",
      "6473/6473 [==============================] - 0s 36us/step - loss: 0.0906 - val_loss: 0.0584\n",
      "Epoch 6/80\n",
      "6473/6473 [==============================] - 0s 36us/step - loss: 0.0263 - val_loss: 0.0027\n",
      "Epoch 7/80\n",
      "6473/6473 [==============================] - 0s 33us/step - loss: -0.0276 - val_loss: -0.0436\n",
      "Epoch 8/80\n",
      "6473/6473 [==============================] - 0s 29us/step - loss: -0.0730 - val_loss: -0.0822\n",
      "Epoch 9/80\n",
      "6473/6473 [==============================] - 0s 28us/step - loss: -0.1120 - val_loss: -0.1151\n",
      "Epoch 10/80\n",
      "6473/6473 [==============================] - 0s 27us/step - loss: -0.1463 - val_loss: -0.1437\n",
      "Epoch 11/80\n",
      "6473/6473 [==============================] - 0s 25us/step - loss: -0.1778 - val_loss: -0.1718\n",
      "Epoch 12/80\n",
      "6473/6473 [==============================] - 0s 24us/step - loss: -0.2064 - val_loss: -0.1957\n",
      "Epoch 13/80\n",
      "6473/6473 [==============================] - 0s 26us/step - loss: -0.2332 - val_loss: -0.2193\n",
      "Epoch 14/80\n",
      "6473/6473 [==============================] - 0s 24us/step - loss: -0.2572 - val_loss: -0.2409\n",
      "Epoch 15/80\n",
      "6473/6473 [==============================] - 0s 24us/step - loss: -0.2797 - val_loss: -0.2584\n",
      "Epoch 16/80\n",
      "6473/6473 [==============================] - 0s 24us/step - loss: -0.2999 - val_loss: -0.2755\n",
      "Epoch 17/80\n",
      "6473/6473 [==============================] - 0s 25us/step - loss: -0.3179 - val_loss: -0.2904\n",
      "Epoch 18/80\n",
      "6473/6473 [==============================] - 0s 24us/step - loss: -0.3343 - val_loss: -0.3054\n",
      "Epoch 19/80\n",
      "6473/6473 [==============================] - 0s 28us/step - loss: -0.3486 - val_loss: -0.3187\n",
      "Epoch 20/80\n",
      "6473/6473 [==============================] - 0s 24us/step - loss: -0.3618 - val_loss: -0.3280\n",
      "Epoch 21/80\n",
      "6473/6473 [==============================] - 0s 25us/step - loss: -0.3732 - val_loss: -0.3382\n",
      "Epoch 22/80\n",
      "6473/6473 [==============================] - 0s 25us/step - loss: -0.3834 - val_loss: -0.3467\n",
      "Epoch 23/80\n",
      "6473/6473 [==============================] - 0s 25us/step - loss: -0.3926 - val_loss: -0.3531\n",
      "Epoch 24/80\n",
      "6473/6473 [==============================] - 0s 24us/step - loss: -0.4008 - val_loss: -0.3613\n",
      "Epoch 25/80\n",
      "6473/6473 [==============================] - 0s 24us/step - loss: -0.4081 - val_loss: -0.3681\n",
      "Epoch 26/80\n",
      "6473/6473 [==============================] - 0s 25us/step - loss: -0.4145 - val_loss: -0.3721\n",
      "Epoch 27/80\n",
      "6473/6473 [==============================] - 0s 26us/step - loss: -0.4204 - val_loss: -0.3770\n",
      "Epoch 28/80\n",
      "6473/6473 [==============================] - 0s 25us/step - loss: -0.4257 - val_loss: -0.3804\n",
      "Epoch 29/80\n",
      "6473/6473 [==============================] - 0s 24us/step - loss: -0.4301 - val_loss: -0.3863\n",
      "Epoch 30/80\n",
      "6473/6473 [==============================] - 0s 24us/step - loss: -0.4345 - val_loss: -0.3889\n",
      "Epoch 31/80\n",
      "6473/6473 [==============================] - 0s 25us/step - loss: -0.4384 - val_loss: -0.3905\n",
      "Epoch 32/80\n",
      "6473/6473 [==============================] - 0s 25us/step - loss: -0.4419 - val_loss: -0.3932\n",
      "Epoch 33/80\n",
      "6473/6473 [==============================] - 0s 27us/step - loss: -0.4450 - val_loss: -0.3970\n",
      "Epoch 34/80\n",
      "6473/6473 [==============================] - 0s 25us/step - loss: -0.4480 - val_loss: -0.3976\n",
      "Epoch 35/80\n",
      "6473/6473 [==============================] - 0s 25us/step - loss: -0.4505 - val_loss: -0.4013\n",
      "Epoch 36/80\n",
      "6473/6473 [==============================] - 0s 24us/step - loss: -0.4530 - val_loss: -0.4038\n",
      "Epoch 37/80\n",
      "6473/6473 [==============================] - 0s 25us/step - loss: -0.4552 - val_loss: -0.4042\n",
      "Epoch 38/80\n",
      "6473/6473 [==============================] - 0s 26us/step - loss: -0.4576 - val_loss: -0.4056\n",
      "Epoch 39/80\n",
      "6473/6473 [==============================] - 0s 25us/step - loss: -0.4591 - val_loss: -0.4079\n",
      "Epoch 40/80\n",
      "6473/6473 [==============================] - 0s 25us/step - loss: -0.4614 - val_loss: -0.4096\n",
      "Epoch 41/80\n",
      "6473/6473 [==============================] - 0s 26us/step - loss: -0.4628 - val_loss: -0.4104\n",
      "Epoch 42/80\n",
      "6473/6473 [==============================] - 0s 26us/step - loss: -0.4644 - val_loss: -0.4119\n",
      "Epoch 43/80\n",
      "6473/6473 [==============================] - 0s 24us/step - loss: -0.4661 - val_loss: -0.4112\n",
      "Epoch 44/80\n",
      "6473/6473 [==============================] - 0s 29us/step - loss: -0.4676 - val_loss: -0.4146\n",
      "Epoch 45/80\n",
      "6473/6473 [==============================] - 0s 26us/step - loss: -0.4689 - val_loss: -0.4155\n",
      "Epoch 46/80\n",
      "6473/6473 [==============================] - 0s 25us/step - loss: -0.4705 - val_loss: -0.4162\n",
      "Epoch 47/80\n",
      "6473/6473 [==============================] - 0s 25us/step - loss: -0.4713 - val_loss: -0.4180\n",
      "Epoch 48/80\n",
      "6473/6473 [==============================] - 0s 26us/step - loss: -0.4726 - val_loss: -0.4183\n",
      "Epoch 49/80\n",
      "6473/6473 [==============================] - 0s 24us/step - loss: -0.4740 - val_loss: -0.4186\n",
      "Epoch 50/80\n",
      "6473/6473 [==============================] - 0s 24us/step - loss: -0.4748 - val_loss: -0.4199\n",
      "Epoch 51/80\n",
      "6473/6473 [==============================] - 0s 25us/step - loss: -0.4761 - val_loss: -0.4205\n",
      "Epoch 52/80\n",
      "6473/6473 [==============================] - 0s 24us/step - loss: -0.4771 - val_loss: -0.4219\n",
      "Epoch 53/80\n",
      "6473/6473 [==============================] - 0s 25us/step - loss: -0.4780 - val_loss: -0.4229\n",
      "Epoch 54/80\n",
      "6473/6473 [==============================] - 0s 24us/step - loss: -0.4791 - val_loss: -0.4233\n",
      "Epoch 55/80\n",
      "6473/6473 [==============================] - 0s 26us/step - loss: -0.4798 - val_loss: -0.4234\n",
      "Epoch 56/80\n",
      "6473/6473 [==============================] - 0s 26us/step - loss: -0.4809 - val_loss: -0.4220\n",
      "Epoch 57/80\n",
      "6473/6473 [==============================] - 0s 26us/step - loss: -0.4816 - val_loss: -0.4242\n",
      "Epoch 58/80\n",
      "6473/6473 [==============================] - 0s 25us/step - loss: -0.4827 - val_loss: -0.4242\n",
      "Epoch 59/80\n",
      "6473/6473 [==============================] - 0s 25us/step - loss: -0.4835 - val_loss: -0.4269\n",
      "Epoch 60/80\n",
      "6473/6473 [==============================] - 0s 26us/step - loss: -0.4840 - val_loss: -0.4263\n",
      "Epoch 61/80\n",
      "6473/6473 [==============================] - 0s 24us/step - loss: -0.4851 - val_loss: -0.4268\n",
      "Epoch 62/80\n",
      "6473/6473 [==============================] - 0s 24us/step - loss: -0.4857 - val_loss: -0.4282\n",
      "Epoch 63/80\n",
      "6473/6473 [==============================] - 0s 24us/step - loss: -0.4863 - val_loss: -0.4297\n",
      "Epoch 64/80\n",
      "6473/6473 [==============================] - 0s 25us/step - loss: -0.4872 - val_loss: -0.4281\n",
      "Epoch 65/80\n",
      "6473/6473 [==============================] - 0s 25us/step - loss: -0.4878 - val_loss: -0.4300\n",
      "Epoch 66/80\n",
      "6473/6473 [==============================] - 0s 25us/step - loss: -0.4884 - val_loss: -0.4300\n",
      "Epoch 67/80\n",
      "6473/6473 [==============================] - 0s 25us/step - loss: -0.4893 - val_loss: -0.4310\n",
      "Epoch 68/80\n",
      "6473/6473 [==============================] - 0s 26us/step - loss: -0.4898 - val_loss: -0.4302\n",
      "Epoch 69/80\n",
      "6473/6473 [==============================] - 0s 26us/step - loss: -0.4904 - val_loss: -0.4314\n",
      "Epoch 70/80\n",
      "6473/6473 [==============================] - 0s 25us/step - loss: -0.4911 - val_loss: -0.4323\n",
      "Epoch 71/80\n",
      "6473/6473 [==============================] - 0s 25us/step - loss: -0.4917 - val_loss: -0.4320\n",
      "Epoch 72/80\n",
      "6473/6473 [==============================] - 0s 26us/step - loss: -0.4923 - val_loss: -0.4329\n",
      "Epoch 73/80\n",
      "6473/6473 [==============================] - 0s 24us/step - loss: -0.4929 - val_loss: -0.4329\n",
      "Epoch 74/80\n",
      "6473/6473 [==============================] - 0s 26us/step - loss: -0.4933 - val_loss: -0.4334\n",
      "Epoch 75/80\n",
      "6473/6473 [==============================] - 0s 27us/step - loss: -0.4940 - val_loss: -0.4339\n",
      "Epoch 76/80\n",
      "6473/6473 [==============================] - 0s 24us/step - loss: -0.4946 - val_loss: -0.4343\n",
      "Epoch 77/80\n",
      "6473/6473 [==============================] - 0s 27us/step - loss: -0.4949 - val_loss: -0.4339\n",
      "Epoch 78/80\n"
     ]
    },
    {
     "name": "stdout",
     "output_type": "stream",
     "text": [
      "6473/6473 [==============================] - 0s 25us/step - loss: -0.4956 - val_loss: -0.4347\n",
      "Epoch 79/80\n",
      "6473/6473 [==============================] - 0s 24us/step - loss: -0.4960 - val_loss: -0.4356\n",
      "Epoch 80/80\n",
      "6473/6473 [==============================] - 0s 25us/step - loss: -0.4962 - val_loss: -0.4359\n"
     ]
    },
    {
     "data": {
      "text/plain": [
       "<keras.callbacks.History at 0x7fbbef8db7d0>"
      ]
     },
     "execution_count": 303,
     "metadata": {},
     "output_type": "execute_result"
    }
   ],
   "source": [
    "autoencoder.fit(X_train, X_train,\n",
    "                epochs=80,\n",
    "                batch_size=80,\n",
    "                shuffle=True,\n",
    "                validation_data=(X_test, X_test))"
   ]
  },
  {
   "cell_type": "code",
   "execution_count": 304,
   "metadata": {
    "collapsed": true
   },
   "outputs": [],
   "source": [
    "# encode and decode some lightcurves\n",
    "# note that we take them from the *test* set\n",
    "encoded_imgs = encoder.predict(X_test)\n",
    "decoded_imgs = decoder.predict(encoded_imgs)"
   ]
  },
  {
   "cell_type": "code",
   "execution_count": 305,
   "metadata": {},
   "outputs": [
    {
     "data": {
      "image/png": "[encoded data removed]",
      "text/plain": [
       "<matplotlib.figure.Figure at 0x7fbbee4e8310>"
      ]
     },
     "metadata": {},
     "output_type": "display_data"
    }
   ],
   "source": [
    "# use Matplotlib (don't ask)\n",
    "import matplotlib.pyplot as plt\n",
    "\n",
    "n = 10  # how many digits we will display\n",
    "plt.figure(figsize=(20, 4))\n",
    "for i in range(n):\n",
    "    # display original\n",
    "    ax = plt.subplot(2, n, i + 1)\n",
    "    plt.imshow(X_test[i].reshape(12, 18))\n",
    "    plt.gray()\n",
    "    ax.get_xaxis().set_visible(False)\n",
    "    ax.get_yaxis().set_visible(False)\n",
    "\n",
    "    # display reconstruction\n",
    "    ax = plt.subplot(2, n, i + 1 + n)\n",
    "    plt.imshow(decoded_imgs[i].reshape(12, 18))\n",
    "    plt.gray()\n",
    "    ax.get_xaxis().set_visible(False)\n",
    "    ax.get_yaxis().set_visible(False)\n",
    "plt.show()"
   ]
  },
  {
   "cell_type": "code",
   "execution_count": 307,
   "metadata": {},
   "outputs": [
    {
     "data": {
      "image/png": "[encoded data removed]",
      "text/plain": [
       "<matplotlib.figure.Figure at 0x7fbbacc6df10>"
      ]
     },
     "metadata": {},
     "output_type": "display_data"
    }
   ],
   "source": [
    "plt.figure(figsize=(12, 6))\n",
    "for i in range(n):\n",
    "    ax = plt.subplot(1, n, i + 1)\n",
    "    plt.imshow(encoded_imgs[i].reshape(32, 1))\n",
    "    plt.gray()\n",
    "    ax.get_xaxis().set_visible(False)\n",
    "    ax.get_yaxis().set_visible(False)\n",
    "plt.show()"
   ]
  },
  {
   "cell_type": "code",
   "execution_count": null,
   "metadata": {
    "collapsed": true
   },
   "outputs": [],
   "source": []
  }
 ],
 "metadata": {
  "kernelspec": {
   "display_name": "Python 2",
   "language": "python",
   "name": "python2"
  },
  "language_info": {
   "codemirror_mode": {
    "name": "ipython",
    "version": 2
   },
   "file_extension": ".py",
   "mimetype": "text/x-python",
   "name": "python",
   "nbconvert_exporter": "python",
   "pygments_lexer": "ipython2",
   "version": "2.7.9"
  }
 },
 "nbformat": 4,
 "nbformat_minor": 2
}
