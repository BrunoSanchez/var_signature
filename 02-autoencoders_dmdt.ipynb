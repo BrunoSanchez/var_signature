{
 "cells": [
  {
   "cell_type": "code",
   "execution_count": 7,
   "metadata": {
    "collapsed": true
   },
   "outputs": [],
   "source": [
    "import numpy as np\n",
    "import pandas as pd"
   ]
  },
  {
   "cell_type": "code",
   "execution_count": 8,
   "metadata": {},
   "outputs": [],
   "source": [
    "from keras.layers import Input, Dense\n",
    "from keras.models import Model"
   ]
  },
  {
   "cell_type": "code",
   "execution_count": 9,
   "metadata": {
    "collapsed": true
   },
   "outputs": [],
   "source": [
    "# use Matplotlib (don't ask)\n",
    "import matplotlib.pyplot as plt\n",
    "%matplotlib inline"
   ]
  },
  {
   "cell_type": "markdown",
   "metadata": {},
   "source": [
    "## Delta M - Delta t "
   ]
  },
  {
   "cell_type": "markdown",
   "metadata": {},
   "source": [
    "Now with the deltamdeltat diagrams"
   ]
  },
  {
   "cell_type": "code",
   "execution_count": 10,
   "metadata": {},
   "outputs": [],
   "source": [
    "df_mira = pd.read_csv('ATLAS_LC/MIRA_features_table.csv')\n",
    "signature_cols = [col for col in df_mira.columns if 'Deltam' in col]\n",
    "#plt.imshow(df_mira[signature_cols].iloc[2787].as_matrix().reshape(23, 24).T, cmap='inferno')\n",
    "#plt.show()"
   ]
  },
  {
   "cell_type": "code",
   "execution_count": 11,
   "metadata": {
    "collapsed": true
   },
   "outputs": [],
   "source": [
    "signature_cols += ['OBJID', 'filter', 'CLASS']\n",
    "df_mira = df_mira[signature_cols]"
   ]
  },
  {
   "cell_type": "code",
   "execution_count": 12,
   "metadata": {
    "collapsed": true
   },
   "outputs": [],
   "source": [
    "df_mpulse = pd.read_csv('ATLAS_LC/MPULSE_features_table.csv')[signature_cols]\n",
    "df_dbf = pd.read_csv('ATLAS_LC/DBF_features_table.csv')[signature_cols]\n",
    "df_lpv = pd.read_csv('ATLAS_LC/LPV_features_table.csv')[signature_cols]\n",
    "df_dbh = pd.read_csv('ATLAS_LC/DBH_features_table.csv')[signature_cols]\n",
    "df_pulse = pd.read_csv('ATLAS_LC/PULSE_features_table.csv')[signature_cols]\n",
    "df_nsine = pd.read_csv('ATLAS_LC/NSINE_features_table.csv')[signature_cols]\n",
    "df_sine = pd.read_csv('ATLAS_LC/SINE_features_table.csv')[signature_cols]\n",
    "df_msine = pd.read_csv('ATLAS_LC/MSINE_features_table.csv')[signature_cols]\n",
    "df_cbh = pd.read_csv('ATLAS_LC/CBH_features_table.csv')[signature_cols]\n",
    "df_cbf = pd.read_csv('ATLAS_LC/CBF_features_table.csv')[signature_cols]\n",
    "df_irr = pd.read_csv('ATLAS_LC/IRR_features_table.csv')[signature_cols]"
   ]
  },
  {
   "cell_type": "code",
   "execution_count": 13,
   "metadata": {},
   "outputs": [
    {
     "name": "stderr",
     "output_type": "stream",
     "text": [
      "/home/bruno/.virtualenvs/daily/lib/python2.7/site-packages/ipykernel_launcher.py:4: FutureWarning: Method .as_matrix will be removed in a future version. Use .values instead.\n",
      "  after removing the cwd from sys.path.\n"
     ]
    }
   ],
   "source": [
    "full_data = pd.concat([df_mira, df_mpulse, df_dbf, df_lpv, df_dbh, df_pulse, \n",
    "                       df_nsine, df_sine, df_msine, df_cbf, df_cbh])\n",
    "signature_cols = [col for col in df_mira.columns if 'Deltam' in col]\n",
    "X = full_data[signature_cols].as_matrix()"
   ]
  },
  {
   "cell_type": "code",
   "execution_count": 14,
   "metadata": {
    "collapsed": true
   },
   "outputs": [],
   "source": [
    "del(df_mira)"
   ]
  },
  {
   "cell_type": "code",
   "execution_count": 15,
   "metadata": {
    "collapsed": true
   },
   "outputs": [],
   "source": [
    "del(df_mpulse)"
   ]
  },
  {
   "cell_type": "code",
   "execution_count": 16,
   "metadata": {
    "collapsed": true
   },
   "outputs": [],
   "source": [
    "del(df_dbf)"
   ]
  },
  {
   "cell_type": "code",
   "execution_count": 17,
   "metadata": {
    "collapsed": true
   },
   "outputs": [],
   "source": [
    "del(df_lpv)"
   ]
  },
  {
   "cell_type": "code",
   "execution_count": 18,
   "metadata": {
    "collapsed": true
   },
   "outputs": [],
   "source": [
    "del(df_dbh)"
   ]
  },
  {
   "cell_type": "code",
   "execution_count": 19,
   "metadata": {
    "collapsed": true
   },
   "outputs": [],
   "source": [
    "del(df_pulse)"
   ]
  },
  {
   "cell_type": "code",
   "execution_count": 20,
   "metadata": {
    "collapsed": true
   },
   "outputs": [],
   "source": [
    "del(df_cbf)"
   ]
  },
  {
   "cell_type": "code",
   "execution_count": 21,
   "metadata": {
    "collapsed": true
   },
   "outputs": [],
   "source": [
    "del(df_cbh)"
   ]
  },
  {
   "cell_type": "code",
   "execution_count": 22,
   "metadata": {
    "collapsed": true
   },
   "outputs": [],
   "source": [
    "del(df_nsine)"
   ]
  },
  {
   "cell_type": "code",
   "execution_count": 23,
   "metadata": {
    "collapsed": true
   },
   "outputs": [],
   "source": [
    "del(df_sine)"
   ]
  },
  {
   "cell_type": "code",
   "execution_count": 24,
   "metadata": {
    "collapsed": true
   },
   "outputs": [],
   "source": [
    "del(df_msine)"
   ]
  },
  {
   "cell_type": "code",
   "execution_count": 25,
   "metadata": {
    "collapsed": true
   },
   "outputs": [],
   "source": [
    "del(df_irr)"
   ]
  },
  {
   "cell_type": "code",
   "execution_count": 27,
   "metadata": {
    "collapsed": true
   },
   "outputs": [],
   "source": [
    "from sklearn.model_selection import train_test_split"
   ]
  },
  {
   "cell_type": "code",
   "execution_count": 28,
   "metadata": {
    "collapsed": true
   },
   "outputs": [],
   "source": [
    "X_train, X_test = train_test_split(X, test_size=0.10, random_state=17)"
   ]
  },
  {
   "cell_type": "code",
   "execution_count": 29,
   "metadata": {},
   "outputs": [
    {
     "name": "stdout",
     "output_type": "stream",
     "text": [
      "(326278, 552)\n",
      "(36254, 552)\n"
     ]
    }
   ],
   "source": [
    "print X_train.shape\n",
    "print X_test.shape"
   ]
  },
  {
   "cell_type": "code",
   "execution_count": 30,
   "metadata": {
    "collapsed": true
   },
   "outputs": [],
   "source": [
    "## this is the size of our encoded representations\n",
    "encoding_dim = 64  # 32 floats -> compression of factor 24.5, assuming the input is 784 floats\n",
    "\n",
    "# this is our input placeholder\n",
    "input_img = Input(shape=(23*24,))\n",
    "# \"encoded\" is the encoded representation of the input\n",
    "encoded = Dense(encoding_dim, activation='relu')(input_img)\n",
    "# \"decoded\" is the lossy reconstruction of the input\n",
    "decoded = Dense(23*24, activation='sigmoid')(encoded)\n",
    "\n",
    "# this model maps an input to its reconstruction\n",
    "autoencoder = Model(input_img, decoded)"
   ]
  },
  {
   "cell_type": "code",
   "execution_count": 31,
   "metadata": {
    "collapsed": true
   },
   "outputs": [],
   "source": [
    "# this model maps an input to its encoded representation\n",
    "encoder = Model(input_img, encoded)"
   ]
  },
  {
   "cell_type": "code",
   "execution_count": 32,
   "metadata": {
    "collapsed": true
   },
   "outputs": [],
   "source": [
    "# create a placeholder for an encoded (32-dimensional) input\n",
    "encoded_input = Input(shape=(encoding_dim,))\n",
    "# retrieve the last layer of the autoencoder model\n",
    "decoder_layer = autoencoder.layers[-1]\n",
    "# create the decoder model\n",
    "decoder = Model(encoded_input, decoder_layer(encoded_input))"
   ]
  },
  {
   "cell_type": "code",
   "execution_count": 33,
   "metadata": {
    "collapsed": true
   },
   "outputs": [],
   "source": [
    "autoencoder.compile(optimizer='adadelta', loss='binary_crossentropy')"
   ]
  },
  {
   "cell_type": "code",
   "execution_count": 34,
   "metadata": {
    "scrolled": true
   },
   "outputs": [
    {
     "name": "stdout",
     "output_type": "stream",
     "text": [
      "Train on 326278 samples, validate on 36254 samples\n",
      "Epoch 1/50\n",
      "326278/326278 [==============================] - 14s 43us/step - loss: -4.6350 - val_loss: -5.6940\n",
      "Epoch 2/50\n",
      "326278/326278 [==============================] - 12s 38us/step - loss: -5.7541 - val_loss: -5.7912\n",
      "Epoch 3/50\n",
      "326278/326278 [==============================] - 13s 39us/step - loss: -5.8208 - val_loss: -5.8444\n",
      "Epoch 4/50\n",
      "326278/326278 [==============================] - 13s 38us/step - loss: -5.8742 - val_loss: -5.8864\n",
      "Epoch 5/50\n",
      "326278/326278 [==============================] - 12s 38us/step - loss: -5.8996 - val_loss: -5.9015\n",
      "Epoch 6/50\n",
      "326278/326278 [==============================] - 12s 38us/step - loss: -5.9117 - val_loss: -5.9125\n",
      "Epoch 7/50\n",
      "326278/326278 [==============================] - 12s 38us/step - loss: -5.9219 - val_loss: -5.9219\n",
      "Epoch 8/50\n",
      "326278/326278 [==============================] - 12s 38us/step - loss: -5.9299 - val_loss: -5.9292\n",
      "Epoch 9/50\n",
      "326278/326278 [==============================] - 12s 38us/step - loss: -5.9367 - val_loss: -5.9361\n",
      "Epoch 10/50\n",
      "326278/326278 [==============================] - 12s 38us/step - loss: -5.9423 - val_loss: -5.9403\n",
      "Epoch 11/50\n",
      "326278/326278 [==============================] - 12s 38us/step - loss: -5.9472 - val_loss: -5.9446\n",
      "Epoch 12/50\n",
      "326278/326278 [==============================] - 13s 39us/step - loss: -5.9516 - val_loss: -5.9480\n",
      "Epoch 13/50\n",
      "326278/326278 [==============================] - 13s 39us/step - loss: -5.9554 - val_loss: -5.9530\n",
      "Epoch 14/50\n",
      "326278/326278 [==============================] - 12s 38us/step - loss: -5.9586 - val_loss: -5.9553\n",
      "Epoch 15/50\n",
      "326278/326278 [==============================] - 13s 39us/step - loss: -5.9614 - val_loss: -5.9583\n",
      "Epoch 16/50\n",
      "326278/326278 [==============================] - 12s 38us/step - loss: -5.9642 - val_loss: -5.9606\n",
      "Epoch 17/50\n",
      "326278/326278 [==============================] - 12s 38us/step - loss: -5.9667 - val_loss: -5.9632\n",
      "Epoch 18/50\n",
      "326278/326278 [==============================] - 12s 38us/step - loss: -5.9690 - val_loss: -5.9659\n",
      "Epoch 19/50\n",
      "326278/326278 [==============================] - 12s 38us/step - loss: -5.9712 - val_loss: -5.9675\n",
      "Epoch 20/50\n",
      "326278/326278 [==============================] - 12s 38us/step - loss: -5.9729 - val_loss: -5.9697\n",
      "Epoch 21/50\n",
      "326278/326278 [==============================] - 13s 38us/step - loss: -5.9750 - val_loss: -5.9709\n",
      "Epoch 22/50\n",
      "326278/326278 [==============================] - 13s 40us/step - loss: -5.9768 - val_loss: -5.9745\n",
      "Epoch 23/50\n",
      "326278/326278 [==============================] - 12s 38us/step - loss: -5.9784 - val_loss: -5.9754\n",
      "Epoch 24/50\n",
      "326278/326278 [==============================] - 12s 38us/step - loss: -5.9801 - val_loss: -5.9764\n",
      "Epoch 25/50\n",
      "326278/326278 [==============================] - 12s 38us/step - loss: -5.9818 - val_loss: -5.9792\n",
      "Epoch 26/50\n",
      "326278/326278 [==============================] - 12s 38us/step - loss: -5.9827 - val_loss: -5.9800\n",
      "Epoch 27/50\n",
      "326278/326278 [==============================] - 12s 38us/step - loss: -5.9849 - val_loss: -5.9812\n",
      "Epoch 28/50\n",
      "326278/326278 [==============================] - 12s 38us/step - loss: -5.9858 - val_loss: -5.9824\n",
      "Epoch 29/50\n",
      "326278/326278 [==============================] - 12s 38us/step - loss: -5.9870 - val_loss: -5.9835\n",
      "Epoch 30/50\n",
      "326278/326278 [==============================] - 13s 39us/step - loss: -5.9882 - val_loss: -5.9854\n",
      "Epoch 31/50\n",
      "326278/326278 [==============================] - 13s 40us/step - loss: -5.9895 - val_loss: -5.9858\n",
      "Epoch 32/50\n",
      "326278/326278 [==============================] - 13s 40us/step - loss: -5.9904 - val_loss: -5.9883\n",
      "Epoch 33/50\n",
      "326278/326278 [==============================] - 14s 42us/step - loss: -5.9915 - val_loss: -5.9879\n",
      "Epoch 34/50\n",
      "326278/326278 [==============================] - 13s 40us/step - loss: -5.9929 - val_loss: -5.9899\n",
      "Epoch 35/50\n",
      "326278/326278 [==============================] - 13s 41us/step - loss: -5.9942 - val_loss: -5.9910\n",
      "Epoch 36/50\n",
      "326278/326278 [==============================] - 13s 40us/step - loss: -5.9957 - val_loss: -5.9920\n",
      "Epoch 37/50\n",
      "326278/326278 [==============================] - 13s 41us/step - loss: -5.9964 - val_loss: -5.9934\n",
      "Epoch 38/50\n",
      "326278/326278 [==============================] - 13s 41us/step - loss: -5.9975 - val_loss: -5.9932\n",
      "Epoch 39/50\n",
      "326278/326278 [==============================] - 14s 42us/step - loss: -5.9983 - val_loss: -5.9956\n",
      "Epoch 40/50\n",
      "326278/326278 [==============================] - 13s 40us/step - loss: -5.9997 - val_loss: -5.9961\n",
      "Epoch 41/50\n",
      "326278/326278 [==============================] - 13s 39us/step - loss: -6.0009 - val_loss: -5.9976\n",
      "Epoch 42/50\n",
      "326278/326278 [==============================] - 14s 42us/step - loss: -6.0018 - val_loss: -5.9979\n",
      "Epoch 43/50\n",
      "326278/326278 [==============================] - 14s 42us/step - loss: -6.0027 - val_loss: -5.9995\n",
      "Epoch 44/50\n",
      "326278/326278 [==============================] - 13s 41us/step - loss: -6.0038 - val_loss: -6.0002\n",
      "Epoch 45/50\n",
      "326278/326278 [==============================] - 14s 42us/step - loss: -6.0050 - val_loss: -6.0010\n",
      "Epoch 46/50\n",
      "326278/326278 [==============================] - 13s 40us/step - loss: -6.0056 - val_loss: -6.0019\n",
      "Epoch 47/50\n",
      "326278/326278 [==============================] - 13s 40us/step - loss: -6.0064 - val_loss: -6.0025\n",
      "Epoch 48/50\n",
      "326278/326278 [==============================] - 12s 38us/step - loss: -6.0073 - val_loss: -6.0039\n",
      "Epoch 49/50\n",
      "326278/326278 [==============================] - 12s 38us/step - loss: -6.0082 - val_loss: -6.0049\n",
      "Epoch 50/50\n",
      "326278/326278 [==============================] - 13s 40us/step - loss: -6.0092 - val_loss: -6.0060\n",
      "Train on 326278 samples, validate on 36254 samples\n",
      "Epoch 1/10\n",
      "326278/326278 [==============================] - 15s 45us/step - loss: -6.0101 - val_loss: -6.0055\n",
      "Epoch 2/10\n",
      "326278/326278 [==============================] - 13s 41us/step - loss: -6.0099 - val_loss: -6.0067\n",
      "Epoch 3/10\n",
      "326278/326278 [==============================] - 13s 41us/step - loss: -6.0109 - val_loss: -6.0072\n",
      "Epoch 4/10\n",
      "326278/326278 [==============================] - 13s 40us/step - loss: -6.0111 - val_loss: -6.0072\n",
      "Epoch 5/10\n",
      "326278/326278 [==============================] - 13s 41us/step - loss: -6.0115 - val_loss: -6.0078\n",
      "Epoch 6/10\n",
      "326278/326278 [==============================] - 13s 41us/step - loss: -6.0122 - val_loss: -6.0089\n",
      "Epoch 7/10\n",
      "326278/326278 [==============================] - 13s 41us/step - loss: -6.0127 - val_loss: -6.0079\n",
      "Epoch 8/10\n",
      "326278/326278 [==============================] - 14s 42us/step - loss: -6.0122 - val_loss: -6.0089\n",
      "Epoch 9/10\n",
      "326278/326278 [==============================] - 14s 42us/step - loss: -6.0133 - val_loss: -6.0102\n",
      "Epoch 10/10\n",
      "326278/326278 [==============================] - 13s 41us/step - loss: -6.0144 - val_loss: -6.0106\n",
      "Train on 326278 samples, validate on 36254 samples\n",
      "Epoch 1/20\n",
      "326278/326278 [==============================] - 13s 40us/step - loss: -6.0153 - val_loss: -6.0122\n",
      "Epoch 2/20\n",
      "326278/326278 [==============================] - 13s 40us/step - loss: -6.0170 - val_loss: -6.0134\n",
      "Epoch 3/20\n",
      "326278/326278 [==============================] - 13s 40us/step - loss: -6.0184 - val_loss: -6.0148\n",
      "Epoch 4/20\n",
      "326278/326278 [==============================] - 13s 40us/step - loss: -6.0199 - val_loss: -6.0170\n",
      "Epoch 5/20\n",
      "326278/326278 [==============================] - 13s 40us/step - loss: -6.0211 - val_loss: -6.0180\n",
      "Epoch 6/20\n",
      "326278/326278 [==============================] - 13s 41us/step - loss: -6.0226 - val_loss: -6.0192\n",
      "Epoch 7/20\n",
      "326278/326278 [==============================] - 14s 42us/step - loss: -6.0237 - val_loss: -6.0191\n",
      "Epoch 8/20\n",
      "326278/326278 [==============================] - 13s 41us/step - loss: -6.0251 - val_loss: -6.0221\n",
      "Epoch 9/20\n",
      "326278/326278 [==============================] - 13s 41us/step - loss: -6.0261 - val_loss: -6.0225\n",
      "Epoch 10/20\n",
      "326278/326278 [==============================] - 13s 41us/step - loss: -6.0271 - val_loss: -6.0238\n",
      "Epoch 11/20\n",
      "326278/326278 [==============================] - 13s 41us/step - loss: -6.0283 - val_loss: -6.0251\n",
      "Epoch 12/20\n",
      "326278/326278 [==============================] - 13s 41us/step - loss: -6.0291 - val_loss: -6.0262\n",
      "Epoch 13/20\n",
      "326278/326278 [==============================] - 13s 41us/step - loss: -6.0304 - val_loss: -6.0263\n",
      "Epoch 14/20\n",
      "326278/326278 [==============================] - 13s 41us/step - loss: -6.0309 - val_loss: -6.0281\n",
      "Epoch 15/20\n",
      "326278/326278 [==============================] - 13s 41us/step - loss: -6.0324 - val_loss: -6.0292\n",
      "Epoch 16/20\n",
      "326278/326278 [==============================] - 13s 41us/step - loss: -6.0331 - val_loss: -6.0299\n",
      "Epoch 17/20\n",
      "326278/326278 [==============================] - 13s 41us/step - loss: -6.0339 - val_loss: -6.0307\n",
      "Epoch 18/20\n",
      "326278/326278 [==============================] - 13s 41us/step - loss: -6.0351 - val_loss: -6.0316\n",
      "Epoch 19/20\n",
      "326278/326278 [==============================] - 13s 41us/step - loss: -6.0359 - val_loss: -6.0324\n",
      "Epoch 20/20\n",
      "326278/326278 [==============================] - 13s 41us/step - loss: -6.0366 - val_loss: -6.0332\n",
      "Train on 326278 samples, validate on 36254 samples\n",
      "Epoch 1/20\n",
      "326278/326278 [==============================] - 12s 38us/step - loss: -6.0365 - val_loss: -6.0332\n",
      "Epoch 2/20\n",
      "326278/326278 [==============================] - 12s 38us/step - loss: -6.0376 - val_loss: -6.0341\n",
      "Epoch 3/20\n",
      "326278/326278 [==============================] - 12s 38us/step - loss: -6.0378 - val_loss: -6.0339\n",
      "Epoch 4/20\n",
      "326278/326278 [==============================] - 12s 38us/step - loss: -6.0383 - val_loss: -6.0351\n",
      "Epoch 5/20\n",
      "326278/326278 [==============================] - 13s 38us/step - loss: -6.0391 - val_loss: -6.0352\n",
      "Epoch 6/20\n",
      "326278/326278 [==============================] - 13s 38us/step - loss: -6.0391 - val_loss: -6.0359\n",
      "Epoch 7/20\n",
      "326278/326278 [==============================] - 12s 38us/step - loss: -6.0394 - val_loss: -6.0354\n",
      "Epoch 8/20\n",
      "326278/326278 [==============================] - 13s 38us/step - loss: -6.0398 - val_loss: -6.0358\n",
      "Epoch 9/20\n",
      "326278/326278 [==============================] - 13s 39us/step - loss: -6.0405 - val_loss: -6.0372\n",
      "Epoch 10/20\n",
      "326278/326278 [==============================] - 13s 38us/step - loss: -6.0412 - val_loss: -6.0377\n",
      "Epoch 11/20\n",
      "326278/326278 [==============================] - 12s 38us/step - loss: -6.0411 - val_loss: -6.0378\n",
      "Epoch 12/20\n",
      "326278/326278 [==============================] - 13s 38us/step - loss: -6.0414 - val_loss: -6.0373\n",
      "Epoch 13/20\n",
      "326278/326278 [==============================] - 13s 38us/step - loss: -6.0417 - val_loss: -6.0384\n",
      "Epoch 14/20\n",
      "326278/326278 [==============================] - 13s 41us/step - loss: -6.0422 - val_loss: -6.0385\n",
      "Epoch 15/20\n",
      "326278/326278 [==============================] - 12s 38us/step - loss: -6.0427 - val_loss: -6.0393\n",
      "Epoch 16/20\n",
      "326278/326278 [==============================] - 12s 37us/step - loss: -6.0431 - val_loss: -6.0396\n",
      "Epoch 17/20\n",
      "326278/326278 [==============================] - 12s 37us/step - loss: -6.0436 - val_loss: -6.0397\n",
      "Epoch 18/20\n",
      "326278/326278 [==============================] - 12s 37us/step - loss: -6.0434 - val_loss: -6.0399\n",
      "Epoch 19/20\n",
      "326278/326278 [==============================] - 12s 37us/step - loss: -6.0441 - val_loss: -6.0407\n",
      "Epoch 20/20\n",
      "326278/326278 [==============================] - 12s 37us/step - loss: -6.0446 - val_loss: -6.0404\n"
     ]
    },
    {
     "data": {
      "text/plain": [
       "<keras.callbacks.History at 0x7f2b7a69fb90>"
      ]
     },
     "execution_count": 34,
     "metadata": {},
     "output_type": "execute_result"
    }
   ],
   "source": [
    "autoencoder.fit(X_train, X_train,\n",
    "                epochs=50,\n",
    "                batch_size=5000,\n",
    "                shuffle=True,\n",
    "                validation_data=(X_test, X_test))\n",
    "\n",
    "autoencoder.fit(X_train, X_train,\n",
    "                epochs=10,\n",
    "                batch_size=9000,\n",
    "                shuffle=True,\n",
    "                validation_data=(X_test, X_test))\n",
    "\n",
    "autoencoder.fit(X_train, X_train,\n",
    "                epochs=20,\n",
    "                batch_size=2500,\n",
    "                shuffle=True,\n",
    "                validation_data=(X_test, X_test))\n",
    "\n",
    "autoencoder.fit(X_train, X_train,\n",
    "                epochs=20,\n",
    "                batch_size=5000,\n",
    "                shuffle=True,\n",
    "                validation_data=(X_test, X_test))\n"
   ]
  },
  {
   "cell_type": "code",
   "execution_count": 35,
   "metadata": {
    "collapsed": true
   },
   "outputs": [],
   "source": [
    "# encode and decode some lightcurves\n",
    "# note that we take them from the *test* set\n",
    "encoded_imgs = encoder.predict(X_test)\n",
    "decoded_imgs = decoder.predict(encoded_imgs)"
   ]
  },
  {
   "cell_type": "code",
   "execution_count": 36,
   "metadata": {},
   "outputs": [
    {
     "data": {
      "image/png": "[encoded data removed]",
      "text/plain": [
       "<Figure size 864x288 with 12 Axes>"
      ]
     },
     "metadata": {},
     "output_type": "display_data"
    }
   ],
   "source": [
    "# use Matplotlib (don't ask)\n",
    "import matplotlib.pyplot as plt\n",
    "\n",
    "n = 6  # how many digits we will display\n",
    "plt.figure(figsize=(12, 4))\n",
    "for i in range(n):\n",
    "    # display original\n",
    "    ax = plt.subplot(2, n, i + 1)\n",
    "    j = np.random.randint(0, high=len(X_test))\n",
    "    plt.imshow(X_test[j].reshape(23, 24).T, cmap='inferno')\n",
    "    \n",
    "    ax.get_xaxis().set_visible(False)\n",
    "    ax.get_yaxis().set_visible(False)\n",
    "\n",
    "    # display reconstruction\n",
    "    ax = plt.subplot(2, n, i + 1 + n)\n",
    "    plt.imshow(decoded_imgs[j].reshape(23, 24).T, cmap='inferno')\n",
    "    ax.get_xaxis().set_visible(False)\n",
    "    ax.get_yaxis().set_visible(False)\n",
    "\n",
    "plt.tight_layout()"
   ]
  },
  {
   "cell_type": "code",
   "execution_count": 37,
   "metadata": {
    "collapsed": true
   },
   "outputs": [],
   "source": [
    "# encode every data \n",
    "encoded_imgs = encoder.predict(X)"
   ]
  },
  {
   "cell_type": "code",
   "execution_count": 38,
   "metadata": {},
   "outputs": [
    {
     "data": {
      "text/plain": [
       "(362532, 64)"
      ]
     },
     "execution_count": 38,
     "metadata": {},
     "output_type": "execute_result"
    }
   ],
   "source": [
    "encoded_imgs.shape"
   ]
  },
  {
   "cell_type": "code",
   "execution_count": 39,
   "metadata": {
    "collapsed": true
   },
   "outputs": [],
   "source": [
    "enc = pd.DataFrame()\n",
    "enc['OBJID'] = full_data['OBJID']\n",
    "enc['filter'] = full_data['filter']\n",
    "enc['CLASS'] = full_data['CLASS']\n",
    "for i in range(encoding_dim):\n",
    "    enc['encode_{}'.format(i+1)] = encoded_imgs[:, i]\n",
    "enc.to_csv('ATLAS_LC/deltamdeltat_{}_encoded.csv'.format(encoded.shape[1]))"
   ]
  },
  {
   "cell_type": "code",
   "execution_count": 40,
   "metadata": {},
   "outputs": [
    {
     "ename": "MemoryError",
     "evalue": "",
     "output_type": "error",
     "traceback": [
      "\u001b[0;31m---------------------------------------------------------------------------\u001b[0m",
      "\u001b[0;31mMemoryError\u001b[0m                               Traceback (most recent call last)",
      "\u001b[0;32m<ipython-input-40-eb553e43a6fe>\u001b[0m in \u001b[0;36m<module>\u001b[0;34m()\u001b[0m\n\u001b[1;32m      6\u001b[0m \u001b[0;32mfor\u001b[0m \u001b[0mi\u001b[0m \u001b[0;32min\u001b[0m \u001b[0mrange\u001b[0m\u001b[0;34m(\u001b[0m\u001b[0;36m23\u001b[0m\u001b[0;34m*\u001b[0m\u001b[0;36m24\u001b[0m\u001b[0;34m)\u001b[0m\u001b[0;34m:\u001b[0m\u001b[0;34m\u001b[0m\u001b[0m\n\u001b[1;32m      7\u001b[0m     \u001b[0mdec\u001b[0m\u001b[0;34m[\u001b[0m\u001b[0;34m'encode_{}'\u001b[0m\u001b[0;34m.\u001b[0m\u001b[0mformat\u001b[0m\u001b[0;34m(\u001b[0m\u001b[0mi\u001b[0m\u001b[0;34m+\u001b[0m\u001b[0;36m1\u001b[0m\u001b[0;34m)\u001b[0m\u001b[0;34m]\u001b[0m \u001b[0;34m=\u001b[0m \u001b[0mdecoded_imgs\u001b[0m\u001b[0;34m[\u001b[0m\u001b[0;34m:\u001b[0m\u001b[0;34m,\u001b[0m \u001b[0mi\u001b[0m\u001b[0;34m]\u001b[0m\u001b[0;34m\u001b[0m\u001b[0m\n\u001b[0;32m----> 8\u001b[0;31m \u001b[0mdec\u001b[0m\u001b[0;34m.\u001b[0m\u001b[0mto_csv\u001b[0m\u001b[0;34m(\u001b[0m\u001b[0;34m'ATLAS_LC/deltamdeltat_{}_decoded.csv'\u001b[0m\u001b[0;34m.\u001b[0m\u001b[0mformat\u001b[0m\u001b[0;34m(\u001b[0m\u001b[0mdecoded\u001b[0m\u001b[0;34m.\u001b[0m\u001b[0mshape\u001b[0m\u001b[0;34m[\u001b[0m\u001b[0;36m1\u001b[0m\u001b[0;34m]\u001b[0m\u001b[0;34m)\u001b[0m\u001b[0;34m)\u001b[0m\u001b[0;34m\u001b[0m\u001b[0m\n\u001b[0m",
      "\u001b[0;32m/home/bruno/.virtualenvs/daily/local/lib/python2.7/site-packages/pandas/core/frame.pyc\u001b[0m in \u001b[0;36mto_csv\u001b[0;34m(self, path_or_buf, sep, na_rep, float_format, columns, header, index, index_label, mode, encoding, compression, quoting, quotechar, line_terminator, chunksize, tupleize_cols, date_format, doublequote, escapechar, decimal)\u001b[0m\n\u001b[1;32m   1743\u001b[0m                                  \u001b[0mdoublequote\u001b[0m\u001b[0;34m=\u001b[0m\u001b[0mdoublequote\u001b[0m\u001b[0;34m,\u001b[0m\u001b[0;34m\u001b[0m\u001b[0m\n\u001b[1;32m   1744\u001b[0m                                  escapechar=escapechar, decimal=decimal)\n\u001b[0;32m-> 1745\u001b[0;31m         \u001b[0mformatter\u001b[0m\u001b[0;34m.\u001b[0m\u001b[0msave\u001b[0m\u001b[0;34m(\u001b[0m\u001b[0;34m)\u001b[0m\u001b[0;34m\u001b[0m\u001b[0m\n\u001b[0m\u001b[1;32m   1746\u001b[0m \u001b[0;34m\u001b[0m\u001b[0m\n\u001b[1;32m   1747\u001b[0m         \u001b[0;32mif\u001b[0m \u001b[0mpath_or_buf\u001b[0m \u001b[0;32mis\u001b[0m \u001b[0mNone\u001b[0m\u001b[0;34m:\u001b[0m\u001b[0;34m\u001b[0m\u001b[0m\n",
      "\u001b[0;32m/home/bruno/.virtualenvs/daily/local/lib/python2.7/site-packages/pandas/io/formats/csvs.pyc\u001b[0m in \u001b[0;36msave\u001b[0;34m(self)\u001b[0m\n\u001b[1;32m    159\u001b[0m         \u001b[0;32mfinally\u001b[0m\u001b[0;34m:\u001b[0m\u001b[0;34m\u001b[0m\u001b[0m\n\u001b[1;32m    160\u001b[0m             \u001b[0;31m# GH 17778 handles zip compression for byte strings separately.\u001b[0m\u001b[0;34m\u001b[0m\u001b[0;34m\u001b[0m\u001b[0m\n\u001b[0;32m--> 161\u001b[0;31m             \u001b[0mbuf\u001b[0m \u001b[0;34m=\u001b[0m \u001b[0mf\u001b[0m\u001b[0;34m.\u001b[0m\u001b[0mgetvalue\u001b[0m\u001b[0;34m(\u001b[0m\u001b[0;34m)\u001b[0m\u001b[0;34m\u001b[0m\u001b[0m\n\u001b[0m\u001b[1;32m    162\u001b[0m             \u001b[0;32mif\u001b[0m \u001b[0mpath_or_buf\u001b[0m\u001b[0;34m:\u001b[0m\u001b[0;34m\u001b[0m\u001b[0m\n\u001b[1;32m    163\u001b[0m                 f, handles = _get_handle(path_or_buf, self.mode,\n",
      "\u001b[0;32m/usr/lib/python2.7/StringIO.pyc\u001b[0m in \u001b[0;36mgetvalue\u001b[0;34m(self)\u001b[0m\n\u001b[1;32m    269\u001b[0m         \u001b[0m_complain_ifclosed\u001b[0m\u001b[0;34m(\u001b[0m\u001b[0mself\u001b[0m\u001b[0;34m.\u001b[0m\u001b[0mclosed\u001b[0m\u001b[0;34m)\u001b[0m\u001b[0;34m\u001b[0m\u001b[0m\n\u001b[1;32m    270\u001b[0m         \u001b[0;32mif\u001b[0m \u001b[0mself\u001b[0m\u001b[0;34m.\u001b[0m\u001b[0mbuflist\u001b[0m\u001b[0;34m:\u001b[0m\u001b[0;34m\u001b[0m\u001b[0m\n\u001b[0;32m--> 271\u001b[0;31m             \u001b[0mself\u001b[0m\u001b[0;34m.\u001b[0m\u001b[0mbuf\u001b[0m \u001b[0;34m+=\u001b[0m \u001b[0;34m''\u001b[0m\u001b[0;34m.\u001b[0m\u001b[0mjoin\u001b[0m\u001b[0;34m(\u001b[0m\u001b[0mself\u001b[0m\u001b[0;34m.\u001b[0m\u001b[0mbuflist\u001b[0m\u001b[0;34m)\u001b[0m\u001b[0;34m\u001b[0m\u001b[0m\n\u001b[0m\u001b[1;32m    272\u001b[0m             \u001b[0mself\u001b[0m\u001b[0;34m.\u001b[0m\u001b[0mbuflist\u001b[0m \u001b[0;34m=\u001b[0m \u001b[0;34m[\u001b[0m\u001b[0;34m]\u001b[0m\u001b[0;34m\u001b[0m\u001b[0m\n\u001b[1;32m    273\u001b[0m         \u001b[0;32mreturn\u001b[0m \u001b[0mself\u001b[0m\u001b[0;34m.\u001b[0m\u001b[0mbuf\u001b[0m\u001b[0;34m\u001b[0m\u001b[0m\n",
      "\u001b[0;31mMemoryError\u001b[0m: "
     ]
    }
   ],
   "source": [
    "decoded_imgs = decoder.predict(encoded_imgs)\n",
    "dec = pd.DataFrame()\n",
    "dec['OBJID'] = full_data['OBJID']\n",
    "dec['filter'] = full_data['filter']\n",
    "dec['CLASS'] = full_data['CLASS']\n",
    "for i in range(23*24):\n",
    "    dec['encode_{}'.format(i+1)] = decoded_imgs[:, i]\n",
    "dec.to_csv('ATLAS_LC/deltamdeltat_{}_decoded.csv'.format(decoded.shape[1]))"
   ]
  },
  {
   "cell_type": "code",
   "execution_count": null,
   "metadata": {},
   "outputs": [],
   "source": []
  },
  {
   "cell_type": "code",
   "execution_count": null,
   "metadata": {},
   "outputs": [],
   "source": []
  },
  {
   "cell_type": "code",
   "execution_count": null,
   "metadata": {},
   "outputs": [],
   "source": []
  }
 ],
 "metadata": {
  "kernelspec": {
   "display_name": "Python 2",
   "language": "python",
   "name": "python2"
  },
  "language_info": {
   "codemirror_mode": {
    "name": "ipython",
    "version": 2
   },
   "file_extension": ".py",
   "mimetype": "text/x-python",
   "name": "python",
   "nbconvert_exporter": "python",
   "pygments_lexer": "ipython2",
   "version": "2.7.12"
  }
 },
 "nbformat": 4,
 "nbformat_minor": 2
}
