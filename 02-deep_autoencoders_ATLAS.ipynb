{
 "cells": [
  {
   "cell_type": "code",
   "execution_count": 1,
   "metadata": {},
   "outputs": [],
   "source": [
    "import numpy as np\n",
    "import pandas as pd"
   ]
  },
  {
   "cell_type": "code",
   "execution_count": 2,
   "metadata": {},
   "outputs": [
    {
     "name": "stderr",
     "output_type": "stream",
     "text": [
      "/home/bruno/.virtualenvs/daily/local/lib/python2.7/site-packages/h5py/__init__.py:36: FutureWarning: Conversion of the second argument of issubdtype from `float` to `np.floating` is deprecated. In future, it will be treated as `np.float64 == np.dtype(float).type`.\n",
      "  from ._conv import register_converters as _register_converters\n",
      "Using TensorFlow backend.\n"
     ]
    }
   ],
   "source": [
    "from keras.layers import Input, Dense, Conv2D, MaxPooling2D, UpSampling2D\n",
    "from keras.models import Model\n",
    "from keras import backend as K"
   ]
  },
  {
   "cell_type": "code",
   "execution_count": 3,
   "metadata": {},
   "outputs": [],
   "source": [
    "# use Matplotlib (don't ask)\n",
    "import matplotlib.pyplot as plt\n",
    "%matplotlib inline"
   ]
  },
  {
   "cell_type": "code",
   "execution_count": 133,
   "metadata": {},
   "outputs": [
    {
     "name": "stdout",
     "output_type": "stream",
     "text": [
      "(?, 18, 12, 16)\n",
      "(?, 9, 6, 16)\n",
      "(?, 9, 6, 8)\n",
      "(?, 3, 3, 8)\n",
      "This is the bottleneck\n",
      "(?, 3, 3, 8)\n",
      "(?, 9, 6, 8)\n",
      "(?, 9, 6, 16)\n",
      "(?, 18, 12, 16)\n",
      "(?, 18, 12, 1)\n"
     ]
    }
   ],
   "source": [
    "input_img = Input(shape=(18, 12, 1))  # adapt this if using `channels_first` image data format\n",
    "\n",
    "x = Conv2D(16, (2, 2), activation='relu', padding='same')(input_img)\n",
    "print x.shape\n",
    "x = MaxPooling2D((2, 2), padding='same')(x)\n",
    "print x.shape\n",
    "x = Conv2D(8, (2, 2), activation='relu', padding='same')(x)\n",
    "print x.shape\n",
    "#x = MaxPooling2D((3, 2), padding='same')(x)\n",
    "#print x.shape\n",
    "#x = Conv2D(8, (3, 2), activation='relu', padding='same')(x)\n",
    "#print x.shape\n",
    "encoded = MaxPooling2D((3, 2), padding='same')(x)\n",
    "print encoded.shape\n",
    "\n",
    "# at this point the representation is ### altered(3, 3, 8) i.e. 128-dimensional\n",
    "print 'This is the bottleneck'\n",
    "\n",
    "x = Conv2D(8, (2, 2), activation='relu', padding='same')(encoded)\n",
    "print x.shape\n",
    "x = UpSampling2D((3, 2))(x)\n",
    "print x.shape\n",
    "#x = Conv2D(8, (2, 2), activation='relu', padding='same')(x)\n",
    "#x = UpSampling2D((2, 2))(x)\n",
    "x = Conv2D(16, (2, 2), activation='relu', padding='same')(x)\n",
    "print x.shape\n",
    "x = UpSampling2D((2, 2))(x)\n",
    "print x.shape\n",
    "decoded = Conv2D(1, (2, 2), activation='sigmoid', padding='same')(x)\n",
    "print decoded.shape\n",
    "\n",
    "autoencoder = Model(input_img, decoded)"
   ]
  },
  {
   "cell_type": "code",
   "execution_count": 139,
   "metadata": {},
   "outputs": [],
   "source": [
    "# this model maps an input to its encoded representation\n",
    "encoder = Model(input_img, encoded)\n",
    "\n",
    "# create a placeholder for an encoded (32-dimensional) input\n",
    "encoded_input = Input(shape=(3, 3, 8))\n",
    "# retrieve the last layer of the autoencoder model\n",
    "decoder_layers = autoencoder.layers[-5:]"
   ]
  },
  {
   "cell_type": "code",
   "execution_count": 141,
   "metadata": {},
   "outputs": [],
   "source": [
    "composed_model = decoder_layers[0](encoded_input)\n",
    "composed_model = decoder_layers[1](composed_model)\n",
    "composed_model = decoder_layers[2](composed_model)\n",
    "composed_model = decoder_layers[3](composed_model)\n",
    "composed_model = decoder_layers[4](composed_model)"
   ]
  },
  {
   "cell_type": "code",
   "execution_count": 142,
   "metadata": {},
   "outputs": [],
   "source": [
    "# create the decoder model\n",
    "decoder = Model(encoded_input, composed_model)\n",
    "\n",
    "autoencoder.compile(optimizer='adadelta', loss='binary_crossentropy')"
   ]
  },
  {
   "cell_type": "code",
   "execution_count": 5,
   "metadata": {},
   "outputs": [],
   "source": [
    "df_mira = pd.read_csv('ATLAS_LC/MIRA_features_table.csv')\n",
    "signature_cols = [col for col in df_mira.columns if 'Signature' in col]\n",
    "signature_cols += ['OBJID', 'filter', 'CLASS']\n",
    "df_mira = df_mira[signature_cols]"
   ]
  },
  {
   "cell_type": "code",
   "execution_count": 23,
   "metadata": {},
   "outputs": [],
   "source": [
    "df_mpulse = pd.read_csv('ATLAS_LC/MPULSE_features_table.csv')[signature_cols]\n",
    "df_dbf = pd.read_csv('ATLAS_LC/DBF_features_table.csv')[signature_cols]\n",
    "df_lpv = pd.read_csv('ATLAS_LC/LPV_features_table.csv')[signature_cols]\n",
    "df_dbh = pd.read_csv('ATLAS_LC/DBH_features_table.csv')[signature_cols]\n",
    "df_pulse = pd.read_csv('ATLAS_LC/PULSE_features_table.csv')[signature_cols]\n",
    "df_nsine = pd.read_csv('ATLAS_LC/NSINE_features_table.csv')[signature_cols]\n",
    "df_sine = pd.read_csv('ATLAS_LC/SINE_features_table.csv')[signature_cols]\n",
    "df_msine = pd.read_csv('ATLAS_LC/MSINE_features_table.csv')[signature_cols]\n",
    "df_cbh = pd.read_csv('ATLAS_LC/CBH_features_table.csv')[signature_cols]\n",
    "df_cbf = pd.read_csv('ATLAS_LC/CBF_features_table.csv')[signature_cols]\n",
    "df_irr = pd.read_csv('ATLAS_LC/IRR_features_table.csv')[signature_cols]"
   ]
  },
  {
   "cell_type": "code",
   "execution_count": 27,
   "metadata": {},
   "outputs": [],
   "source": [
    "full_data = pd.concat([df_mira, df_mpulse, df_dbf, df_lpv, df_dbh, df_pulse, \n",
    "                       df_nsine, df_sine, df_msine, df_cbf, df_cbh], sort=False)\n",
    "\n",
    "X = full_data[signature_cols].values"
   ]
  },
  {
   "cell_type": "code",
   "execution_count": 28,
   "metadata": {},
   "outputs": [],
   "source": [
    "del(df_mira)\n",
    "del(df_dbf)\n",
    "del(df_lpv)\n",
    "del(df_dbh)\n",
    "del(df_pulse)\n",
    "del(df_nsine)\n",
    "del(df_sine)\n",
    "del(df_msine)\n",
    "del(df_cbh)\n",
    "del(df_cbf)\n",
    "del(df_irr)"
   ]
  },
  {
   "cell_type": "code",
   "execution_count": 56,
   "metadata": {},
   "outputs": [],
   "source": [
    "data = X.reshape(X.shape[0], 18, 12, 1)"
   ]
  },
  {
   "cell_type": "code",
   "execution_count": 33,
   "metadata": {},
   "outputs": [],
   "source": [
    "from sklearn.model_selection import train_test_split"
   ]
  },
  {
   "cell_type": "code",
   "execution_count": 34,
   "metadata": {},
   "outputs": [],
   "source": [
    "X_train, X_test = train_test_split(data, test_size=0.10, random_state=17)"
   ]
  },
  {
   "cell_type": "code",
   "execution_count": 47,
   "metadata": {},
   "outputs": [
    {
     "name": "stdout",
     "output_type": "stream",
     "text": [
      "(18, 12, 1)\n",
      "(36254, 18, 12, 1)\n"
     ]
    }
   ],
   "source": [
    "print(X_train[0].shape)\n",
    "print(X_test.shape)"
   ]
  },
  {
   "cell_type": "code",
   "execution_count": 143,
   "metadata": {},
   "outputs": [
    {
     "name": "stdout",
     "output_type": "stream",
     "text": [
      "Train on 326278 samples, validate on 36254 samples\n",
      "Epoch 1/50\n",
      "326278/326278 [==============================] - 48s 146us/step - loss: 0.4767 - val_loss: 0.1628\n",
      "Epoch 2/50\n",
      "326278/326278 [==============================] - 50s 153us/step - loss: 0.0869 - val_loss: -0.1390\n",
      "Epoch 3/50\n",
      "326278/326278 [==============================] - 51s 155us/step - loss: -0.1616 - val_loss: -0.2972\n",
      "Epoch 4/50\n",
      "326278/326278 [==============================] - 49s 149us/step - loss: -0.3417 - val_loss: -0.4117\n",
      "Epoch 5/50\n",
      "326278/326278 [==============================] - 48s 147us/step - loss: -0.4842 - val_loss: -0.5430\n",
      "Epoch 6/50\n",
      "326278/326278 [==============================] - 52s 160us/step - loss: -0.5734 - val_loss: -0.6359\n",
      "Epoch 7/50\n",
      "326278/326278 [==============================] - 56s 172us/step - loss: -0.6323 - val_loss: -0.6740\n",
      "Epoch 8/50\n",
      "326278/326278 [==============================] - 57s 175us/step - loss: -0.6830 - val_loss: -0.7151\n",
      "Epoch 9/50\n",
      "326278/326278 [==============================] - 56s 172us/step - loss: -0.7168 - val_loss: -0.7456\n",
      "Epoch 10/50\n",
      "326278/326278 [==============================] - 56s 171us/step - loss: -0.7485 - val_loss: -0.7846\n",
      "Epoch 11/50\n",
      "326278/326278 [==============================] - 56s 170us/step - loss: -0.7747 - val_loss: -0.7876\n",
      "Epoch 12/50\n",
      "326278/326278 [==============================] - 60s 183us/step - loss: -0.7967 - val_loss: -0.8210\n",
      "Epoch 13/50\n",
      "326278/326278 [==============================] - 49s 151us/step - loss: -0.8153 - val_loss: -0.8200\n",
      "Epoch 14/50\n",
      "326278/326278 [==============================] - 49s 150us/step - loss: -0.8301 - val_loss: -0.8478\n",
      "Epoch 15/50\n",
      "326278/326278 [==============================] - 46s 141us/step - loss: -0.8447 - val_loss: -0.8627\n",
      "Epoch 16/50\n",
      "326278/326278 [==============================] - 47s 143us/step - loss: -0.8577 - val_loss: -0.8604\n",
      "Epoch 17/50\n",
      "326278/326278 [==============================] - 46s 142us/step - loss: -0.8681 - val_loss: -0.8851\n",
      "Epoch 18/50\n",
      "326278/326278 [==============================] - 47s 143us/step - loss: -0.8808 - val_loss: -0.8891\n",
      "Epoch 19/50\n",
      "326278/326278 [==============================] - 47s 143us/step - loss: -0.8889 - val_loss: -0.9085\n",
      "Epoch 20/50\n",
      "326278/326278 [==============================] - 46s 142us/step - loss: -0.8999 - val_loss: -0.9155\n",
      "Epoch 21/50\n",
      "326278/326278 [==============================] - 46s 142us/step - loss: -0.9081 - val_loss: -0.9247\n",
      "Epoch 22/50\n",
      "326278/326278 [==============================] - 46s 142us/step - loss: -0.9158 - val_loss: -0.9354\n",
      "Epoch 23/50\n",
      "326278/326278 [==============================] - 47s 143us/step - loss: -0.9234 - val_loss: -0.9328\n",
      "Epoch 24/50\n",
      "326278/326278 [==============================] - 47s 144us/step - loss: -0.9291 - val_loss: -0.9338\n",
      "Epoch 25/50\n",
      "326278/326278 [==============================] - 46s 142us/step - loss: -0.9346 - val_loss: -0.9425\n",
      "Epoch 26/50\n",
      "326278/326278 [==============================] - 46s 142us/step - loss: -0.9412 - val_loss: -0.9447\n",
      "Epoch 27/50\n",
      "326278/326278 [==============================] - 46s 141us/step - loss: -0.9464 - val_loss: -0.9715\n",
      "Epoch 28/50\n",
      "326278/326278 [==============================] - 44s 136us/step - loss: -0.9539 - val_loss: -0.9692\n",
      "Epoch 29/50\n",
      "326278/326278 [==============================] - 44s 135us/step - loss: -0.9593 - val_loss: -0.9730\n",
      "Epoch 30/50\n",
      "326278/326278 [==============================] - 44s 136us/step - loss: -0.9626 - val_loss: -0.9758\n",
      "Epoch 31/50\n",
      "326278/326278 [==============================] - 44s 135us/step - loss: -0.9685 - val_loss: -0.9789\n",
      "Epoch 32/50\n",
      "326278/326278 [==============================] - 44s 136us/step - loss: -0.9726 - val_loss: -0.9872\n",
      "Epoch 33/50\n",
      "326278/326278 [==============================] - 44s 136us/step - loss: -0.9780 - val_loss: -0.9718\n",
      "Epoch 34/50\n",
      "326278/326278 [==============================] - 44s 136us/step - loss: -0.9804 - val_loss: -0.9863\n",
      "Epoch 35/50\n",
      "326278/326278 [==============================] - 44s 136us/step - loss: -0.9830 - val_loss: -0.9898\n",
      "Epoch 36/50\n",
      "326278/326278 [==============================] - 44s 136us/step - loss: -0.9897 - val_loss: -0.9874\n",
      "Epoch 37/50\n",
      "326278/326278 [==============================] - 44s 136us/step - loss: -0.9924 - val_loss: -0.9980\n",
      "Epoch 38/50\n",
      "326278/326278 [==============================] - 45s 137us/step - loss: -0.9957 - val_loss: -1.0036\n",
      "Epoch 39/50\n",
      "326278/326278 [==============================] - 44s 136us/step - loss: -0.9986 - val_loss: -1.0040\n",
      "Epoch 40/50\n",
      "326278/326278 [==============================] - 44s 136us/step - loss: -1.0022 - val_loss: -1.0092\n",
      "Epoch 41/50\n",
      "326278/326278 [==============================] - 44s 135us/step - loss: -1.0056 - val_loss: -1.0262\n",
      "Epoch 42/50\n",
      "326278/326278 [==============================] - 44s 136us/step - loss: -1.0108 - val_loss: -1.0138\n",
      "Epoch 43/50\n",
      "326278/326278 [==============================] - 44s 136us/step - loss: -1.0103 - val_loss: -1.0237\n",
      "Epoch 44/50\n",
      "326278/326278 [==============================] - 44s 136us/step - loss: -1.0159 - val_loss: -1.0285\n",
      "Epoch 45/50\n",
      "326278/326278 [==============================] - 45s 139us/step - loss: -1.0175 - val_loss: -1.0238\n",
      "Epoch 46/50\n",
      "326278/326278 [==============================] - 44s 136us/step - loss: -1.0198 - val_loss: -1.0364\n",
      "Epoch 47/50\n",
      "326278/326278 [==============================] - 44s 135us/step - loss: -1.0218 - val_loss: -1.0303\n",
      "Epoch 48/50\n",
      "326278/326278 [==============================] - 44s 136us/step - loss: -1.0241 - val_loss: -1.0444\n",
      "Epoch 49/50\n",
      "326278/326278 [==============================] - 44s 136us/step - loss: -1.0273 - val_loss: -1.0349\n",
      "Epoch 50/50\n",
      "326278/326278 [==============================] - 44s 136us/step - loss: -1.0288 - val_loss: -1.0367\n"
     ]
    },
    {
     "data": {
      "text/plain": [
       "<keras.callbacks.History at 0x7f8fc8ff3910>"
      ]
     },
     "execution_count": 143,
     "metadata": {},
     "output_type": "execute_result"
    }
   ],
   "source": [
    "from keras.callbacks import TensorBoard\n",
    "\n",
    "autoencoder.fit(X_train, X_train,\n",
    "                epochs=50,\n",
    "                batch_size=6000,\n",
    "                shuffle=True,\n",
    "                validation_data=(X_test, X_test),\n",
    "                callbacks=[TensorBoard(log_dir='/tmp/autoencoder')])"
   ]
  },
  {
   "cell_type": "code",
   "execution_count": 144,
   "metadata": {},
   "outputs": [],
   "source": [
    "# use Matplotlib (don't ask)\n",
    "import matplotlib.pyplot as plt\n",
    "# encode and decode some lightcurves\n",
    "# note that we take them from the *test* set\n",
    "encoded_imgs = encoder.predict(X_test)\n",
    "decoded_imgs = decoder.predict(encoded_imgs)"
   ]
  },
  {
   "cell_type": "code",
   "execution_count": 145,
   "metadata": {},
   "outputs": [],
   "source": [
    "decoded_imgs_full = autoencoder.predict(X_test)"
   ]
  },
  {
   "cell_type": "code",
   "execution_count": 146,
   "metadata": {},
   "outputs": [
    {
     "data": {
      "image/png": "[encoded data removed]",
      "text/plain": [
       "<Figure size 1728x288 with 8 Axes>"
      ]
     },
     "metadata": {},
     "output_type": "display_data"
    }
   ],
   "source": [
    "n = 4  # how many digits we will display\n",
    "plt.figure(figsize=(24, 4))\n",
    "for i in range(n):\n",
    "    # display original\n",
    "    ax = plt.subplot(2, n, i + 1)\n",
    "    j = np.random.randint(0, high=len(X_test))\n",
    "    plt.imshow(X_test[j, :, :, 0].T, cmap='inferno')\n",
    "    \n",
    "    ax.get_xaxis().set_visible(False)\n",
    "    ax.get_yaxis().set_visible(False)\n",
    "\n",
    "    # display reconstruction\n",
    "    ax = plt.subplot(2, n, i + 1 + n)\n",
    "    plt.imshow(decoded_imgs_full[j, :, :, 0].T, cmap='inferno')\n",
    "    ax.get_xaxis().set_visible(False)\n",
    "    ax.get_yaxis().set_visible(False)\n",
    "plt.show()"
   ]
  },
  {
   "cell_type": "code",
   "execution_count": null,
   "metadata": {},
   "outputs": [],
   "source": []
  },
  {
   "cell_type": "code",
   "execution_count": null,
   "metadata": {},
   "outputs": [],
   "source": []
  }
 ],
 "metadata": {
  "kernelspec": {
   "display_name": "Python 2",
   "language": "python",
   "name": "python2"
  },
  "language_info": {
   "codemirror_mode": {
    "name": "ipython",
    "version": 2
   },
   "file_extension": ".py",
   "mimetype": "text/x-python",
   "name": "python",
   "nbconvert_exporter": "python",
   "pygments_lexer": "ipython2",
   "version": "2.7.12"
  }
 },
 "nbformat": 4,
 "nbformat_minor": 2
}
