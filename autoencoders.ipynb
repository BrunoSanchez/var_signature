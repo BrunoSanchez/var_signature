{
 "cells": [
  {
   "cell_type": "code",
   "execution_count": 1,
   "metadata": {
    "collapsed": true
   },
   "outputs": [],
   "source": [
    "import pandas as pd"
   ]
  },
  {
   "cell_type": "code",
   "execution_count": 2,
   "metadata": {},
   "outputs": [
    {
     "name": "stderr",
     "output_type": "stream",
     "text": [
      "/home/bruno/.virtualenvs/daily/local/lib/python2.7/site-packages/h5py/__init__.py:36: FutureWarning: Conversion of the second argument of issubdtype from `float` to `np.floating` is deprecated. In future, it will be treated as `np.float64 == np.dtype(float).type`.\n",
      "  from ._conv import register_converters as _register_converters\n",
      "Using TensorFlow backend.\n"
     ]
    }
   ],
   "source": [
    "from keras.layers import Input, Dense\n",
    "from keras.models import Model"
   ]
  },
  {
   "cell_type": "code",
   "execution_count": 4,
   "metadata": {},
   "outputs": [],
   "source": [
    "# this is the size of our encoded representations\n",
    "encoding_dim = 32  # 32 floats -> compression of factor 24.5, assuming the input is 784 floats\n",
    "\n",
    "# this is our input placeholder\n",
    "input_img = Input(shape=(784,))\n",
    "# \"encoded\" is the encoded representation of the input\n",
    "encoded = Dense(encoding_dim, activation='relu')(input_img)\n",
    "# \"decoded\" is the lossy reconstruction of the input\n",
    "decoded = Dense(784, activation='sigmoid')(encoded)\n",
    "\n",
    "# this model maps an input to its reconstruction\n",
    "autoencoder = Model(input_img, decoded)"
   ]
  },
  {
   "cell_type": "code",
   "execution_count": 16,
   "metadata": {},
   "outputs": [],
   "source": [
    "# this model maps an input to its encoded representation\n",
    "encoder = Model(input_img, encoded)"
   ]
  },
  {
   "cell_type": "code",
   "execution_count": 17,
   "metadata": {},
   "outputs": [],
   "source": [
    "# create a placeholder for an encoded (32-dimensional) input\n",
    "encoded_input = Input(shape=(encoding_dim,))\n",
    "# retrieve the last layer of the autoencoder model\n",
    "decoder_layer = autoencoder.layers[-1]\n",
    "# create the decoder model\n",
    "decoder = Model(encoded_input, decoder_layer(encoded_input))"
   ]
  },
  {
   "cell_type": "code",
   "execution_count": 18,
   "metadata": {
    "collapsed": true
   },
   "outputs": [],
   "source": [
    "autoencoder.compile(optimizer='adadelta', loss='binary_crossentropy')"
   ]
  },
  {
   "cell_type": "code",
   "execution_count": 19,
   "metadata": {},
   "outputs": [
    {
     "name": "stdout",
     "output_type": "stream",
     "text": [
      "Downloading data from https://s3.amazonaws.com/img-datasets/mnist.npz\n",
      "11493376/11490434 [==============================] - 4s 0us/step\n",
      "11501568/11490434 [==============================] - 4s 0us/step\n"
     ]
    }
   ],
   "source": [
    "from keras.datasets import mnist\n",
    "import numpy as np\n",
    "(x_train, _), (x_test, _) = mnist.load_data()"
   ]
  },
  {
   "cell_type": "code",
   "execution_count": 21,
   "metadata": {},
   "outputs": [
    {
     "name": "stdout",
     "output_type": "stream",
     "text": [
      "(60000, 784)\n",
      "(10000, 784)\n"
     ]
    }
   ],
   "source": [
    "x_train = x_train.astype('float32') / 255.\n",
    "x_test = x_test.astype('float32') / 255.\n",
    "x_train = x_train.reshape((len(x_train), np.prod(x_train.shape[1:])))\n",
    "x_test = x_test.reshape((len(x_test), np.prod(x_test.shape[1:])))\n",
    "print x_train.shape\n",
    "print x_test.shape"
   ]
  },
  {
   "cell_type": "code",
   "execution_count": 22,
   "metadata": {},
   "outputs": [
    {
     "name": "stdout",
     "output_type": "stream",
     "text": [
      "Train on 60000 samples, validate on 10000 samples\n",
      "Epoch 1/50\n",
      "60000/60000 [==============================] - 3s 57us/step - loss: 0.3569 - val_loss: 0.2716\n",
      "Epoch 2/50\n",
      "60000/60000 [==============================] - 3s 47us/step - loss: 0.2655 - val_loss: 0.2554\n",
      "Epoch 3/50\n",
      "60000/60000 [==============================] - 3s 48us/step - loss: 0.2446 - val_loss: 0.2308\n",
      "Epoch 4/50\n",
      "60000/60000 [==============================] - 3s 46us/step - loss: 0.2223 - val_loss: 0.2114\n",
      "Epoch 5/50\n",
      "60000/60000 [==============================] - 3s 43us/step - loss: 0.2064 - val_loss: 0.1987\n",
      "Epoch 6/50\n",
      "60000/60000 [==============================] - 3s 44us/step - loss: 0.1956 - val_loss: 0.1896\n",
      "Epoch 7/50\n",
      "60000/60000 [==============================] - 3s 49us/step - loss: 0.1873 - val_loss: 0.1820\n",
      "Epoch 8/50\n",
      "60000/60000 [==============================] - 3s 47us/step - loss: 0.1801 - val_loss: 0.1755\n",
      "Epoch 9/50\n",
      "60000/60000 [==============================] - 3s 46us/step - loss: 0.1740 - val_loss: 0.1698\n",
      "Epoch 10/50\n",
      "60000/60000 [==============================] - 3s 46us/step - loss: 0.1686 - val_loss: 0.1650\n",
      "Epoch 11/50\n",
      "60000/60000 [==============================] - 3s 46us/step - loss: 0.1640 - val_loss: 0.1607\n",
      "Epoch 12/50\n",
      "60000/60000 [==============================] - 3s 46us/step - loss: 0.1598 - val_loss: 0.1565\n",
      "Epoch 13/50\n",
      "60000/60000 [==============================] - 3s 46us/step - loss: 0.1561 - val_loss: 0.1530\n",
      "Epoch 14/50\n",
      "60000/60000 [==============================] - 3s 49us/step - loss: 0.1527 - val_loss: 0.1497\n",
      "Epoch 15/50\n",
      "60000/60000 [==============================] - 3s 46us/step - loss: 0.1495 - val_loss: 0.1466\n",
      "Epoch 16/50\n",
      "60000/60000 [==============================] - 3s 48us/step - loss: 0.1466 - val_loss: 0.1438\n",
      "Epoch 17/50\n",
      "60000/60000 [==============================] - 3s 47us/step - loss: 0.1439 - val_loss: 0.1411\n",
      "Epoch 18/50\n",
      "60000/60000 [==============================] - 3s 46us/step - loss: 0.1413 - val_loss: 0.1386\n",
      "Epoch 19/50\n",
      "60000/60000 [==============================] - 3s 46us/step - loss: 0.1388 - val_loss: 0.1362\n",
      "Epoch 20/50\n",
      "60000/60000 [==============================] - 3s 47us/step - loss: 0.1365 - val_loss: 0.1339\n",
      "Epoch 21/50\n",
      "60000/60000 [==============================] - 3s 47us/step - loss: 0.1342 - val_loss: 0.1317\n",
      "Epoch 22/50\n",
      "60000/60000 [==============================] - 3s 49us/step - loss: 0.1321 - val_loss: 0.1296\n",
      "Epoch 23/50\n",
      "60000/60000 [==============================] - 3s 50us/step - loss: 0.1300 - val_loss: 0.1275\n",
      "Epoch 24/50\n",
      "60000/60000 [==============================] - 3s 49us/step - loss: 0.1281 - val_loss: 0.1255\n",
      "Epoch 25/50\n",
      "60000/60000 [==============================] - 3s 46us/step - loss: 0.1262 - val_loss: 0.1237\n",
      "Epoch 26/50\n",
      "60000/60000 [==============================] - 3s 47us/step - loss: 0.1243 - val_loss: 0.1220\n",
      "Epoch 27/50\n",
      "60000/60000 [==============================] - 3s 46us/step - loss: 0.1226 - val_loss: 0.1202\n",
      "Epoch 28/50\n",
      "60000/60000 [==============================] - 3s 46us/step - loss: 0.1209 - val_loss: 0.1184\n",
      "Epoch 29/50\n",
      "60000/60000 [==============================] - 3s 50us/step - loss: 0.1193 - val_loss: 0.1169\n",
      "Epoch 30/50\n",
      "60000/60000 [==============================] - 3s 49us/step - loss: 0.1178 - val_loss: 0.1154\n",
      "Epoch 31/50\n",
      "60000/60000 [==============================] - 3s 45us/step - loss: 0.1164 - val_loss: 0.1141\n",
      "Epoch 32/50\n",
      "60000/60000 [==============================] - 3s 43us/step - loss: 0.1150 - val_loss: 0.1128\n",
      "Epoch 33/50\n",
      "60000/60000 [==============================] - 2s 41us/step - loss: 0.1138 - val_loss: 0.1116\n",
      "Epoch 34/50\n",
      "60000/60000 [==============================] - 2s 39us/step - loss: 0.1127 - val_loss: 0.1104\n",
      "Epoch 35/50\n",
      "60000/60000 [==============================] - 2s 39us/step - loss: 0.1116 - val_loss: 0.1094\n",
      "Epoch 36/50\n",
      "60000/60000 [==============================] - 2s 40us/step - loss: 0.1106 - val_loss: 0.1085\n",
      "Epoch 37/50\n",
      "60000/60000 [==============================] - 2s 40us/step - loss: 0.1097 - val_loss: 0.1076\n",
      "Epoch 38/50\n",
      "60000/60000 [==============================] - 2s 42us/step - loss: 0.1089 - val_loss: 0.1068\n",
      "Epoch 39/50\n",
      "60000/60000 [==============================] - 3s 52us/step - loss: 0.1081 - val_loss: 0.1061\n",
      "Epoch 40/50\n",
      "60000/60000 [==============================] - 3s 48us/step - loss: 0.1074 - val_loss: 0.1054\n",
      "Epoch 41/50\n",
      "60000/60000 [==============================] - 3s 48us/step - loss: 0.1067 - val_loss: 0.1047\n",
      "Epoch 42/50\n",
      "60000/60000 [==============================] - 3s 50us/step - loss: 0.1061 - val_loss: 0.1041\n",
      "Epoch 43/50\n",
      "60000/60000 [==============================] - 3s 47us/step - loss: 0.1055 - val_loss: 0.1036\n",
      "Epoch 44/50\n",
      "60000/60000 [==============================] - 3s 47us/step - loss: 0.1050 - val_loss: 0.1030\n",
      "Epoch 45/50\n",
      "60000/60000 [==============================] - 3s 47us/step - loss: 0.1045 - val_loss: 0.1025\n",
      "Epoch 46/50\n",
      "60000/60000 [==============================] - 3s 47us/step - loss: 0.1040 - val_loss: 0.1021\n",
      "Epoch 47/50\n",
      "60000/60000 [==============================] - 3s 47us/step - loss: 0.1035 - val_loss: 0.1016\n",
      "Epoch 48/50\n",
      "60000/60000 [==============================] - 3s 48us/step - loss: 0.1031 - val_loss: 0.1012\n",
      "Epoch 49/50\n",
      "60000/60000 [==============================] - 3s 47us/step - loss: 0.1027 - val_loss: 0.1008\n",
      "Epoch 50/50\n",
      "60000/60000 [==============================] - 3s 47us/step - loss: 0.1023 - val_loss: 0.1004\n"
     ]
    },
    {
     "data": {
      "text/plain": [
       "<keras.callbacks.History at 0x7fbc1e6ff410>"
      ]
     },
     "execution_count": 22,
     "metadata": {},
     "output_type": "execute_result"
    }
   ],
   "source": [
    "autoencoder.fit(x_train, x_train,\n",
    "                epochs=50,\n",
    "                batch_size=256,\n",
    "                shuffle=True,\n",
    "                validation_data=(x_test, x_test))"
   ]
  },
  {
   "cell_type": "code",
   "execution_count": 23,
   "metadata": {
    "collapsed": true
   },
   "outputs": [],
   "source": [
    "# encode and decode some digits\n",
    "# note that we take them from the *test* set\n",
    "encoded_imgs = encoder.predict(x_test)\n",
    "decoded_imgs = decoder.predict(encoded_imgs)"
   ]
  },
  {
   "cell_type": "code",
   "execution_count": 28,
   "metadata": {},
   "outputs": [
    {
     "data": {
      "image/png": "[encoded data removed]",
      "text/plain": [
       "<matplotlib.figure.Figure at 0x7fbc1c0fd390>"
      ]
     },
     "metadata": {},
     "output_type": "display_data"
    }
   ],
   "source": [
    "# use Matplotlib (don't ask)\n",
    "import matplotlib.pyplot as plt\n",
    "\n",
    "n = 10  # how many digits we will display\n",
    "plt.figure(figsize=(20, 4))\n",
    "for i in range(n):\n",
    "    # display original\n",
    "    ax = plt.subplot(2, n, i + 1)\n",
    "    plt.imshow(x_test[i].reshape(28, 28))\n",
    "    plt.gray()\n",
    "    ax.get_xaxis().set_visible(False)\n",
    "    ax.get_yaxis().set_visible(False)\n",
    "\n",
    "    # display reconstruction\n",
    "    ax = plt.subplot(2, n, i + 1 + n)\n",
    "    plt.imshow(decoded_imgs[i].reshape(28, 28))\n",
    "    plt.gray()\n",
    "    ax.get_xaxis().set_visible(False)\n",
    "    ax.get_yaxis().set_visible(False)\n",
    "plt.show()"
   ]
  },
  {
   "cell_type": "code",
   "execution_count": 32,
   "metadata": {},
   "outputs": [
    {
     "data": {
      "image/png": "[encoded data removed]",
      "text/plain": [
       "<matplotlib.figure.Figure at 0x7fbbed56d450>"
      ]
     },
     "metadata": {},
     "output_type": "display_data"
    }
   ],
   "source": [
    "for i in range(n):\n",
    "    ax = plt.subplot(1, n, i + 1)\n",
    "    plt.imshow(encoded_imgs[i].reshape(8, 4))\n",
    "    plt.gray()\n",
    "    ax.get_xaxis().set_visible(False)\n",
    "    ax.get_yaxis().set_visible(False)\n",
    "plt.show()"
   ]
  },
  {
   "cell_type": "markdown",
   "metadata": {},
   "source": [
    "###  Con curvas de luz"
   ]
  },
  {
   "cell_type": "code",
   "execution_count": 33,
   "metadata": {
    "collapsed": true
   },
   "outputs": [],
   "source": [
    "features = pd.read_pickle('features/features.pkl')"
   ]
  },
  {
   "cell_type": "code",
   "execution_count": 34,
   "metadata": {
    "collapsed": true
   },
   "outputs": [],
   "source": [
    "features = features.dropna(axis=0, how='any')"
   ]
  },
  {
   "cell_type": "code",
   "execution_count": 35,
   "metadata": {},
   "outputs": [
    {
     "data": {
      "text/plain": [
       "290"
      ]
     },
     "execution_count": 35,
     "metadata": {},
     "output_type": "execute_result"
    }
   ],
   "source": [
    "len(features.columns)"
   ]
  },
  {
   "cell_type": "code",
   "execution_count": 115,
   "metadata": {},
   "outputs": [
    {
     "data": {
      "text/plain": [
       "7193"
      ]
     },
     "execution_count": 115,
     "metadata": {},
     "output_type": "execute_result"
    }
   ],
   "source": [
    "len(features)"
   ]
  },
  {
   "cell_type": "code",
   "execution_count": 36,
   "metadata": {
    "collapsed": true
   },
   "outputs": [],
   "source": [
    "def from_ij_to_idx(i, j, n_i):\n",
    "    idx = j * n_i + i\n",
    "    return idx\n",
    "\n",
    "def from_idx_to_ij(idx, n_i):\n",
    "    frac = float(idx)/float(n_i)\n",
    "    j = int(frac)\n",
    "    i = int((frac - j) * n_i)\n",
    "    return i, j"
   ]
  },
  {
   "cell_type": "code",
   "execution_count": 41,
   "metadata": {
    "collapsed": true
   },
   "outputs": [],
   "source": [
    "vartypes = ['RRLyrab', 'RRLyrc', 'Algol1', 'Algol2', \n",
    "            'CB', 'DScuti', 'LPVar', 'HBeat', 'BLHer', \n",
    "            'AnomCephei', 'Other']\n",
    "types = features[['LCtype']]"
   ]
  },
  {
   "cell_type": "code",
   "execution_count": 117,
   "metadata": {},
   "outputs": [],
   "source": [
    "rrlyab = features[features.LCtype==1]"
   ]
  },
  {
   "cell_type": "code",
   "execution_count": 256,
   "metadata": {},
   "outputs": [],
   "source": [
    "rrlyab = features"
   ]
  },
  {
   "cell_type": "code",
   "execution_count": 257,
   "metadata": {},
   "outputs": [
    {
     "data": {
      "text/plain": [
       "7193"
      ]
     },
     "execution_count": 257,
     "metadata": {},
     "output_type": "execute_result"
    }
   ],
   "source": [
    "len(rrlyab)"
   ]
  },
  {
   "cell_type": "code",
   "execution_count": 258,
   "metadata": {
    "collapsed": true
   },
   "outputs": [],
   "source": [
    "def from_id_to_signature(starid, n_x=18, n_y=12):\n",
    "    signature = np.empty((n_y, n_x))\n",
    "    for x in range(n_x):\n",
    "        for y in range(n_y):\n",
    "            signature[y, x] = features.iloc[starid]['Signature_x_{}_y_{}'.format(x, y)]\n",
    "    return signature"
   ]
  },
  {
   "cell_type": "code",
   "execution_count": 259,
   "metadata": {},
   "outputs": [
    {
     "data": {
      "image/png": "[encoded data removed]",
      "text/plain": [
       "<matplotlib.figure.Figure at 0x7fbbeea46890>"
      ]
     },
     "metadata": {},
     "output_type": "display_data"
    }
   ],
   "source": [
    "lc0 = from_id_to_signature(7)\n",
    "plt.imshow(lc0)\n",
    "plt.show()"
   ]
  },
  {
   "cell_type": "code",
   "execution_count": 260,
   "metadata": {
    "collapsed": true
   },
   "outputs": [],
   "source": [
    "cols = rrlyab.columns[rrlyab.columns.str.startswith('Signature')]"
   ]
  },
  {
   "cell_type": "code",
   "execution_count": 261,
   "metadata": {},
   "outputs": [],
   "source": [
    "Xset = rrlyab[cols]"
   ]
  },
  {
   "cell_type": "code",
   "execution_count": 262,
   "metadata": {
    "collapsed": true
   },
   "outputs": [],
   "source": [
    "def from_row_to_sign(tablerow, n_x=18, n_y=12):\n",
    "    signature = np.empty((n_y, n_x))\n",
    "    for x in range(n_x):\n",
    "        for y in range(n_y):\n",
    "            signature[y, x] = tablerow['Signature_x_{}_y_{}'.format(x, y)]\n",
    "    return signature"
   ]
  },
  {
   "cell_type": "code",
   "execution_count": 263,
   "metadata": {},
   "outputs": [],
   "source": [
    "data = np.empty((len(Xset), 216))\n",
    "\n",
    "for i in range(len(Xset)):\n",
    "    sign = from_row_to_sign(Xset.iloc[i])\n",
    "    sign = sign.reshape(216)\n",
    "    data[i, :] = sign\n",
    "\n",
    "newX = pd.DataFrame(data)"
   ]
  },
  {
   "cell_type": "code",
   "execution_count": 264,
   "metadata": {
    "scrolled": true
   },
   "outputs": [
    {
     "data": {
      "image/png": "[encoded data removed]",
      "text/plain": [
       "<matplotlib.figure.Figure at 0x7fbbef8cf510>"
      ]
     },
     "metadata": {},
     "output_type": "display_data"
    }
   ],
   "source": [
    "plt.imshow(from_row_to_sign(Xset.iloc[12]))\n",
    "#.as_matrix().reshape(18, 12).T)\n",
    "plt.show()"
   ]
  },
  {
   "cell_type": "code",
   "execution_count": 265,
   "metadata": {},
   "outputs": [
    {
     "data": {
      "image/png": "[encoded data removed]",
      "text/plain": [
       "<matplotlib.figure.Figure at 0x7fbbef1b0790>"
      ]
     },
     "metadata": {},
     "output_type": "display_data"
    }
   ],
   "source": [
    "plt.imshow(newX.iloc[12].as_matrix().reshape(12, 18))\n",
    "plt.show()"
   ]
  },
  {
   "cell_type": "code",
   "execution_count": 266,
   "metadata": {
    "collapsed": true
   },
   "outputs": [],
   "source": [
    "from sklearn.model_selection import train_test_split"
   ]
  },
  {
   "cell_type": "code",
   "execution_count": 267,
   "metadata": {},
   "outputs": [],
   "source": [
    "X_train, X_test = train_test_split(newX, test_size=0.10, random_state=42)"
   ]
  },
  {
   "cell_type": "code",
   "execution_count": 268,
   "metadata": {},
   "outputs": [],
   "source": [
    "X_train = X_train.as_matrix() "
   ]
  },
  {
   "cell_type": "code",
   "execution_count": 269,
   "metadata": {},
   "outputs": [],
   "source": [
    "X_test = X_test.as_matrix()"
   ]
  },
  {
   "cell_type": "code",
   "execution_count": 299,
   "metadata": {
    "collapsed": true
   },
   "outputs": [],
   "source": [
    "## this is the size of our encoded representations\n",
    "encoding_dim = 32  # 32 floats -> compression of factor 24.5, assuming the input is 784 floats\n",
    "\n",
    "# this is our input placeholder\n",
    "input_img = Input(shape=(216,))\n",
    "# \"encoded\" is the encoded representation of the input\n",
    "encoded = Dense(encoding_dim, activation='relu')(input_img)\n",
    "# \"decoded\" is the lossy reconstruction of the input\n",
    "decoded = Dense(216, activation='sigmoid')(encoded)\n",
    "\n",
    "# this model maps an input to its reconstruction\n",
    "autoencoder = Model(input_img, decoded)"
   ]
  },
  {
   "cell_type": "code",
   "execution_count": 300,
   "metadata": {
    "collapsed": true
   },
   "outputs": [],
   "source": [
    "# this model maps an input to its encoded representation\n",
    "encoder = Model(input_img, encoded)"
   ]
  },
  {
   "cell_type": "code",
   "execution_count": 301,
   "metadata": {
    "collapsed": true
   },
   "outputs": [],
   "source": [
    "# create a placeholder for an encoded (32-dimensional) input\n",
    "encoded_input = Input(shape=(encoding_dim,))\n",
    "# retrieve the last layer of the autoencoder model\n",
    "decoder_layer = autoencoder.layers[-1]\n",
    "# create the decoder model\n",
    "decoder = Model(encoded_input, decoder_layer(encoded_input))"
   ]
  },
  {
   "cell_type": "code",
   "execution_count": 302,
   "metadata": {
    "collapsed": true
   },
   "outputs": [],
   "source": [
    "autoencoder.compile(optimizer='adadelta', loss='binary_crossentropy')"
   ]
  },
  {
   "cell_type": "code",
   "execution_count": 303,
   "metadata": {
    "scrolled": true
   },
   "outputs": [
    {
     "name": "stdout",
     "output_type": "stream",
     "text": [
      "Train on 6473 samples, validate on 720 samples\n",
      "Epoch 1/80\n",
      "6473/6473 [==============================] - 1s 85us/step - loss: 0.6253 - val_loss: 0.5392\n",
      "Epoch 2/80\n",
      "6473/6473 [==============================] - 0s 30us/step - loss: 0.4503 - val_loss: 0.3690\n",
      "Epoch 3/80\n",
      "6473/6473 [==============================] - 0s 27us/step - loss: 0.2929 - val_loss: 0.2225\n",
      "Epoch 4/80\n",
      "6473/6473 [==============================] - 0s 29us/step - loss: 0.1731 - val_loss: 0.1275\n",
      "Epoch 5/80\n",
      "6473/6473 [==============================] - 0s 36us/step - loss: 0.0906 - val_loss: 0.0584\n",
      "Epoch 6/80\n",
      "6473/6473 [==============================] - 0s 36us/step - loss: 0.0263 - val_loss: 0.0027\n",
      "Epoch 7/80\n",
      "6473/6473 [==============================] - 0s 33us/step - loss: -0.0276 - val_loss: -0.0436\n",
      "Epoch 8/80\n",
      "6473/6473 [==============================] - 0s 29us/step - loss: -0.0730 - val_loss: -0.0822\n",
      "Epoch 9/80\n",
      "6473/6473 [==============================] - 0s 28us/step - loss: -0.1120 - val_loss: -0.1151\n",
      "Epoch 10/80\n",
      "6473/6473 [==============================] - 0s 27us/step - loss: -0.1463 - val_loss: -0.1437\n",
      "Epoch 11/80\n",
      "6473/6473 [==============================] - 0s 25us/step - loss: -0.1778 - val_loss: -0.1718\n",
      "Epoch 12/80\n",
      "6473/6473 [==============================] - 0s 24us/step - loss: -0.2064 - val_loss: -0.1957\n",
      "Epoch 13/80\n",
      "6473/6473 [==============================] - 0s 26us/step - loss: -0.2332 - val_loss: -0.2193\n",
      "Epoch 14/80\n",
      "6473/6473 [==============================] - 0s 24us/step - loss: -0.2572 - val_loss: -0.2409\n",
      "Epoch 15/80\n",
      "6473/6473 [==============================] - 0s 24us/step - loss: -0.2797 - val_loss: -0.2584\n",
      "Epoch 16/80\n",
      "6473/6473 [==============================] - 0s 24us/step - loss: -0.2999 - val_loss: -0.2755\n",
      "Epoch 17/80\n",
      "6473/6473 [==============================] - 0s 25us/step - loss: -0.3179 - val_loss: -0.2904\n",
      "Epoch 18/80\n",
      "6473/6473 [==============================] - 0s 24us/step - loss: -0.3343 - val_loss: -0.3054\n",
      "Epoch 19/80\n",
      "6473/6473 [==============================] - 0s 28us/step - loss: -0.3486 - val_loss: -0.3187\n",
      "Epoch 20/80\n",
      "6473/6473 [==============================] - 0s 24us/step - loss: -0.3618 - val_loss: -0.3280\n",
      "Epoch 21/80\n",
      "6473/6473 [==============================] - 0s 25us/step - loss: -0.3732 - val_loss: -0.3382\n",
      "Epoch 22/80\n",
      "6473/6473 [==============================] - 0s 25us/step - loss: -0.3834 - val_loss: -0.3467\n",
      "Epoch 23/80\n",
      "6473/6473 [==============================] - 0s 25us/step - loss: -0.3926 - val_loss: -0.3531\n",
      "Epoch 24/80\n",
      "6473/6473 [==============================] - 0s 24us/step - loss: -0.4008 - val_loss: -0.3613\n",
      "Epoch 25/80\n",
      "6473/6473 [==============================] - 0s 24us/step - loss: -0.4081 - val_loss: -0.3681\n",
      "Epoch 26/80\n",
      "6473/6473 [==============================] - 0s 25us/step - loss: -0.4145 - val_loss: -0.3721\n",
      "Epoch 27/80\n",
      "6473/6473 [==============================] - 0s 26us/step - loss: -0.4204 - val_loss: -0.3770\n",
      "Epoch 28/80\n",
      "6473/6473 [==============================] - 0s 25us/step - loss: -0.4257 - val_loss: -0.3804\n",
      "Epoch 29/80\n",
      "6473/6473 [==============================] - 0s 24us/step - loss: -0.4301 - val_loss: -0.3863\n",
      "Epoch 30/80\n",
      "6473/6473 [==============================] - 0s 24us/step - loss: -0.4345 - val_loss: -0.3889\n",
      "Epoch 31/80\n",
      "6473/6473 [==============================] - 0s 25us/step - loss: -0.4384 - val_loss: -0.3905\n",
      "Epoch 32/80\n",
      "6473/6473 [==============================] - 0s 25us/step - loss: -0.4419 - val_loss: -0.3932\n",
      "Epoch 33/80\n",
      "6473/6473 [==============================] - 0s 27us/step - loss: -0.4450 - val_loss: -0.3970\n",
      "Epoch 34/80\n",
      "6473/6473 [==============================] - 0s 25us/step - loss: -0.4480 - val_loss: -0.3976\n",
      "Epoch 35/80\n",
      "6473/6473 [==============================] - 0s 25us/step - loss: -0.4505 - val_loss: -0.4013\n",
      "Epoch 36/80\n",
      "6473/6473 [==============================] - 0s 24us/step - loss: -0.4530 - val_loss: -0.4038\n",
      "Epoch 37/80\n",
      "6473/6473 [==============================] - 0s 25us/step - loss: -0.4552 - val_loss: -0.4042\n",
      "Epoch 38/80\n",
      "6473/6473 [==============================] - 0s 26us/step - loss: -0.4576 - val_loss: -0.4056\n",
      "Epoch 39/80\n",
      "6473/6473 [==============================] - 0s 25us/step - loss: -0.4591 - val_loss: -0.4079\n",
      "Epoch 40/80\n",
      "6473/6473 [==============================] - 0s 25us/step - loss: -0.4614 - val_loss: -0.4096\n",
      "Epoch 41/80\n",
      "6473/6473 [==============================] - 0s 26us/step - loss: -0.4628 - val_loss: -0.4104\n",
      "Epoch 42/80\n",
      "6473/6473 [==============================] - 0s 26us/step - loss: -0.4644 - val_loss: -0.4119\n",
      "Epoch 43/80\n",
      "6473/6473 [==============================] - 0s 24us/step - loss: -0.4661 - val_loss: -0.4112\n",
      "Epoch 44/80\n",
      "6473/6473 [==============================] - 0s 29us/step - loss: -0.4676 - val_loss: -0.4146\n",
      "Epoch 45/80\n",
      "6473/6473 [==============================] - 0s 26us/step - loss: -0.4689 - val_loss: -0.4155\n",
      "Epoch 46/80\n",
      "6473/6473 [==============================] - 0s 25us/step - loss: -0.4705 - val_loss: -0.4162\n",
      "Epoch 47/80\n",
      "6473/6473 [==============================] - 0s 25us/step - loss: -0.4713 - val_loss: -0.4180\n",
      "Epoch 48/80\n",
      "6473/6473 [==============================] - 0s 26us/step - loss: -0.4726 - val_loss: -0.4183\n",
      "Epoch 49/80\n",
      "6473/6473 [==============================] - 0s 24us/step - loss: -0.4740 - val_loss: -0.4186\n",
      "Epoch 50/80\n",
      "6473/6473 [==============================] - 0s 24us/step - loss: -0.4748 - val_loss: -0.4199\n",
      "Epoch 51/80\n",
      "6473/6473 [==============================] - 0s 25us/step - loss: -0.4761 - val_loss: -0.4205\n",
      "Epoch 52/80\n",
      "6473/6473 [==============================] - 0s 24us/step - loss: -0.4771 - val_loss: -0.4219\n",
      "Epoch 53/80\n",
      "6473/6473 [==============================] - 0s 25us/step - loss: -0.4780 - val_loss: -0.4229\n",
      "Epoch 54/80\n",
      "6473/6473 [==============================] - 0s 24us/step - loss: -0.4791 - val_loss: -0.4233\n",
      "Epoch 55/80\n",
      "6473/6473 [==============================] - 0s 26us/step - loss: -0.4798 - val_loss: -0.4234\n",
      "Epoch 56/80\n",
      "6473/6473 [==============================] - 0s 26us/step - loss: -0.4809 - val_loss: -0.4220\n",
      "Epoch 57/80\n",
      "6473/6473 [==============================] - 0s 26us/step - loss: -0.4816 - val_loss: -0.4242\n",
      "Epoch 58/80\n",
      "6473/6473 [==============================] - 0s 25us/step - loss: -0.4827 - val_loss: -0.4242\n",
      "Epoch 59/80\n",
      "6473/6473 [==============================] - 0s 25us/step - loss: -0.4835 - val_loss: -0.4269\n",
      "Epoch 60/80\n",
      "6473/6473 [==============================] - 0s 26us/step - loss: -0.4840 - val_loss: -0.4263\n",
      "Epoch 61/80\n",
      "6473/6473 [==============================] - 0s 24us/step - loss: -0.4851 - val_loss: -0.4268\n",
      "Epoch 62/80\n",
      "6473/6473 [==============================] - 0s 24us/step - loss: -0.4857 - val_loss: -0.4282\n",
      "Epoch 63/80\n",
      "6473/6473 [==============================] - 0s 24us/step - loss: -0.4863 - val_loss: -0.4297\n",
      "Epoch 64/80\n",
      "6473/6473 [==============================] - 0s 25us/step - loss: -0.4872 - val_loss: -0.4281\n",
      "Epoch 65/80\n",
      "6473/6473 [==============================] - 0s 25us/step - loss: -0.4878 - val_loss: -0.4300\n",
      "Epoch 66/80\n",
      "6473/6473 [==============================] - 0s 25us/step - loss: -0.4884 - val_loss: -0.4300\n",
      "Epoch 67/80\n",
      "6473/6473 [==============================] - 0s 25us/step - loss: -0.4893 - val_loss: -0.4310\n",
      "Epoch 68/80\n",
      "6473/6473 [==============================] - 0s 26us/step - loss: -0.4898 - val_loss: -0.4302\n",
      "Epoch 69/80\n",
      "6473/6473 [==============================] - 0s 26us/step - loss: -0.4904 - val_loss: -0.4314\n",
      "Epoch 70/80\n",
      "6473/6473 [==============================] - 0s 25us/step - loss: -0.4911 - val_loss: -0.4323\n",
      "Epoch 71/80\n",
      "6473/6473 [==============================] - 0s 25us/step - loss: -0.4917 - val_loss: -0.4320\n",
      "Epoch 72/80\n",
      "6473/6473 [==============================] - 0s 26us/step - loss: -0.4923 - val_loss: -0.4329\n",
      "Epoch 73/80\n",
      "6473/6473 [==============================] - 0s 24us/step - loss: -0.4929 - val_loss: -0.4329\n",
      "Epoch 74/80\n",
      "6473/6473 [==============================] - 0s 26us/step - loss: -0.4933 - val_loss: -0.4334\n",
      "Epoch 75/80\n",
      "6473/6473 [==============================] - 0s 27us/step - loss: -0.4940 - val_loss: -0.4339\n",
      "Epoch 76/80\n",
      "6473/6473 [==============================] - 0s 24us/step - loss: -0.4946 - val_loss: -0.4343\n",
      "Epoch 77/80\n",
      "6473/6473 [==============================] - 0s 27us/step - loss: -0.4949 - val_loss: -0.4339\n",
      "Epoch 78/80\n"
     ]
    },
    {
     "name": "stdout",
     "output_type": "stream",
     "text": [
      "6473/6473 [==============================] - 0s 25us/step - loss: -0.4956 - val_loss: -0.4347\n",
      "Epoch 79/80\n",
      "6473/6473 [==============================] - 0s 24us/step - loss: -0.4960 - val_loss: -0.4356\n",
      "Epoch 80/80\n",
      "6473/6473 [==============================] - 0s 25us/step - loss: -0.4962 - val_loss: -0.4359\n"
     ]
    },
    {
     "data": {
      "text/plain": [
       "<keras.callbacks.History at 0x7fbbef8db7d0>"
      ]
     },
     "execution_count": 303,
     "metadata": {},
     "output_type": "execute_result"
    }
   ],
   "source": [
    "autoencoder.fit(X_train, X_train,\n",
    "                epochs=80,\n",
    "                batch_size=80,\n",
    "                shuffle=True,\n",
    "                validation_data=(X_test, X_test))"
   ]
  },
  {
   "cell_type": "code",
   "execution_count": 304,
   "metadata": {},
   "outputs": [],
   "source": [
    "# encode and decode some lightcurves\n",
    "# note that we take them from the *test* set\n",
    "encoded_imgs = encoder.predict(X_test)\n",
    "decoded_imgs = decoder.predict(encoded_imgs)"
   ]
  },
  {
   "cell_type": "code",
   "execution_count": 305,
   "metadata": {},
   "outputs": [
    {
     "data": {
      "image/png": "[encoded data removed]",
      "text/plain": [
       "<matplotlib.figure.Figure at 0x7fbbee4e8310>"
      ]
     },
     "metadata": {},
     "output_type": "display_data"
    }
   ],
   "source": [
    "# use Matplotlib (don't ask)\n",
    "import matplotlib.pyplot as plt\n",
    "\n",
    "n = 10  # how many digits we will display\n",
    "plt.figure(figsize=(20, 4))\n",
    "for i in range(n):\n",
    "    # display original\n",
    "    ax = plt.subplot(2, n, i + 1)\n",
    "    plt.imshow(X_test[i].reshape(12, 18))\n",
    "    plt.gray()\n",
    "    ax.get_xaxis().set_visible(False)\n",
    "    ax.get_yaxis().set_visible(False)\n",
    "\n",
    "    # display reconstruction\n",
    "    ax = plt.subplot(2, n, i + 1 + n)\n",
    "    plt.imshow(decoded_imgs[i].reshape(12, 18))\n",
    "    plt.gray()\n",
    "    ax.get_xaxis().set_visible(False)\n",
    "    ax.get_yaxis().set_visible(False)\n",
    "plt.show()"
   ]
  },
  {
   "cell_type": "code",
   "execution_count": 307,
   "metadata": {},
   "outputs": [
    {
     "data": {
      "image/png": "[encoded data removed]",
      "text/plain": [
       "<matplotlib.figure.Figure at 0x7fbbacc6df10>"
      ]
     },
     "metadata": {},
     "output_type": "display_data"
    }
   ],
   "source": [
    "plt.figure(figsize=(12, 6))\n",
    "for i in range(n):\n",
    "    ax = plt.subplot(1, n, i + 1)\n",
    "    plt.imshow(encoded_imgs[i].reshape(32, 1))\n",
    "    plt.gray()\n",
    "    ax.get_xaxis().set_visible(False)\n",
    "    ax.get_yaxis().set_visible(False)\n",
    "plt.show()"
   ]
  },
  {
   "cell_type": "code",
   "execution_count": null,
   "metadata": {
    "collapsed": true
   },
   "outputs": [],
   "source": []
  }
 ],
 "metadata": {
  "kernelspec": {
   "display_name": "Python 2",
   "language": "python",
   "name": "python2"
  },
  "language_info": {
   "codemirror_mode": {
    "name": "ipython",
    "version": 2
   },
   "file_extension": ".py",
   "mimetype": "text/x-python",
   "name": "python",
   "nbconvert_exporter": "python",
   "pygments_lexer": "ipython2",
   "version": "2.7.12"
  }
 },
 "nbformat": 4,
 "nbformat_minor": 2
}
