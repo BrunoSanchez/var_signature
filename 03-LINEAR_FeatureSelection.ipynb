{
 "cells": [
  {
   "cell_type": "markdown",
   "metadata": {},
   "source": [
    "# LINEAR Dataset Feature Selection"
   ]
  },
  {
   "cell_type": "markdown",
   "metadata": {},
   "source": [
    "We will take on the LINEAR Dataset of variables, which contains higly reliable sample of ~7000 optically faint variables, observed with the Lincoln Near-Earth Asteroid Research survey, from 1998 to 2009."
   ]
  },
  {
   "cell_type": "markdown",
   "metadata": {},
   "source": [
    "Several classes of variables are present in this dataset, detailed below:\n",
    "\n",
    "1. RR Lyr ab (2923); \n",
    "2. RR Lyr c (990); \n",
    "3. Algol-like with 1 minimum (20); \n",
    "4. Algol-like with 2 minima (357); \n",
    "5. contact binary (2385); \n",
    "6. delta Scu/SX Phe (112); \n",
    "7. long-period variable, including semi-regular variables (77); \n",
    "8. hearbeat candidates (1); \n",
    "9. BL Her (6); \n",
    "10. [yes, class 10 is missing]. \n",
    "11. anomalous Cepheids (5); \n",
    "0. other (318, including some quasars)  "
   ]
  },
  {
   "cell_type": "markdown",
   "metadata": {},
   "source": [
    "We will perform a dataset exploration, and a feature selection using the *feets* library output features."
   ]
  },
  {
   "cell_type": "code",
   "execution_count": null,
   "metadata": {
    "collapsed": true
   },
   "outputs": [],
   "source": [
    "import os\n",
    "import numpy as np\n",
    "import pickle \n",
    "from pprint import pprint\n",
    "import pandas as pd\n",
    "\n",
    "%matplotlib inline\n",
    "import matplotlib.pyplot as plt"
   ]
  },
  {
   "cell_type": "code",
   "execution_count": null,
   "metadata": {
    "collapsed": true
   },
   "outputs": [],
   "source": [
    "from sklearn import preprocessing as prp\n",
    "from sklearn import decomposition as de\n",
    "from sklearn import feature_selection as fs\n",
    "\n",
    "from sklearn import svm\n",
    "from sklearn import metrics\n",
    "from sklearn.model_selection import KFold, StratifiedKFold, train_test_split\n",
    "from sklearn.svm import SVC\n",
    "from sklearn.tree import DecisionTreeClassifier\n",
    "from sklearn.ensemble import RandomForestClassifier\n",
    "from sklearn.neighbors import KNeighborsClassifier"
   ]
  },
  {
   "cell_type": "code",
   "execution_count": null,
   "metadata": {
    "collapsed": true
   },
   "outputs": [],
   "source": [
    "from IPython import display as d\n",
    "\n",
    "from lime import lime_tabular as lt"
   ]
  },
  {
   "cell_type": "code",
   "execution_count": null,
   "metadata": {
    "collapsed": true
   },
   "outputs": [],
   "source": [
    "def from_ij_to_idx(i, j, n_i):\n",
    "    idx = j * n_i + i\n",
    "    return idx\n",
    "\n",
    "def from_idx_to_ij(idx, n_i):\n",
    "    frac = float(idx)/float(n_i)\n",
    "    j = int(frac)\n",
    "    i = int((frac - j) * n_i)\n",
    "    return i, j"
   ]
  },
  {
   "cell_type": "code",
   "execution_count": null,
   "metadata": {
    "collapsed": true
   },
   "outputs": [],
   "source": [
    "features = pd.read_pickle('features/features.pkl')"
   ]
  },
  {
   "cell_type": "code",
   "execution_count": null,
   "metadata": {
    "collapsed": true
   },
   "outputs": [],
   "source": [
    "features = features.dropna(axis=0, how='any')"
   ]
  },
  {
   "cell_type": "code",
   "execution_count": null,
   "metadata": {},
   "outputs": [],
   "source": [
    "len(features.columns)"
   ]
  },
  {
   "cell_type": "code",
   "execution_count": null,
   "metadata": {
    "collapsed": true
   },
   "outputs": [],
   "source": [
    "vartypes = ['RRLyrab', 'RRLyrc', 'Algol1', 'Algol2', \n",
    "            'CB', 'DScuti', 'LPVar', 'HBeat', 'BLHer', \n",
    "            'AnomCephei', 'Other']\n",
    "types = features[['LCtype']]"
   ]
  },
  {
   "cell_type": "code",
   "execution_count": null,
   "metadata": {
    "collapsed": true
   },
   "outputs": [],
   "source": [
    "plt.hist(types.as_matrix(), log=True)\n",
    "plt.xticks(range(11), vartypes, rotation=40)\n",
    "plt.title('How many examples of each class do we have?')\n",
    "plt.show()"
   ]
  },
  {
   "cell_type": "code",
   "execution_count": null,
   "metadata": {
    "collapsed": true
   },
   "outputs": [],
   "source": [
    "plt.hist(features['nObs'], bins=20)\n",
    "plt.vlines(x=np.median(features['nObs']), ymax=2500, ymin=0)\n",
    "plt.title('How many datapoints in the lightcurves?')\n",
    "plt.show()"
   ]
  },
  {
   "cell_type": "code",
   "execution_count": null,
   "metadata": {
    "collapsed": true
   },
   "outputs": [],
   "source": [
    "plt.plot(features['LCtype']+np.random.random(len(features))*0.1, \n",
    "         features['StetsonK'], '.')\n",
    "plt.xlabel('Variable Type')\n",
    "plt.xticks(range(11), ['RRLyrab', 'RRLyrc', 'Algol1', 'Algol2', \n",
    "            'CB', 'DScuti', 'LPVar', 'HBeat', 'BLHer', \n",
    "            'AnomCephei', 'Other'], rotation=40)\n",
    "plt.ylabel('Stetson index K')\n",
    "plt.title('Values of Stetson per class')\n",
    "plt.show()"
   ]
  },
  {
   "cell_type": "code",
   "execution_count": null,
   "metadata": {
    "collapsed": true
   },
   "outputs": [],
   "source": [
    "plt.plot(features['LCtype']+np.random.random(len(features))*0.1, \n",
    "         features['SmallKurtosis'], '.')\n",
    "plt.xlabel('Variable Type')\n",
    "plt.xticks(range(11), ['RRLyrab', 'RRLyrc', 'Algol1', 'Algol2', \n",
    "            'CB', 'DScuti', 'LPVar', 'HBeat', 'BLHer', \n",
    "            'AnomCephei', 'Other'], rotation=40)\n",
    "plt.ylabel('Small Kurtosis')"
   ]
  },
  {
   "cell_type": "code",
   "execution_count": null,
   "metadata": {
    "collapsed": true,
    "scrolled": false
   },
   "outputs": [],
   "source": [
    "plt.plot(features['LCtype']+np.random.random(len(features))*0.1, \n",
    "         np.log10(features['P']), '.')\n",
    "plt.xlabel('Variable Type')\n",
    "plt.xticks(range(11), ['RRLyrab', 'RRLyrc', 'Algol1', 'Algol2', \n",
    "            'CB', 'DScuti', 'LPVar', 'HBeat', 'BLHer', \n",
    "            'AnomCephei', 'Other'], rotation=40)\n",
    "plt.ylabel('Period')"
   ]
  },
  {
   "cell_type": "code",
   "execution_count": null,
   "metadata": {
    "collapsed": true
   },
   "outputs": [],
   "source": [
    "n_t = 18 * 12\n",
    "n_i = 12"
   ]
  },
  {
   "cell_type": "code",
   "execution_count": null,
   "metadata": {
    "collapsed": true
   },
   "outputs": [],
   "source": [
    "plt.figure(figsize=(70, 50))\n",
    "for i in range(60):\n",
    "    plt.subplot(18, 12, i+1)\n",
    "    y, x = from_idx_to_ij(i, n_i)\n",
    "    plt.plot(features['LCtype']+np.random.random(len(features))*0.1, \n",
    "             features['Signature_x_{}_y_{}'.format(x, y)], '.')\n",
    "    plt.xlabel('Variable Type')\n",
    "    plt.xticks(range(11), ['RRLyrab', 'RRLyrc', 'Algol1', 'Algol2', \n",
    "                'CB', 'DScuti', 'LPVar', 'HBeat', 'BLHer', \n",
    "                'AnomCephei', 'Other'], rotation=40)\n",
    "    plt.ylabel('Signature_x_{}_y_{}'.format(x, y))\n",
    "plt.title('Which values for each signature?')\n",
    "plt.savefig('signatures.pdf', dpi=160)"
   ]
  },
  {
   "cell_type": "code",
   "execution_count": null,
   "metadata": {
    "collapsed": true
   },
   "outputs": [],
   "source": [
    "def from_id_to_signature(starid, n_x=18, n_y=12):\n",
    "    signature = np.empty((n_y, n_x))\n",
    "    for x in range(n_x):\n",
    "        for y in range(n_y):\n",
    "            signature[y, x] = features.iloc[starid]['Signature_x_{}_y_{}'.format(x, y)]\n",
    "    return signature"
   ]
  },
  {
   "cell_type": "markdown",
   "metadata": {},
   "source": [
    "Let's keep the most populated lightcurves:"
   ]
  },
  {
   "cell_type": "code",
   "execution_count": null,
   "metadata": {
    "collapsed": true
   },
   "outputs": [],
   "source": [
    "features = features[features['nObs'] < 15]"
   ]
  },
  {
   "cell_type": "code",
   "execution_count": null,
   "metadata": {
    "collapsed": true
   },
   "outputs": [],
   "source": [
    "starid = 328\n",
    "sign = from_id_to_signature(starid)\n",
    "vartype = vartypes[int(features.iloc[starid]['LCtype'])]"
   ]
  },
  {
   "cell_type": "code",
   "execution_count": null,
   "metadata": {
    "collapsed": true
   },
   "outputs": [],
   "source": [
    "plt.figure(figsize=(8, 6))\n",
    "plt.imshow(np.tile(sign,2), origin='lower', cmap='viridis')\n",
    "plt.title(vartype)\n",
    "plt.show()"
   ]
  },
  {
   "cell_type": "code",
   "execution_count": null,
   "metadata": {
    "collapsed": true
   },
   "outputs": [],
   "source": [
    "signature_cols = features.columns[features.columns.str.startswith('Sign')]"
   ]
  },
  {
   "cell_type": "code",
   "execution_count": null,
   "metadata": {
    "collapsed": true
   },
   "outputs": [],
   "source": [
    "no_signature_cols = features.columns[~features.columns.str.startswith('Sign')][2:]"
   ]
  },
  {
   "cell_type": "code",
   "execution_count": null,
   "metadata": {},
   "outputs": [],
   "source": [
    "print no_signature_cols"
   ]
  },
  {
   "cell_type": "code",
   "execution_count": null,
   "metadata": {
    "collapsed": true
   },
   "outputs": [],
   "source": [
    "def experiment(clf, x, y, nfolds=10, printing=False):\n",
    "    skf = StratifiedKFold(n_splits=nfolds)\n",
    "    probabilities = None # np.array([])\n",
    "    predictions = np.array([])\n",
    "    y_testing = np.array([])\n",
    "    \n",
    "    for train, test in skf.split(x, y):\n",
    "        \n",
    "        x_train = x[train]\n",
    "        y_train = y[train]\n",
    "        clf.fit(x_train, y_train)\n",
    "\n",
    "        x_test = x[test]\n",
    "        y_test = y[test]\n",
    "        pr = clf.predict(x_test)\n",
    "        probs = clf.predict_proba(x_test)#[:, 0]\n",
    "        \n",
    "        #if probabilities is not None: print 'probabilities.shape = ',probabilities.shape \n",
    "        #print 'probs.shape = ', probs.shape\n",
    "        #print 'predict.shape = ', pr.shape\n",
    "        probabilities = (\n",
    "            probs if probabilities is None else\n",
    "            np.vstack([probabilities, probs]))\n",
    "        \n",
    "        predictions = np.hstack([predictions, pr])\n",
    "        y_testing = np.hstack([y_testing, y_test])\n",
    "\n",
    "    if printing: \n",
    "        print metrics.classification_report(y_testing, predictions)\n",
    "    fpr, tpr, thresholds = metrics.roc_curve(y_testing, 1.-probabilities[:, 0])\n",
    "    prec_rec_curve = metrics.precision_recall_curve(y_testing, 1.- probabilities[:, 0])\n",
    "    roc_auc = metrics.auc(fpr, tpr)\n",
    "    return {'fpr': fpr, \n",
    "            'tpr': tpr, \n",
    "            'thresh': thresholds, \n",
    "            'roc_auc': roc_auc, \n",
    "            'prec_rec_curve': prec_rec_curve,\n",
    "            'y_test': y_testing, \n",
    "            'predictions': predictions,\n",
    "            'probabilities': probabilities, \n",
    "            'confusion_matrix': metrics.confusion_matrix(y_testing, predictions),\n",
    "            }"
   ]
  },
  {
   "cell_type": "code",
   "execution_count": null,
   "metadata": {
    "collapsed": true
   },
   "outputs": [],
   "source": [
    "rrlyra = features.LCtype == 1\n",
    "rrlyrc = features.LCtype == 2\n",
    "cbinar = features.LCtype == 5"
   ]
  },
  {
   "cell_type": "code",
   "execution_count": null,
   "metadata": {
    "collapsed": true
   },
   "outputs": [],
   "source": [
    "subset = features[rrlyra | cbinar]"
   ]
  },
  {
   "cell_type": "code",
   "execution_count": null,
   "metadata": {
    "collapsed": true
   },
   "outputs": [],
   "source": [
    "X = subset[signature_cols].as_matrix()\n",
    "Y = subset.LCtype.values > 1"
   ]
  },
  {
   "cell_type": "code",
   "execution_count": null,
   "metadata": {},
   "outputs": [],
   "source": [
    "pca = de.PCA(svd_solver='randomized', n_components=10)\n",
    "pca.fit(X)"
   ]
  },
  {
   "cell_type": "code",
   "execution_count": null,
   "metadata": {
    "collapsed": true
   },
   "outputs": [],
   "source": [
    "X_tr = pca.transform(X)"
   ]
  },
  {
   "cell_type": "code",
   "execution_count": null,
   "metadata": {
    "collapsed": true
   },
   "outputs": [],
   "source": [
    "pd.scatter_matrix(pd.DataFrame(X_tr), alpha=0.1, figsize=(12, 12), diagonal='kde')\n",
    "plt.grid()\n",
    "plt.show()"
   ]
  },
  {
   "cell_type": "code",
   "execution_count": null,
   "metadata": {
    "collapsed": true,
    "scrolled": true
   },
   "outputs": [],
   "source": [
    "X_tr.shape"
   ]
  },
  {
   "cell_type": "code",
   "execution_count": null,
   "metadata": {
    "collapsed": true
   },
   "outputs": [],
   "source": [
    "Y.shape"
   ]
  },
  {
   "cell_type": "code",
   "execution_count": null,
   "metadata": {
    "collapsed": true
   },
   "outputs": [],
   "source": [
    "X.shape"
   ]
  },
  {
   "cell_type": "code",
   "execution_count": null,
   "metadata": {},
   "outputs": [],
   "source": [
    "resDtree = experiment(DecisionTreeClassifier(min_samples_leaf=3),\n",
    "                               X_tr, Y, printing=True)"
   ]
  },
  {
   "cell_type": "code",
   "execution_count": null,
   "metadata": {},
   "outputs": [],
   "source": [
    "resRForest = experiment(RandomForestClassifier(n_estimators=1000, min_samples_leaf=12, n_jobs=4, max_features=7),\n",
    "                               X_tr, Y, printing=True)"
   ]
  },
  {
   "cell_type": "code",
   "execution_count": null,
   "metadata": {
    "collapsed": true
   },
   "outputs": [],
   "source": [
    "X_sign = subset[signature_cols].as_matrix()\n",
    "X_nosg = subset[no_signature_cols].as_matrix()"
   ]
  },
  {
   "cell_type": "code",
   "execution_count": null,
   "metadata": {
    "collapsed": true
   },
   "outputs": [],
   "source": [
    "pca = de.PCA(svd_solver='randomized', n_components=6)\n",
    "pca.fit(X_nosg)\n",
    "X_nosg_tr = pca.transform(X_nosg)"
   ]
  },
  {
   "cell_type": "code",
   "execution_count": null,
   "metadata": {
    "collapsed": true
   },
   "outputs": [],
   "source": [
    "pca = de.PCA(svd_solver='randomized', n_components=6)\n",
    "pca.fit(X_sign)\n",
    "X_sign_tr = pca.transform(X_sign)"
   ]
  },
  {
   "cell_type": "code",
   "execution_count": null,
   "metadata": {},
   "outputs": [],
   "source": [
    "resRForest_sign = experiment(RandomForestClassifier(n_estimators=1000,min_samples_leaf=12, \n",
    "                                                    n_jobs=4, max_features=6),\n",
    "                               X_sign_tr, Y, printing=True)"
   ]
  },
  {
   "cell_type": "code",
   "execution_count": null,
   "metadata": {},
   "outputs": [],
   "source": [
    "resRForest_nosg = experiment(RandomForestClassifier(n_estimators=1000,min_samples_leaf=12, \n",
    "                                                    n_jobs=4, max_features=6),\n",
    "                               X_nosg_tr, Y, printing=True)"
   ]
  },
  {
   "cell_type": "code",
   "execution_count": null,
   "metadata": {
    "scrolled": false
   },
   "outputs": [],
   "source": [
    "train, test, labels_train, labels_test = train_test_split(\n",
    "    X_sign, Y, train_size=0.80)\n",
    "\n",
    "def get_bests(probs, n=1):\n",
    "    probs = probs[:,0]\n",
    "    indexes = np.argsort(probs)\n",
    "    return indexes[-n:], indexes[:n]\n",
    "\n",
    "classes = {\n",
    "    \"SVC - Linear Kernel\": \n",
    "        svm.SVC(kernel='linear', probability=True),\n",
    "    \"SVC - Polynomic Kernel\": \n",
    "        svm.SVC(kernel='poly', probability=True),\n",
    "    \"Random Forest\": \n",
    "        RandomForestClassifier(n_estimators=500, criterion=\"entropy\"),\n",
    "    \"KNN\": \n",
    "        KNeighborsClassifier(n_neighbors=3, weights='distance')}\n",
    "\n",
    "for idx, clf_data in enumerate(classes.items()):\n",
    "    cls_name, clf = clf_data\n",
    "    d.display(d.Markdown(\n",
    "        \"### 3.1.{} {} Explanation\".format(idx+1, cls_name)))\n",
    "    \n",
    "    print \"Fitting '{}'...\".format(cls_name)\n",
    "    %time clf.fit(train, labels_train)\n",
    "    \n",
    "    print \"Predicting '{}'...\".format(cls_name)\n",
    "    %time probs = clf.predict_proba(test)\n",
    "    \n",
    "    # finding best observations\n",
    "    best_nv_idx, best_rr_idx =  get_bests(probs)\n",
    "    best_nv, best_rr = (\n",
    "        test[best_nv_idx][0], \n",
    "        test[best_rr_idx][0])\n",
    "    \n",
    "    print \"Explaining '{}'...\".format(cls_name)\n",
    "    explainer = lt.LimeTabularExplainer(\n",
    "        train, feature_names=signature_cols.tolist(), \n",
    "        class_names=[\"RRLyrab\", \"RRLyrc\"], \n",
    "        discretize_continuous=True)\n",
    "    \n",
    "    d.display(d.Markdown(\n",
    "        \"#### {} (Best NV)\".format(cls_name)))\n",
    "    exp = explainer.explain_instance(\n",
    "        best_nv, clf.predict_proba, num_features=10)\n",
    "    exp.show_in_notebook(show_table=True, show_all=False)\n",
    "    \n",
    "    d.display(d.Markdown(\n",
    "        \"#### {} (Best RR)\".format(cls_name)))\n",
    "    exp = explainer.explain_instance(\n",
    "        best_rr, clf.predict_proba, num_features=10)\n",
    "    exp.show_in_notebook(show_table=True, show_all=False)\n",
    "    d.display(d.Markdown(\"----\"))"
   ]
  },
  {
   "cell_type": "code",
   "execution_count": null,
   "metadata": {
    "scrolled": false
   },
   "outputs": [],
   "source": [
    "train, test, labels_train, labels_test = train_test_split(\n",
    "    X_nosg, Y, train_size=0.80)\n",
    "\n",
    "def get_bests(probs, n=1):\n",
    "    probs = probs[:,0]\n",
    "    indexes = np.argsort(probs)\n",
    "    return indexes[-n:], indexes[:n]\n",
    "\n",
    "classes = {\n",
    "    \"SVC - Linear Kernel\": \n",
    "        svm.SVC(kernel='linear', probability=True),\n",
    "    \"SVC - Polynomic Kernel\": \n",
    "        svm.SVC(kernel='poly', probability=True),\n",
    "    \"Random Forest\": \n",
    "        RandomForestClassifier(n_estimators=500, criterion=\"entropy\"),\n",
    "    \"KNN\": \n",
    "        KNeighborsClassifier(n_neighbors=3, weights='distance')}\n",
    "\n",
    "for idx, clf_data in enumerate(classes.items()):\n",
    "    cls_name, clf = clf_data\n",
    "    d.display(d.Markdown(\n",
    "        \"### 3.1.{} {} Explanation\".format(idx+1, cls_name)))\n",
    "    \n",
    "    print \"Fitting '{}'...\".format(cls_name)\n",
    "    %time clf.fit(train, labels_train)\n",
    "    \n",
    "    print \"Predicting '{}'...\".format(cls_name)\n",
    "    %time probs = clf.predict_proba(test)\n",
    "    \n",
    "    # finding best observations\n",
    "    best_nv_idx, best_rr_idx =  get_bests(probs)\n",
    "    best_nv, best_rr = (\n",
    "        test[best_nv_idx][0], \n",
    "        test[best_rr_idx][0])\n",
    "    \n",
    "    print \"Explaining '{}'...\".format(cls_name)\n",
    "    explainer = lt.LimeTabularExplainer(\n",
    "        train, feature_names=no_signature_cols.tolist(), \n",
    "        class_names=[\"RRLyrab\", \"RRLyrc\"], \n",
    "        discretize_continuous=True)\n",
    "    \n",
    "    d.display(d.Markdown(\n",
    "        \"#### {} (Best NV)\".format(cls_name)))\n",
    "    exp = explainer.explain_instance(\n",
    "        best_nv, clf.predict_proba, num_features=10)\n",
    "    exp.show_in_notebook(show_table=True, show_all=False)\n",
    "    \n",
    "    d.display(d.Markdown(\n",
    "        \"#### {} (Best RR)\".format(cls_name)))\n",
    "    exp = explainer.explain_instance(\n",
    "        best_rr, clf.predict_proba, num_features=10)\n",
    "    exp.show_in_notebook(show_table=True, show_all=False)\n",
    "    d.display(d.Markdown(\"----\"))"
   ]
  },
  {
   "cell_type": "markdown",
   "metadata": {},
   "source": [
    "## True feature selection"
   ]
  },
  {
   "cell_type": "code",
   "execution_count": null,
   "metadata": {
    "collapsed": true
   },
   "outputs": [],
   "source": [
    "from sklearn.feature_selection import SelectPercentile, f_classif, mutual_info_classif, chi2\n"
   ]
  }
 ],
 "metadata": {
  "kernelspec": {
   "display_name": "Python 2",
   "language": "python",
   "name": "python2"
  },
  "language_info": {
   "codemirror_mode": {
    "name": "ipython",
    "version": 2
   },
   "file_extension": ".py",
   "mimetype": "text/x-python",
   "name": "python",
   "nbconvert_exporter": "python",
   "pygments_lexer": "ipython2",
   "version": "2.7.9"
  }
 },
 "nbformat": 4,
 "nbformat_minor": 2
}
