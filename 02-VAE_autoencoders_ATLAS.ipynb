{
 "cells": [
  {
   "cell_type": "code",
   "execution_count": 1,
   "metadata": {},
   "outputs": [],
   "source": [
    "from __future__ import absolute_import\n",
    "from __future__ import division\n",
    "from __future__ import print_function"
   ]
  },
  {
   "cell_type": "code",
   "execution_count": 2,
   "metadata": {},
   "outputs": [],
   "source": [
    "import argparse\n",
    "import os"
   ]
  },
  {
   "cell_type": "code",
   "execution_count": 3,
   "metadata": {},
   "outputs": [],
   "source": [
    "import numpy as np\n",
    "import pandas as pd"
   ]
  },
  {
   "cell_type": "code",
   "execution_count": 4,
   "metadata": {},
   "outputs": [
    {
     "name": "stderr",
     "output_type": "stream",
     "text": [
      "Using TensorFlow backend.\n"
     ]
    }
   ],
   "source": [
    "from keras.layers import Lambda, Input, Dense\n",
    "from keras.models import Model\n",
    "from keras.losses import mse, binary_crossentropy\n",
    "from keras.utils import plot_model\n",
    "from keras import backend as K"
   ]
  },
  {
   "cell_type": "code",
   "execution_count": 5,
   "metadata": {},
   "outputs": [],
   "source": [
    "import tensorflow as tf"
   ]
  },
  {
   "cell_type": "code",
   "execution_count": 6,
   "metadata": {},
   "outputs": [],
   "source": [
    "# use Matplotlib (don't ask)\n",
    "import matplotlib.pyplot as plt\n",
    "%matplotlib inline"
   ]
  },
  {
   "cell_type": "code",
   "execution_count": 7,
   "metadata": {},
   "outputs": [],
   "source": [
    "# reparameterization trick\n",
    "# instead of sampling from Q(z|X), sample eps = N(0,I)\n",
    "# z = z_mean + sqrt(var)*eps\n",
    "def sampling(args):\n",
    "    \"\"\"Reparameterization trick by sampling fr \n",
    "    an isotropic unit Gaussian.\n",
    "    # Arguments:\n",
    "        args (tensor): mean and log of variance of Q(z|X)\n",
    "    # Returns:\n",
    "        z (tensor): sampled latent vector\n",
    "    \"\"\"\n",
    "\n",
    "    z_mean, z_log_var = args\n",
    "    batch = K.shape(z_mean)[0]\n",
    "    dim = K.int_shape(z_mean)[1]\n",
    "    # by default, random_normal has mean=0 and std=1.0\n",
    "    epsilon = K.random_normal(shape=(batch, dim))\n",
    "    return z_mean + K.exp(0.5 * z_log_var) * epsilon\n"
   ]
  },
  {
   "cell_type": "code",
   "execution_count": 8,
   "metadata": {},
   "outputs": [],
   "source": [
    "def plot_results(models,\n",
    "                 data,\n",
    "                 batch_size=128,\n",
    "                 model_name=\"vae_sign\"):\n",
    "    \"\"\"Plots labels and LC ATLAS signatures as function \n",
    "    of 2-dim latent vector\n",
    "    # Arguments:\n",
    "        models (tuple): encoder and decoder models\n",
    "        data (tuple): test data and label\n",
    "        batch_size (int): prediction batch size\n",
    "        model_name (string): which model is using this function\n",
    "    \"\"\"\n",
    "\n",
    "    encoder, decoder = models\n",
    "    x_test, y_test = data\n",
    "    os.makedirs(model_name, exist_ok=True)\n",
    "\n",
    "    filename = os.path.join(model_name, \"vae_mean.png\")\n",
    "    # display a 2D plot of the digit classes in the latent space\n",
    "    z_mean, _, _ = encoder.predict(x_test,\n",
    "                                   batch_size=batch_size)\n",
    "    plt.figure(figsize=(12, 10))\n",
    "    plt.scatter(z_mean[:, 0], z_mean[:, 1], c=y_test)\n",
    "    plt.colorbar()\n",
    "    plt.xlabel(\"z[0]\")\n",
    "    plt.ylabel(\"z[1]\")\n",
    "    plt.savefig(filename)\n",
    "    plt.show()\n",
    "\n",
    "    filename = os.path.join(model_name, \"signs_over_latent.png\")\n",
    "    # display a 30x30 2D manifold of digits\n",
    "    n = 30\n",
    "    sign_size = (18, 12)\n",
    "    figure = np.zeros((digit_size[0] * n, digit_size[1] * n))\n",
    "    # linearly spaced coordinates corresponding to the 2D plot\n",
    "    # of digit classes in the latent space\n",
    "    grid_x = np.linspace(-4, 4, n)\n",
    "    grid_y = np.linspace(-4, 4, n)[::-1]\n",
    "\n",
    "    for i, yi in enumerate(grid_y):\n",
    "        for j, xi in enumerate(grid_x):\n",
    "            z_sample = np.array([[xi, yi]])\n",
    "            x_decoded = decoder.predict(z_sample)\n",
    "            digit = x_decoded[0].reshape(sign_size[0], sign_size[1])\n",
    "            figure[i * sign_size[0]: (i + 1) * sign_size[0],\n",
    "                   j * sign_size[1]: (j + 1) * sign_size[1]] = digit\n",
    "\n",
    "    plt.figure(figsize=(10, 10))\n",
    "    start_range = sign_size[0] // 2\n",
    "    end_range = n * sign_size[0] + start_range + 1\n",
    "    pixel_range = np.arange(start_range, end_range, sign_size[0])\n",
    "    sample_range_x = np.round(grid_x, 1)\n",
    "    sample_range_y = np.round(grid_y, 1)\n",
    "    plt.xticks(pixel_range, sample_range_x)\n",
    "    plt.yticks(pixel_range, sample_range_y)\n",
    "    plt.xlabel(\"z[0]\")\n",
    "    plt.ylabel(\"z[1]\")\n",
    "    plt.imshow(figure, cmap='Greys_r')\n",
    "    plt.savefig(filename)\n",
    "    plt.show()"
   ]
  },
  {
   "cell_type": "code",
   "execution_count": 9,
   "metadata": {},
   "outputs": [],
   "source": [
    "image_size = (18, 12)\n",
    "original_dim = image_size[0] * image_size[1]\n",
    "#x_train = np.reshape(x_train, [-1, original_dim])\n",
    "#x_test = np.reshape(x_test, [-1, original_dim])\n",
    "#x_train = x_train.astype('float32') / 255\n",
    "#x_test = x_test.astype('float32') / 255"
   ]
  },
  {
   "cell_type": "code",
   "execution_count": 10,
   "metadata": {},
   "outputs": [],
   "source": [
    "input_shape = (original_dim, )\n",
    "intermediate_dim = 512\n",
    "batch_size = 128\n",
    "latent_dim = 2\n",
    "epochs = 50"
   ]
  },
  {
   "cell_type": "code",
   "execution_count": 11,
   "metadata": {},
   "outputs": [],
   "source": [
    "# VAE model = encoder + decoder\n",
    "# build encoder model\n",
    "inputs = Input(shape=input_shape, name='encoder_input')\n",
    "x = Dense(intermediate_dim, activation='relu')(inputs)\n",
    "z_mean = Dense(latent_dim, name='z_mean')(x)\n",
    "z_log_var = Dense(latent_dim, name='z_log_var')(x)"
   ]
  },
  {
   "cell_type": "code",
   "execution_count": 12,
   "metadata": {},
   "outputs": [],
   "source": [
    "# use reparameterization trick to push the sampling out as input\n",
    "# note that \"output_shape\" isn't necessary with the TensorFlow backend\n",
    "z = Lambda(sampling, output_shape=(latent_dim,), name='z')([z_mean, z_log_var])"
   ]
  },
  {
   "cell_type": "code",
   "execution_count": 13,
   "metadata": {},
   "outputs": [
    {
     "name": "stdout",
     "output_type": "stream",
     "text": [
      "__________________________________________________________________________________________________\n",
      "Layer (type)                    Output Shape         Param #     Connected to                     \n",
      "==================================================================================================\n",
      "encoder_input (InputLayer)      (None, 216)          0                                            \n",
      "__________________________________________________________________________________________________\n",
      "dense_1 (Dense)                 (None, 512)          111104      encoder_input[0][0]              \n",
      "__________________________________________________________________________________________________\n",
      "z_mean (Dense)                  (None, 2)            1026        dense_1[0][0]                    \n",
      "__________________________________________________________________________________________________\n",
      "z_log_var (Dense)               (None, 2)            1026        dense_1[0][0]                    \n",
      "__________________________________________________________________________________________________\n",
      "z (Lambda)                      (None, 2)            0           z_mean[0][0]                     \n",
      "                                                                 z_log_var[0][0]                  \n",
      "==================================================================================================\n",
      "Total params: 113,156\n",
      "Trainable params: 113,156\n",
      "Non-trainable params: 0\n",
      "__________________________________________________________________________________________________\n"
     ]
    }
   ],
   "source": [
    "# instantiate encoder model\n",
    "encoder = Model(inputs, [z_mean, z_log_var, z], name='encoder')\n",
    "encoder.summary()\n",
    "plot_model(encoder, to_file='vae_mlp_encoder.png', show_shapes=True)"
   ]
  },
  {
   "cell_type": "code",
   "execution_count": 14,
   "metadata": {},
   "outputs": [],
   "source": [
    "# build decoder model\n",
    "latent_inputs = Input(shape=(latent_dim,), name='z_sampling')\n",
    "x = Dense(intermediate_dim, activation='relu')(latent_inputs)\n",
    "outputs = Dense(original_dim, activation='sigmoid')(x)"
   ]
  },
  {
   "cell_type": "code",
   "execution_count": 15,
   "metadata": {},
   "outputs": [
    {
     "name": "stdout",
     "output_type": "stream",
     "text": [
      "_________________________________________________________________\n",
      "Layer (type)                 Output Shape              Param #   \n",
      "=================================================================\n",
      "z_sampling (InputLayer)      (None, 2)                 0         \n",
      "_________________________________________________________________\n",
      "dense_2 (Dense)              (None, 512)               1536      \n",
      "_________________________________________________________________\n",
      "dense_3 (Dense)              (None, 216)               110808    \n",
      "=================================================================\n",
      "Total params: 112,344\n",
      "Trainable params: 112,344\n",
      "Non-trainable params: 0\n",
      "_________________________________________________________________\n"
     ]
    }
   ],
   "source": [
    "# instantiate decoder model\n",
    "decoder = Model(latent_inputs, outputs, name='decoder')\n",
    "decoder.summary()\n",
    "plot_model(decoder, to_file='vae_mlp_decoder.png', show_shapes=True)"
   ]
  },
  {
   "cell_type": "code",
   "execution_count": 16,
   "metadata": {},
   "outputs": [
    {
     "name": "stdout",
     "output_type": "stream",
     "text": [
      "_________________________________________________________________\n",
      "Layer (type)                 Output Shape              Param #   \n",
      "=================================================================\n",
      "encoder_input (InputLayer)   (None, 216)               0         \n",
      "_________________________________________________________________\n",
      "encoder (Model)              [(None, 2), (None, 2), (N 113156    \n",
      "_________________________________________________________________\n",
      "decoder (Model)              (None, 216)               112344    \n",
      "=================================================================\n",
      "Total params: 225,500\n",
      "Trainable params: 225,500\n",
      "Non-trainable params: 0\n",
      "_________________________________________________________________\n"
     ]
    }
   ],
   "source": [
    "# instantiate VAE model\n",
    "outputs = decoder(encoder(inputs)[2])\n",
    "vae = Model(inputs, outputs, name='vae_mlp')\n",
    "vae.summary()"
   ]
  },
  {
   "cell_type": "code",
   "execution_count": null,
   "metadata": {},
   "outputs": [],
   "source": []
  },
  {
   "cell_type": "code",
   "execution_count": 62,
   "metadata": {},
   "outputs": [
    {
     "name": "stdout",
     "output_type": "stream",
     "text": [
      "(?, 18, 12, 16)\n",
      "(?, 9, 6, 16)\n",
      "(?, 9, 6, 8)\n",
      "(?, 3, 3, 8)\n",
      "This is the bottleneck\n",
      "(?, 3, 3, 8)\n",
      "(?, 9, 6, 8)\n",
      "(?, 9, 6, 16)\n",
      "(?, 18, 12, 16)\n",
      "(?, 18, 12, 1)\n"
     ]
    }
   ],
   "source": [
    "input_img = Input(shape=(18, 12, 1))  # adapt this if using `channels_first` image data format\n",
    "\n",
    "x = Conv2D(16, (3, 3), activation='relu', padding='same')(input_img)\n",
    "print x.shape\n",
    "x = MaxPooling2D((2, 2), padding='same')(x)\n",
    "print x.shape\n",
    "x = Conv2D(8, (3, 3), activation='relu', padding='same')(x)\n",
    "print x.shape\n",
    "#x = MaxPooling2D((3, 2), padding='same')(x)\n",
    "#print x.shape\n",
    "#x = Conv2D(8, (3, 2), activation='relu', padding='same')(x)\n",
    "#print x.shape\n",
    "encoded = MaxPooling2D((3, 2), padding='same')(x)\n",
    "print encoded.shape\n",
    "\n",
    "# at this point the representation is ### altered(3, 3, 8) i.e. 128-dimensional\n",
    "print 'This is the bottleneck'\n",
    "\n",
    "x = Conv2D(8, (3, 3), activation='relu', padding='same')(encoded)\n",
    "print x.shape\n",
    "x = UpSampling2D((3, 2))(x)\n",
    "print x.shape\n",
    "#x = Conv2D(8, (2, 2), activation='relu', padding='same')(x)\n",
    "#x = UpSampling2D((2, 2))(x)\n",
    "x = Conv2D(16, (3, 3), activation='relu', padding='same')(x)\n",
    "print x.shape\n",
    "x = UpSampling2D((2, 2))(x)\n",
    "print x.shape\n",
    "decoded = Conv2D(1, (3, 3), activation='sigmoid', padding='same')(x)\n",
    "print decoded.shape\n",
    "\n",
    "autoencoder = Model(input_img, decoded)"
   ]
  },
  {
   "cell_type": "code",
   "execution_count": 63,
   "metadata": {
    "collapsed": true
   },
   "outputs": [],
   "source": [
    "# this model maps an input to its encoded representation\n",
    "encoder = Model(input_img, encoded)\n",
    "\n",
    "# create a placeholder for an encoded (32-dimensional) input\n",
    "encoded_input = Input(shape=(3, 3, 8))\n",
    "# retrieve the last layer of the autoencoder model\n",
    "decoder_layers = autoencoder.layers[-5:]"
   ]
  },
  {
   "cell_type": "code",
   "execution_count": 64,
   "metadata": {
    "collapsed": true
   },
   "outputs": [],
   "source": [
    "composed_model = decoder_layers[0](encoded_input)\n",
    "composed_model = decoder_layers[1](composed_model)\n",
    "composed_model = decoder_layers[2](composed_model)\n",
    "composed_model = decoder_layers[3](composed_model)\n",
    "composed_model = decoder_layers[4](composed_model)"
   ]
  },
  {
   "cell_type": "code",
   "execution_count": 65,
   "metadata": {
    "collapsed": true
   },
   "outputs": [],
   "source": [
    "# create the decoder model\n",
    "decoder = Model(encoded_input, composed_model)\n",
    "\n",
    "autoencoder.compile(optimizer='adadelta', loss='binary_crossentropy')"
   ]
  },
  {
   "cell_type": "code",
   "execution_count": 66,
   "metadata": {
    "collapsed": true
   },
   "outputs": [],
   "source": [
    "df_mira = pd.read_csv('ATLAS_LC/MIRA_features_table.csv')\n",
    "signature_cols = [col for col in df_mira.columns if 'Signature' in col]\n",
    "signature_cols += ['OBJID', 'filter', 'CLASS']\n",
    "df_mira = df_mira[signature_cols]"
   ]
  },
  {
   "cell_type": "code",
   "execution_count": 67,
   "metadata": {
    "collapsed": true
   },
   "outputs": [],
   "source": [
    "df_mpulse = pd.read_csv('ATLAS_LC/MPULSE_features_table.csv')[signature_cols]\n",
    "df_dbf = pd.read_csv('ATLAS_LC/DBF_features_table.csv')[signature_cols]\n",
    "df_lpv = pd.read_csv('ATLAS_LC/LPV_features_table.csv')[signature_cols]\n",
    "df_dbh = pd.read_csv('ATLAS_LC/DBH_features_table.csv')[signature_cols]\n",
    "df_pulse = pd.read_csv('ATLAS_LC/PULSE_features_table.csv')[signature_cols]\n",
    "df_nsine = pd.read_csv('ATLAS_LC/NSINE_features_table.csv')[signature_cols]\n",
    "df_sine = pd.read_csv('ATLAS_LC/SINE_features_table.csv')[signature_cols]\n",
    "df_msine = pd.read_csv('ATLAS_LC/MSINE_features_table.csv')[signature_cols]\n",
    "df_cbh = pd.read_csv('ATLAS_LC/CBH_features_table.csv')[signature_cols]\n",
    "df_cbf = pd.read_csv('ATLAS_LC/CBF_features_table.csv')[signature_cols]\n",
    "df_irr = pd.read_csv('ATLAS_LC/IRR_features_table.csv')[signature_cols]"
   ]
  },
  {
   "cell_type": "code",
   "execution_count": 68,
   "metadata": {
    "collapsed": true
   },
   "outputs": [],
   "source": [
    "full_data = pd.concat([df_mira, df_mpulse, df_dbf, df_lpv, df_dbh, df_pulse, \n",
    "                       df_nsine, df_sine, df_msine, df_cbf, df_cbh], sort=False)\n",
    "signature_cols = [col for col in df_mira.columns if 'Signature' in col]\n",
    "X = full_data[signature_cols].values"
   ]
  },
  {
   "cell_type": "code",
   "execution_count": 69,
   "metadata": {
    "collapsed": true
   },
   "outputs": [],
   "source": [
    "del(df_mira)\n",
    "del(df_dbf)\n",
    "del(df_lpv)\n",
    "del(df_dbh)\n",
    "del(df_pulse)\n",
    "del(df_nsine)\n",
    "del(df_sine)\n",
    "del(df_msine)\n",
    "del(df_cbh)\n",
    "del(df_cbf)\n",
    "del(df_irr)"
   ]
  },
  {
   "cell_type": "code",
   "execution_count": 70,
   "metadata": {
    "collapsed": true
   },
   "outputs": [],
   "source": [
    "data = X.reshape(X.shape[0], 18, 12, 1)"
   ]
  },
  {
   "cell_type": "code",
   "execution_count": 71,
   "metadata": {
    "collapsed": true
   },
   "outputs": [],
   "source": [
    "from sklearn.model_selection import train_test_split"
   ]
  },
  {
   "cell_type": "raw",
   "metadata": {},
   "source": [
    "signature_cols = [col for col in df_mira.columns if 'Signature' in col]\n",
    "data = df_mira[signature_cols].values\n",
    "data = data.reshape(data.shape[0], 18, 12, 1)"
   ]
  },
  {
   "cell_type": "code",
   "execution_count": 75,
   "metadata": {
    "collapsed": true
   },
   "outputs": [],
   "source": [
    "X_train, X_test = train_test_split(data, test_size=0.10, random_state=17)"
   ]
  },
  {
   "cell_type": "code",
   "execution_count": 76,
   "metadata": {},
   "outputs": [
    {
     "name": "stdout",
     "output_type": "stream",
     "text": [
      "(326278, 18, 12, 1)\n",
      "(36254, 18, 12, 1)\n"
     ]
    }
   ],
   "source": [
    "print(X_train.shape)\n",
    "print(X_test.shape)"
   ]
  },
  {
   "cell_type": "code",
   "execution_count": 77,
   "metadata": {
    "collapsed": true
   },
   "outputs": [],
   "source": [
    "from keras.callbacks import TensorBoard"
   ]
  },
  {
   "cell_type": "code",
   "execution_count": 78,
   "metadata": {
    "collapsed": true
   },
   "outputs": [],
   "source": [
    "import os\n",
    "os.environ['CUDA_VISIBLE_DEVICES'] = '1, 2'"
   ]
  },
  {
   "cell_type": "code",
   "execution_count": null,
   "metadata": {},
   "outputs": [
    {
     "name": "stdout",
     "output_type": "stream",
     "text": [
      "Train on 326278 samples, validate on 36254 samples\n",
      "Epoch 1/300\n",
      "326278/326278 [==============================] - 4s 13us/step - loss: -0.5760 - val_loss: -1.0642\n",
      "Epoch 2/300\n",
      "326278/326278 [==============================] - 4s 12us/step - loss: -1.1561 - val_loss: -1.2555\n",
      "Epoch 3/300\n",
      "326278/326278 [==============================] - 4s 11us/step - loss: -1.2855 - val_loss: -1.3310\n",
      "Epoch 4/300\n",
      "326278/326278 [==============================] - 4s 11us/step - loss: -1.3528 - val_loss: -1.3923\n",
      "Epoch 5/300\n",
      "326278/326278 [==============================] - 4s 11us/step - loss: -1.3960 - val_loss: -1.4254\n",
      "Epoch 6/300\n",
      "326278/326278 [==============================] - 4s 11us/step - loss: -1.4267 - val_loss: -1.4458\n",
      "Epoch 7/300\n",
      "326278/326278 [==============================] - 3s 11us/step - loss: -1.4510 - val_loss: -1.4811\n",
      "Epoch 8/300\n",
      "326278/326278 [==============================] - 4s 11us/step - loss: -1.4687 - val_loss: -1.4702\n",
      "Epoch 9/300\n",
      "326278/326278 [==============================] - 4s 11us/step - loss: -1.4846 - val_loss: -1.4849\n",
      "Epoch 10/300\n",
      "326278/326278 [==============================] - 4s 11us/step - loss: -1.4992 - val_loss: -1.4901\n",
      "Epoch 11/300\n",
      "326278/326278 [==============================] - 4s 11us/step - loss: -1.5106 - val_loss: -1.5299\n",
      "Epoch 12/300\n",
      "326278/326278 [==============================] - 3s 11us/step - loss: -1.5216 - val_loss: -1.5337\n",
      "Epoch 13/300\n",
      "326278/326278 [==============================] - 4s 12us/step - loss: -1.5303 - val_loss: -1.5484\n",
      "Epoch 14/300\n",
      "326278/326278 [==============================] - 4s 11us/step - loss: -1.5384 - val_loss: -1.5578\n",
      "Epoch 15/300\n",
      "326278/326278 [==============================] - 4s 12us/step - loss: -1.5459 - val_loss: -1.5601\n",
      "Epoch 16/300\n",
      "326278/326278 [==============================] - 4s 11us/step - loss: -1.5521 - val_loss: -1.5467\n",
      "Epoch 17/300\n",
      "326278/326278 [==============================] - 4s 11us/step - loss: -1.5586 - val_loss: -1.5649\n",
      "Epoch 18/300\n",
      "326278/326278 [==============================] - 4s 11us/step - loss: -1.5636 - val_loss: -1.5644\n",
      "Epoch 19/300\n",
      "326278/326278 [==============================] - 4s 11us/step - loss: -1.5675 - val_loss: -1.5682\n",
      "Epoch 20/300\n",
      "326278/326278 [==============================] - 4s 11us/step - loss: -1.5724 - val_loss: -1.5883\n",
      "Epoch 21/300\n",
      "326278/326278 [==============================] - 4s 11us/step - loss: -1.5792 - val_loss: -1.5894\n",
      "Epoch 22/300\n",
      "326278/326278 [==============================] - 4s 11us/step - loss: -1.5847 - val_loss: -1.6021\n",
      "Epoch 23/300\n",
      "326278/326278 [==============================] - 4s 12us/step - loss: -1.5904 - val_loss: -1.5828\n",
      "Epoch 24/300\n",
      "326278/326278 [==============================] - 4s 12us/step - loss: -1.5944 - val_loss: -1.6157\n",
      "Epoch 25/300\n",
      "326278/326278 [==============================] - 4s 11us/step - loss: -1.5984 - val_loss: -1.6030\n",
      "Epoch 26/300\n",
      "326278/326278 [==============================] - 4s 11us/step - loss: -1.6015 - val_loss: -1.6035\n",
      "Epoch 27/300\n",
      "326278/326278 [==============================] - 4s 11us/step - loss: -1.6048 - val_loss: -1.6155\n",
      "Epoch 28/300\n",
      "326278/326278 [==============================] - 4s 11us/step - loss: -1.6079 - val_loss: -1.6301\n",
      "Epoch 29/300\n",
      "326278/326278 [==============================] - 4s 11us/step - loss: -1.6126 - val_loss: -1.5934\n",
      "Epoch 30/300\n",
      "326278/326278 [==============================] - 4s 11us/step - loss: -1.6175 - val_loss: -1.6159\n",
      "Epoch 31/300\n",
      "326278/326278 [==============================] - 4s 11us/step - loss: -1.6218 - val_loss: -1.6131\n",
      "Epoch 32/300\n",
      "326278/326278 [==============================] - 4s 11us/step - loss: -1.6265 - val_loss: -1.6232\n",
      "Epoch 33/300\n",
      "326278/326278 [==============================] - 3s 11us/step - loss: -1.6306 - val_loss: -1.6406\n",
      "Epoch 34/300\n",
      "326278/326278 [==============================] - 4s 11us/step - loss: -1.6336 - val_loss: -1.6490\n",
      "Epoch 35/300\n",
      "326278/326278 [==============================] - 4s 11us/step - loss: -1.6354 - val_loss: -1.6457\n",
      "Epoch 36/300\n",
      "326278/326278 [==============================] - 4s 11us/step - loss: -1.6387 - val_loss: -1.6512\n",
      "Epoch 37/300\n",
      "326278/326278 [==============================] - 4s 11us/step - loss: -1.6430 - val_loss: -1.6623\n",
      "Epoch 38/300\n",
      "326278/326278 [==============================] - 4s 11us/step - loss: -1.6444 - val_loss: -1.6533\n",
      "Epoch 39/300\n",
      "326278/326278 [==============================] - 4s 11us/step - loss: -1.6470 - val_loss: -1.6675\n",
      "Epoch 40/300\n",
      "326278/326278 [==============================] - 4s 12us/step - loss: -1.6499 - val_loss: -1.6557\n",
      "Epoch 41/300\n",
      "326278/326278 [==============================] - 4s 11us/step - loss: -1.6504 - val_loss: -1.6578\n",
      "Epoch 42/300\n",
      "326278/326278 [==============================] - 4s 11us/step - loss: -1.6522 - val_loss: -1.6674\n",
      "Epoch 43/300\n",
      "326278/326278 [==============================] - 4s 12us/step - loss: -1.6536 - val_loss: -1.6657\n",
      "Epoch 44/300\n",
      "326278/326278 [==============================] - 4s 11us/step - loss: -1.6554 - val_loss: -1.6698\n",
      "Epoch 45/300\n",
      "326278/326278 [==============================] - 4s 12us/step - loss: -1.6566 - val_loss: -1.6742\n",
      "Epoch 46/300\n",
      "326278/326278 [==============================] - 4s 11us/step - loss: -1.6601 - val_loss: -1.6673\n",
      "Epoch 47/300\n",
      "326278/326278 [==============================] - 4s 11us/step - loss: -1.6637 - val_loss: -1.6721\n",
      "Epoch 48/300\n",
      "326278/326278 [==============================] - 4s 11us/step - loss: -1.6651 - val_loss: -1.6643\n",
      "Epoch 49/300\n",
      "326278/326278 [==============================] - 4s 12us/step - loss: -1.6666 - val_loss: -1.6813\n",
      "Epoch 50/300\n",
      "326278/326278 [==============================] - 4s 11us/step - loss: -1.6669 - val_loss: -1.6716\n",
      "Epoch 51/300\n",
      "326278/326278 [==============================] - 4s 11us/step - loss: -1.6671 - val_loss: -1.6640\n",
      "Epoch 52/300\n",
      "326278/326278 [==============================] - 4s 12us/step - loss: -1.6694 - val_loss: -1.6892\n",
      "Epoch 53/300\n",
      "326278/326278 [==============================] - 4s 12us/step - loss: -1.6706 - val_loss: -1.6776\n",
      "Epoch 54/300\n",
      "326278/326278 [==============================] - 4s 12us/step - loss: -1.6714 - val_loss: -1.6559\n",
      "Epoch 55/300\n",
      "326278/326278 [==============================] - 4s 12us/step - loss: -1.6726 - val_loss: -1.6870\n",
      "Epoch 56/300\n",
      "326278/326278 [==============================] - 4s 11us/step - loss: -1.6733 - val_loss: -1.6601\n",
      "Epoch 57/300\n",
      "326278/326278 [==============================] - 4s 12us/step - loss: -1.6736 - val_loss: -1.6752\n",
      "Epoch 58/300\n",
      "326278/326278 [==============================] - 4s 11us/step - loss: -1.6767 - val_loss: -1.6799\n",
      "Epoch 59/300\n",
      "326278/326278 [==============================] - 4s 11us/step - loss: -1.6780 - val_loss: -1.6975\n",
      "Epoch 60/300\n",
      "326278/326278 [==============================] - 4s 11us/step - loss: -1.6789 - val_loss: -1.6831\n",
      "Epoch 61/300\n",
      "326278/326278 [==============================] - 4s 11us/step - loss: -1.6797 - val_loss: -1.6961\n",
      "Epoch 62/300\n",
      "326278/326278 [==============================] - 4s 11us/step - loss: -1.6807 - val_loss: -1.6919\n",
      "Epoch 63/300\n",
      "326278/326278 [==============================] - 4s 12us/step - loss: -1.6817 - val_loss: -1.7000\n",
      "Epoch 64/300\n",
      "326278/326278 [==============================] - 4s 12us/step - loss: -1.6826 - val_loss: -1.6978\n",
      "Epoch 65/300\n",
      "326278/326278 [==============================] - 4s 12us/step - loss: -1.6853 - val_loss: -1.6744\n",
      "Epoch 66/300\n",
      "326278/326278 [==============================] - 4s 11us/step - loss: -1.6861 - val_loss: -1.6735\n",
      "Epoch 67/300\n",
      "326278/326278 [==============================] - 4s 11us/step - loss: -1.6889 - val_loss: -1.6795\n",
      "Epoch 68/300\n",
      "326278/326278 [==============================] - 4s 12us/step - loss: -1.6897 - val_loss: -1.6711\n",
      "Epoch 69/300\n",
      "326278/326278 [==============================] - 4s 11us/step - loss: -1.6928 - val_loss: -1.6902\n",
      "Epoch 70/300\n",
      "326278/326278 [==============================] - 4s 11us/step - loss: -1.6939 - val_loss: -1.7060\n",
      "Epoch 71/300\n",
      "326278/326278 [==============================] - 4s 12us/step - loss: -1.6944 - val_loss: -1.7042\n",
      "Epoch 72/300\n",
      "326278/326278 [==============================] - 4s 11us/step - loss: -1.6947 - val_loss: -1.7080\n",
      "Epoch 73/300\n",
      "326278/326278 [==============================] - 4s 11us/step - loss: -1.6961 - val_loss: -1.7142\n",
      "Epoch 74/300\n",
      "326278/326278 [==============================] - 4s 11us/step - loss: -1.6959 - val_loss: -1.7133\n",
      "Epoch 75/300\n",
      "326278/326278 [==============================] - 4s 11us/step - loss: -1.7005 - val_loss: -1.7178\n",
      "Epoch 76/300\n",
      "326278/326278 [==============================] - 4s 12us/step - loss: -1.6985 - val_loss: -1.7033\n",
      "Epoch 77/300\n",
      "326278/326278 [==============================] - 4s 11us/step - loss: -1.6988 - val_loss: -1.7066\n",
      "Epoch 78/300\n",
      "326278/326278 [==============================] - 4s 11us/step - loss: -1.6983 - val_loss: -1.7147\n",
      "Epoch 79/300\n",
      "326278/326278 [==============================] - 4s 11us/step - loss: -1.7002 - val_loss: -1.7063\n",
      "Epoch 80/300\n",
      "326278/326278 [==============================] - 4s 12us/step - loss: -1.6995 - val_loss: -1.6999\n",
      "Epoch 81/300\n",
      "326278/326278 [==============================] - 4s 11us/step - loss: -1.7011 - val_loss: -1.7110\n",
      "Epoch 82/300\n",
      "326278/326278 [==============================] - 4s 11us/step - loss: -1.7013 - val_loss: -1.7062\n",
      "Epoch 83/300\n",
      "326278/326278 [==============================] - 4s 12us/step - loss: -1.7029 - val_loss: -1.7104\n",
      "Epoch 84/300\n",
      "326278/326278 [==============================] - 4s 11us/step - loss: -1.7028 - val_loss: -1.6912\n",
      "Epoch 85/300\n",
      "326278/326278 [==============================] - 4s 11us/step - loss: -1.7053 - val_loss: -1.7242\n",
      "Epoch 86/300\n",
      "326278/326278 [==============================] - 4s 11us/step - loss: -1.7068 - val_loss: -1.7193\n",
      "Epoch 87/300\n",
      "326278/326278 [==============================] - 4s 11us/step - loss: -1.7078 - val_loss: -1.6992\n",
      "Epoch 88/300\n",
      "326278/326278 [==============================] - 4s 11us/step - loss: -1.7081 - val_loss: -1.7214\n",
      "Epoch 89/300\n",
      "326278/326278 [==============================] - 4s 11us/step - loss: -1.7100 - val_loss: -1.7279\n",
      "Epoch 90/300\n",
      "326278/326278 [==============================] - 4s 11us/step - loss: -1.7103 - val_loss: -1.7285\n",
      "Epoch 91/300\n",
      "326278/326278 [==============================] - 4s 11us/step - loss: -1.7117 - val_loss: -1.7259\n",
      "Epoch 92/300\n",
      "326278/326278 [==============================] - 4s 12us/step - loss: -1.7147 - val_loss: -1.7242\n",
      "Epoch 93/300\n",
      "326278/326278 [==============================] - 4s 12us/step - loss: -1.7146 - val_loss: -1.7251\n",
      "Epoch 94/300\n",
      "326278/326278 [==============================] - 4s 11us/step - loss: -1.7152 - val_loss: -1.7310\n",
      "Epoch 95/300\n",
      "326278/326278 [==============================] - 4s 11us/step - loss: -1.7141 - val_loss: -1.7216\n",
      "Epoch 96/300\n",
      "326278/326278 [==============================] - 4s 12us/step - loss: -1.7165 - val_loss: -1.7356\n",
      "Epoch 97/300\n",
      "326278/326278 [==============================] - 4s 11us/step - loss: -1.7157 - val_loss: -1.7222\n",
      "Epoch 98/300\n",
      "326278/326278 [==============================] - 4s 11us/step - loss: -1.7149 - val_loss: -1.7111\n",
      "Epoch 99/300\n",
      "326278/326278 [==============================] - 4s 12us/step - loss: -1.7198 - val_loss: -1.7280\n",
      "Epoch 100/300\n",
      "326278/326278 [==============================] - 4s 12us/step - loss: -1.7189 - val_loss: -1.7187\n",
      "Epoch 101/300\n",
      "326278/326278 [==============================] - 4s 11us/step - loss: -1.7187 - val_loss: -1.7166\n",
      "Epoch 102/300\n",
      "326278/326278 [==============================] - 4s 11us/step - loss: -1.7196 - val_loss: -1.7191\n",
      "Epoch 103/300\n",
      "326278/326278 [==============================] - 4s 12us/step - loss: -1.7203 - val_loss: -1.7292\n",
      "Epoch 104/300\n",
      "326278/326278 [==============================] - 4s 12us/step - loss: -1.7209 - val_loss: -1.7213\n",
      "Epoch 105/300\n",
      "326278/326278 [==============================] - 4s 11us/step - loss: -1.7218 - val_loss: -1.7200\n",
      "Epoch 106/300\n",
      "326278/326278 [==============================] - 4s 11us/step - loss: -1.7226 - val_loss: -1.7316\n",
      "Epoch 107/300\n",
      "326278/326278 [==============================] - 4s 12us/step - loss: -1.7210 - val_loss: -1.7307\n",
      "Epoch 108/300\n",
      "326278/326278 [==============================] - 4s 11us/step - loss: -1.7220 - val_loss: -1.7276\n",
      "Epoch 109/300\n",
      "326278/326278 [==============================] - 4s 11us/step - loss: -1.7207 - val_loss: -1.7181\n",
      "Epoch 110/300\n",
      "326278/326278 [==============================] - 4s 11us/step - loss: -1.7204 - val_loss: -1.7369\n",
      "Epoch 111/300\n",
      "326278/326278 [==============================] - 4s 12us/step - loss: -1.7211 - val_loss: -1.7425\n",
      "Epoch 112/300\n",
      "326278/326278 [==============================] - 4s 11us/step - loss: -1.7212 - val_loss: -1.7330\n",
      "Epoch 113/300\n",
      "326278/326278 [==============================] - 4s 11us/step - loss: -1.7238 - val_loss: -1.7363\n",
      "Epoch 114/300\n",
      "326278/326278 [==============================] - 4s 12us/step - loss: -1.7245 - val_loss: -1.7296\n",
      "Epoch 115/300\n",
      "326278/326278 [==============================] - 4s 11us/step - loss: -1.7252 - val_loss: -1.7376\n",
      "Epoch 116/300\n",
      "326278/326278 [==============================] - 4s 12us/step - loss: -1.7243 - val_loss: -1.7418\n",
      "Epoch 117/300\n",
      "326278/326278 [==============================] - 4s 12us/step - loss: -1.7253 - val_loss: -1.7440\n",
      "Epoch 118/300\n",
      "326278/326278 [==============================] - 4s 11us/step - loss: -1.7244 - val_loss: -1.7391\n",
      "Epoch 119/300\n",
      "326278/326278 [==============================] - 4s 11us/step - loss: -1.7265 - val_loss: -1.7449\n",
      "Epoch 120/300\n",
      "326278/326278 [==============================] - 4s 12us/step - loss: -1.7269 - val_loss: -1.7296\n",
      "Epoch 121/300\n",
      "326278/326278 [==============================] - 4s 11us/step - loss: -1.7262 - val_loss: -1.7426\n",
      "Epoch 122/300\n",
      "326278/326278 [==============================] - 4s 11us/step - loss: -1.7266 - val_loss: -1.7267\n",
      "Epoch 123/300\n",
      "326278/326278 [==============================] - 4s 12us/step - loss: -1.7273 - val_loss: -1.7389\n",
      "Epoch 124/300\n",
      "326278/326278 [==============================] - 4s 11us/step - loss: -1.7271 - val_loss: -1.7504\n",
      "Epoch 125/300\n",
      "326278/326278 [==============================] - 4s 11us/step - loss: -1.7288 - val_loss: -1.7312\n",
      "Epoch 126/300\n",
      "326278/326278 [==============================] - 4s 11us/step - loss: -1.7308 - val_loss: -1.7568\n",
      "Epoch 127/300\n",
      "326278/326278 [==============================] - 4s 12us/step - loss: -1.7298 - val_loss: -1.7486\n",
      "Epoch 128/300\n",
      "326278/326278 [==============================] - 4s 11us/step - loss: -1.7320 - val_loss: -1.7405\n",
      "Epoch 129/300\n",
      "326278/326278 [==============================] - 4s 11us/step - loss: -1.7305 - val_loss: -1.7091\n",
      "Epoch 130/300\n",
      "326278/326278 [==============================] - 4s 11us/step - loss: -1.7290 - val_loss: -1.7502\n",
      "Epoch 131/300\n",
      "326278/326278 [==============================] - 4s 11us/step - loss: -1.7294 - val_loss: -1.7226\n",
      "Epoch 132/300\n",
      "326278/326278 [==============================] - 4s 12us/step - loss: -1.7313 - val_loss: -1.7329\n",
      "Epoch 133/300\n",
      "326278/326278 [==============================] - 4s 11us/step - loss: -1.7285 - val_loss: -1.7509\n",
      "Epoch 134/300\n",
      "326278/326278 [==============================] - 4s 11us/step - loss: -1.7303 - val_loss: -1.7457\n",
      "Epoch 135/300\n",
      "326278/326278 [==============================] - 4s 11us/step - loss: -1.7319 - val_loss: -1.7429\n",
      "Epoch 136/300\n",
      "326278/326278 [==============================] - 4s 11us/step - loss: -1.7310 - val_loss: -1.7353\n",
      "Epoch 137/300\n",
      "326278/326278 [==============================] - 4s 11us/step - loss: -1.7325 - val_loss: -1.7449\n",
      "Epoch 138/300\n",
      "326278/326278 [==============================] - 4s 11us/step - loss: -1.7360 - val_loss: -1.7510\n",
      "Epoch 139/300\n",
      "326278/326278 [==============================] - 4s 11us/step - loss: -1.7352 - val_loss: -1.7468\n",
      "Epoch 140/300\n",
      "326278/326278 [==============================] - 4s 11us/step - loss: -1.7347 - val_loss: -1.7438\n",
      "Epoch 141/300\n",
      "326278/326278 [==============================] - 4s 11us/step - loss: -1.7359 - val_loss: -1.7441\n",
      "Epoch 142/300\n",
      "326278/326278 [==============================] - 4s 12us/step - loss: -1.7326 - val_loss: -1.7508\n",
      "Epoch 143/300\n",
      "326278/326278 [==============================] - 4s 11us/step - loss: -1.7333 - val_loss: -1.7393\n",
      "Epoch 144/300\n",
      "326278/326278 [==============================] - 4s 11us/step - loss: -1.7326 - val_loss: -1.7311\n",
      "Epoch 145/300\n",
      "326278/326278 [==============================] - 4s 11us/step - loss: -1.7327 - val_loss: -1.7519\n",
      "Epoch 146/300\n",
      "326278/326278 [==============================] - 4s 11us/step - loss: -1.7331 - val_loss: -1.7257\n",
      "Epoch 147/300\n",
      "326278/326278 [==============================] - 4s 11us/step - loss: -1.7327 - val_loss: -1.7338\n",
      "Epoch 148/300\n",
      "326278/326278 [==============================] - 4s 11us/step - loss: -1.7371 - val_loss: -1.7185\n",
      "Epoch 149/300\n",
      "326278/326278 [==============================] - 4s 11us/step - loss: -1.7332 - val_loss: -1.7254\n",
      "Epoch 150/300\n",
      "326278/326278 [==============================] - 4s 11us/step - loss: -1.7343 - val_loss: -1.7422\n",
      "Epoch 151/300\n",
      "326278/326278 [==============================] - 4s 11us/step - loss: -1.7349 - val_loss: -1.7331\n",
      "Epoch 152/300\n",
      "326278/326278 [==============================] - 4s 11us/step - loss: -1.7318 - val_loss: -1.7456\n",
      "Epoch 153/300\n",
      "326278/326278 [==============================] - 4s 12us/step - loss: -1.7338 - val_loss: -1.7491\n",
      "Epoch 154/300\n",
      "326278/326278 [==============================] - 4s 11us/step - loss: -1.7338 - val_loss: -1.7529\n",
      "Epoch 155/300\n",
      "326278/326278 [==============================] - 4s 11us/step - loss: -1.7344 - val_loss: -1.7264\n",
      "Epoch 156/300\n",
      "326278/326278 [==============================] - 4s 12us/step - loss: -1.7357 - val_loss: -1.7286\n",
      "Epoch 157/300\n",
      "326278/326278 [==============================] - 4s 11us/step - loss: -1.7342 - val_loss: -1.7396\n",
      "Epoch 158/300\n",
      "326278/326278 [==============================] - 4s 11us/step - loss: -1.7351 - val_loss: -1.7469\n",
      "Epoch 159/300\n",
      "326278/326278 [==============================] - 4s 12us/step - loss: -1.7361 - val_loss: -1.7528\n",
      "Epoch 160/300\n",
      "326278/326278 [==============================] - 4s 11us/step - loss: -1.7371 - val_loss: -1.7432\n",
      "Epoch 161/300\n",
      "326278/326278 [==============================] - 4s 12us/step - loss: -1.7368 - val_loss: -1.7275\n",
      "Epoch 162/300\n",
      "326278/326278 [==============================] - 4s 12us/step - loss: -1.7381 - val_loss: -1.7380\n",
      "Epoch 163/300\n",
      "326278/326278 [==============================] - 4s 11us/step - loss: -1.7369 - val_loss: -1.7499\n",
      "Epoch 164/300\n",
      "326278/326278 [==============================] - 4s 12us/step - loss: -1.7367 - val_loss: -1.7544\n",
      "Epoch 165/300\n",
      "326278/326278 [==============================] - 4s 12us/step - loss: -1.7385 - val_loss: -1.7345\n",
      "Epoch 166/300\n",
      "326278/326278 [==============================] - 4s 11us/step - loss: -1.7376 - val_loss: -1.7499\n",
      "Epoch 167/300\n",
      "326278/326278 [==============================] - 4s 12us/step - loss: -1.7365 - val_loss: -1.7502\n",
      "Epoch 168/300\n",
      "326278/326278 [==============================] - 4s 11us/step - loss: -1.7361 - val_loss: -1.7547\n",
      "Epoch 169/300\n",
      "326278/326278 [==============================] - 4s 11us/step - loss: -1.7367 - val_loss: -1.7284\n",
      "Epoch 170/300\n",
      "326278/326278 [==============================] - 4s 11us/step - loss: -1.7371 - val_loss: -1.7336\n",
      "Epoch 171/300\n",
      "326278/326278 [==============================] - 4s 11us/step - loss: -1.7401 - val_loss: -1.7578\n",
      "Epoch 172/300\n",
      "326278/326278 [==============================] - 4s 12us/step - loss: -1.7403 - val_loss: -1.7213\n",
      "Epoch 173/300\n",
      "326278/326278 [==============================] - 4s 12us/step - loss: -1.7388 - val_loss: -1.7430\n",
      "Epoch 174/300\n",
      "326278/326278 [==============================] - 4s 11us/step - loss: -1.7385 - val_loss: -1.7598\n",
      "Epoch 175/300\n",
      "326278/326278 [==============================] - 4s 11us/step - loss: -1.7390 - val_loss: -1.7603\n",
      "Epoch 176/300\n",
      "326278/326278 [==============================] - 4s 11us/step - loss: -1.7404 - val_loss: -1.7590\n",
      "Epoch 177/300\n",
      "326278/326278 [==============================] - 4s 12us/step - loss: -1.7433 - val_loss: -1.7463\n",
      "Epoch 178/300\n",
      "326278/326278 [==============================] - 4s 11us/step - loss: -1.7419 - val_loss: -1.7450\n",
      "Epoch 179/300\n",
      "326278/326278 [==============================] - 4s 11us/step - loss: -1.7448 - val_loss: -1.7604\n",
      "Epoch 180/300\n",
      "326278/326278 [==============================] - 4s 11us/step - loss: -1.7419 - val_loss: -1.7543\n",
      "Epoch 181/300\n",
      "326278/326278 [==============================] - 4s 12us/step - loss: -1.7430 - val_loss: -1.7435\n",
      "Epoch 182/300\n",
      "326278/326278 [==============================] - 4s 12us/step - loss: -1.7406 - val_loss: -1.7537\n",
      "Epoch 183/300\n",
      "326278/326278 [==============================] - 4s 11us/step - loss: -1.7422 - val_loss: -1.7317\n",
      "Epoch 184/300\n",
      "326278/326278 [==============================] - 4s 11us/step - loss: -1.7445 - val_loss: -1.7657\n",
      "Epoch 185/300\n",
      "326278/326278 [==============================] - 4s 11us/step - loss: -1.7440 - val_loss: -1.7349\n",
      "Epoch 186/300\n",
      "326278/326278 [==============================] - 4s 11us/step - loss: -1.7415 - val_loss: -1.7657\n",
      "Epoch 187/300\n",
      "326278/326278 [==============================] - 4s 12us/step - loss: -1.7420 - val_loss: -1.7177\n",
      "Epoch 188/300\n",
      "326278/326278 [==============================] - 4s 12us/step - loss: -1.7409 - val_loss: -1.7333\n",
      "Epoch 189/300\n",
      "326278/326278 [==============================] - 4s 11us/step - loss: -1.7412 - val_loss: -1.7595\n",
      "Epoch 190/300\n",
      "326278/326278 [==============================] - 4s 11us/step - loss: -1.7480 - val_loss: -1.7610\n",
      "Epoch 191/300\n",
      "326278/326278 [==============================] - 4s 11us/step - loss: -1.7454 - val_loss: -1.7592\n",
      "Epoch 192/300\n",
      "326278/326278 [==============================] - 4s 11us/step - loss: -1.7439 - val_loss: -1.7383\n",
      "Epoch 193/300\n",
      "326278/326278 [==============================] - 4s 11us/step - loss: -1.7438 - val_loss: -1.7583\n",
      "Epoch 194/300\n",
      "326278/326278 [==============================] - 4s 11us/step - loss: -1.7469 - val_loss: -1.7514\n",
      "Epoch 195/300\n",
      "326278/326278 [==============================] - 4s 11us/step - loss: -1.7461 - val_loss: -1.7606\n",
      "Epoch 196/300\n",
      "326278/326278 [==============================] - 4s 11us/step - loss: -1.7455 - val_loss: -1.7219\n",
      "Epoch 197/300\n",
      "326278/326278 [==============================] - 4s 11us/step - loss: -1.7463 - val_loss: -1.7334\n",
      "Epoch 198/300\n",
      "326278/326278 [==============================] - 4s 11us/step - loss: -1.7451 - val_loss: -1.7650\n",
      "Epoch 199/300\n",
      "326278/326278 [==============================] - 4s 12us/step - loss: -1.7451 - val_loss: -1.7525\n",
      "Epoch 200/300\n",
      "326278/326278 [==============================] - 4s 12us/step - loss: -1.7460 - val_loss: -1.7466\n",
      "Epoch 201/300\n",
      "326278/326278 [==============================] - 4s 11us/step - loss: -1.7441 - val_loss: -1.7490\n",
      "Epoch 202/300\n",
      "326278/326278 [==============================] - 4s 11us/step - loss: -1.7484 - val_loss: -1.7626\n",
      "Epoch 203/300\n",
      "326278/326278 [==============================] - 4s 12us/step - loss: -1.7456 - val_loss: -1.7649\n",
      "Epoch 204/300\n",
      "326278/326278 [==============================] - 4s 11us/step - loss: -1.7480 - val_loss: -1.7398\n",
      "Epoch 205/300\n",
      "326278/326278 [==============================] - 4s 11us/step - loss: -1.7464 - val_loss: -1.7429\n",
      "Epoch 206/300\n",
      "326278/326278 [==============================] - 4s 12us/step - loss: -1.7503 - val_loss: -1.7650\n",
      "Epoch 207/300\n",
      "326278/326278 [==============================] - 4s 11us/step - loss: -1.7475 - val_loss: -1.7631\n",
      "Epoch 208/300\n",
      "326278/326278 [==============================] - 4s 11us/step - loss: -1.7498 - val_loss: -1.7610\n",
      "Epoch 209/300\n",
      "326278/326278 [==============================] - 4s 12us/step - loss: -1.7480 - val_loss: -1.7396\n",
      "Epoch 210/300\n",
      "326278/326278 [==============================] - 4s 11us/step - loss: -1.7477 - val_loss: -1.7629\n",
      "Epoch 211/300\n",
      "326278/326278 [==============================] - 4s 11us/step - loss: -1.7495 - val_loss: -1.7500\n",
      "Epoch 212/300\n",
      "326278/326278 [==============================] - 4s 12us/step - loss: -1.7475 - val_loss: -1.7398\n",
      "Epoch 213/300\n",
      "326278/326278 [==============================] - 4s 11us/step - loss: -1.7474 - val_loss: -1.7444\n",
      "Epoch 214/300\n",
      "326278/326278 [==============================] - 4s 11us/step - loss: -1.7481 - val_loss: -1.7515\n",
      "Epoch 215/300\n",
      "326278/326278 [==============================] - 4s 11us/step - loss: -1.7473 - val_loss: -1.7592\n",
      "Epoch 216/300\n",
      "326278/326278 [==============================] - 4s 11us/step - loss: -1.7479 - val_loss: -1.7574\n",
      "Epoch 217/300\n",
      "326278/326278 [==============================] - 4s 11us/step - loss: -1.7476 - val_loss: -1.7537\n",
      "Epoch 218/300\n",
      "326278/326278 [==============================] - 4s 11us/step - loss: -1.7467 - val_loss: -1.7497\n",
      "Epoch 219/300\n",
      "326278/326278 [==============================] - 4s 12us/step - loss: -1.7494 - val_loss: -1.7582\n",
      "Epoch 220/300\n",
      "326278/326278 [==============================] - 4s 11us/step - loss: -1.7482 - val_loss: -1.7603\n",
      "Epoch 221/300\n",
      "326278/326278 [==============================] - 4s 11us/step - loss: -1.7509 - val_loss: -1.7585\n",
      "Epoch 222/300\n",
      "326278/326278 [==============================] - 4s 11us/step - loss: -1.7492 - val_loss: -1.7519\n",
      "Epoch 223/300\n",
      "326278/326278 [==============================] - 3s 11us/step - loss: -1.7496 - val_loss: -1.7601\n",
      "Epoch 224/300\n",
      "326278/326278 [==============================] - 4s 12us/step - loss: -1.7511 - val_loss: -1.7556\n",
      "Epoch 225/300\n",
      "326278/326278 [==============================] - 4s 11us/step - loss: -1.7483 - val_loss: -1.7522\n",
      "Epoch 226/300\n",
      "326278/326278 [==============================] - 4s 11us/step - loss: -1.7504 - val_loss: -1.7521\n",
      "Epoch 227/300\n",
      "326278/326278 [==============================] - 4s 11us/step - loss: -1.7516 - val_loss: -1.7505\n",
      "Epoch 228/300\n",
      "326278/326278 [==============================] - 4s 11us/step - loss: -1.7514 - val_loss: -1.7526\n",
      "Epoch 229/300\n",
      "326278/326278 [==============================] - 4s 11us/step - loss: -1.7522 - val_loss: -1.7426\n",
      "Epoch 230/300\n",
      "326278/326278 [==============================] - 4s 11us/step - loss: -1.7488 - val_loss: -1.7573\n",
      "Epoch 231/300\n",
      "326278/326278 [==============================] - 4s 12us/step - loss: -1.7484 - val_loss: -1.7532\n",
      "Epoch 232/300\n",
      "326278/326278 [==============================] - 4s 11us/step - loss: -1.7506 - val_loss: -1.7519\n",
      "Epoch 233/300\n",
      "326278/326278 [==============================] - 4s 11us/step - loss: -1.7495 - val_loss: -1.7510\n",
      "Epoch 234/300\n",
      "326278/326278 [==============================] - 4s 11us/step - loss: -1.7494 - val_loss: -1.7398\n",
      "Epoch 235/300\n",
      "326278/326278 [==============================] - 4s 12us/step - loss: -1.7502 - val_loss: -1.7659\n",
      "Epoch 236/300\n",
      "326278/326278 [==============================] - 4s 12us/step - loss: -1.7515 - val_loss: -1.7666\n",
      "Epoch 237/300\n",
      "326278/326278 [==============================] - 4s 11us/step - loss: -1.7507 - val_loss: -1.7401\n",
      "Epoch 238/300\n",
      "215000/326278 [==================>...........] - ETA: 1s - loss: -1.7506"
     ]
    }
   ],
   "source": [
    "#with tf.device(':/gpu:2'):\n",
    "autoencoder.fit(X_train, X_train,\n",
    "                epochs=300,\n",
    "                batch_size=1000,\n",
    "                shuffle=True,\n",
    "                validation_data=(X_test, X_test),\n",
    "                callbacks=[TensorBoard(log_dir='/users/bsanchez/tensorboard_logs/autoencoder')])"
   ]
  },
  {
   "cell_type": "code",
   "execution_count": 84,
   "metadata": {
    "collapsed": true
   },
   "outputs": [],
   "source": [
    "# use Matplotlib (don't ask)\n",
    "import matplotlib.pyplot as plt\n",
    "# encode and decode some lightcurves\n",
    "# note that we take them from the *test* set\n",
    "encoded_imgs = encoder.predict(X_test)\n",
    "decoded_imgs = decoder.predict(encoded_imgs)"
   ]
  },
  {
   "cell_type": "code",
   "execution_count": 85,
   "metadata": {
    "collapsed": true
   },
   "outputs": [],
   "source": [
    "decoded_imgs_full = autoencoder.predict(X_test)"
   ]
  },
  {
   "cell_type": "code",
   "execution_count": 96,
   "metadata": {},
   "outputs": [
    {
     "data": {
      "image/png": "[encoded data removed]",
      "text/plain": [
       "<Figure size 1728x288 with 18 Axes>"
      ]
     },
     "metadata": {},
     "output_type": "display_data"
    }
   ],
   "source": [
    "n = 6  # how many digits we will display\n",
    "plt.figure(figsize=(24, 4))\n",
    "for i in range(n):\n",
    "    # display original\n",
    "    ax = plt.subplot(3, n, i + 1)\n",
    "    j = np.random.randint(0, high=len(X_test))\n",
    "    plt.imshow(X_test[j, :, :, 0].T, cmap='inferno')\n",
    "    \n",
    "    ax.get_xaxis().set_visible(False)\n",
    "    ax.get_yaxis().set_visible(False)\n",
    "\n",
    "    # display reconstruction\n",
    "    ax = plt.subplot(3, n, i + 1 + n)\n",
    "    plt.imshow(decoded_imgs_full[j, :, :, 0].T, cmap='inferno')\n",
    "    ax.get_xaxis().set_visible(False)\n",
    "    ax.get_yaxis().set_visible(False)\n",
    "    \n",
    "    # display encoded view\n",
    "    ax = plt.subplot(3, n, i + 1 + 2*n)\n",
    "    plt.imshow(encoded_imgs[j].reshape(12, 6).T, cmap='inferno')\n",
    "    ax.get_xaxis().set_visible(False)\n",
    "    ax.get_yaxis().set_visible(False)\n",
    "    \n",
    "plt.show()"
   ]
  },
  {
   "cell_type": "code",
   "execution_count": 99,
   "metadata": {},
   "outputs": [
    {
     "data": {
      "text/plain": [
       "(362532, 3, 3, 8)"
      ]
     },
     "execution_count": 99,
     "metadata": {},
     "output_type": "execute_result"
    }
   ],
   "source": [
    "# encode every data \n",
    "encoded_imgs = encoder.predict(data)\n",
    "encoded_imgs.shape"
   ]
  },
  {
   "cell_type": "code",
   "execution_count": 100,
   "metadata": {},
   "outputs": [
    {
     "data": {
      "text/plain": [
       "(362532, 18, 12, 1)"
      ]
     },
     "execution_count": 100,
     "metadata": {},
     "output_type": "execute_result"
    }
   ],
   "source": [
    "decoded_imgs = decoder.predict(encoded_imgs)\n",
    "decoded_imgs.shape"
   ]
  },
  {
   "cell_type": "code",
   "execution_count": 103,
   "metadata": {
    "collapsed": true
   },
   "outputs": [],
   "source": [
    "np.save('deep_encoded_signatures.npy', encoded_imgs)\n",
    "np.save('deep_decoded_signatures.npy', decoded_imgs)"
   ]
  },
  {
   "cell_type": "code",
   "execution_count": null,
   "metadata": {
    "collapsed": true
   },
   "outputs": [],
   "source": []
  }
 ],
 "metadata": {
  "kernelspec": {
   "display_name": "Python 2",
   "language": "python",
   "name": "python2"
  },
  "language_info": {
   "codemirror_mode": {
    "name": "ipython",
    "version": 2
   },
   "file_extension": ".py",
   "mimetype": "text/x-python",
   "name": "python",
   "nbconvert_exporter": "python",
   "pygments_lexer": "ipython2",
   "version": "2.7.15"
  }
 },
 "nbformat": 4,
 "nbformat_minor": 2
}
